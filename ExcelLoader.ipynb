{
 "cells": [
  {
   "cell_type": "code",
   "execution_count": 1,
   "metadata": {},
   "outputs": [
    {
     "ename": "ModuleNotFoundError",
     "evalue": "No module named 'llama_index.excel'",
     "output_type": "error",
     "traceback": [
      "\u001b[0;31m---------------------------------------------------------------------------\u001b[0m",
      "\u001b[0;31mModuleNotFoundError\u001b[0m                       Traceback (most recent call last)",
      "Cell \u001b[0;32mIn[1], line 1\u001b[0m\n\u001b[0;32m----> 1\u001b[0m \u001b[38;5;28;01mfrom\u001b[39;00m \u001b[38;5;21;01mllama_index\u001b[39;00m\u001b[38;5;21;01m.\u001b[39;00m\u001b[38;5;21;01mexcel\u001b[39;00m \u001b[38;5;28;01mimport\u001b[39;00m ExcelLoader\n\u001b[1;32m      3\u001b[0m loader \u001b[38;5;241m=\u001b[39m ExcelLoader(\u001b[38;5;124m\"\u001b[39m\u001b[38;5;124m./Tv_catalogue.xlsx\u001b[39m\u001b[38;5;124m\"\u001b[39m)\n\u001b[1;32m      4\u001b[0m documents \u001b[38;5;241m=\u001b[39m loader\u001b[38;5;241m.\u001b[39mload_data()\n",
      "\u001b[0;31mModuleNotFoundError\u001b[0m: No module named 'llama_index.excel'"
     ]
    }
   ],
   "source": [
    "from llama_index.excel import ExcelLoader\n",
    "\n",
    "loader = ExcelLoader(\"./Tv_catalogue.xlsx\")\n",
    "documents = loader.load_data()"
   ]
  },
  {
   "cell_type": "code",
   "execution_count": 2,
   "metadata": {},
   "outputs": [
    {
     "name": "stdout",
     "output_type": "stream",
     "text": [
      "Requirement already satisfied: llama-index in /home/chandanha/Documents/My_Documents/Excel_data_reader/my_env/lib/python3.11/site-packages (0.10.62)\n",
      "Requirement already satisfied: llama-index-agent-openai<0.3.0,>=0.1.4 in /home/chandanha/Documents/My_Documents/Excel_data_reader/my_env/lib/python3.11/site-packages (from llama-index) (0.2.9)\n",
      "Requirement already satisfied: llama-index-cli<0.2.0,>=0.1.2 in /home/chandanha/Documents/My_Documents/Excel_data_reader/my_env/lib/python3.11/site-packages (from llama-index) (0.1.13)\n",
      "Requirement already satisfied: llama-index-core==0.10.62 in /home/chandanha/Documents/My_Documents/Excel_data_reader/my_env/lib/python3.11/site-packages (from llama-index) (0.10.62)\n",
      "Requirement already satisfied: llama-index-embeddings-openai<0.2.0,>=0.1.5 in /home/chandanha/Documents/My_Documents/Excel_data_reader/my_env/lib/python3.11/site-packages (from llama-index) (0.1.11)\n",
      "Requirement already satisfied: llama-index-indices-managed-llama-cloud>=0.2.0 in /home/chandanha/Documents/My_Documents/Excel_data_reader/my_env/lib/python3.11/site-packages (from llama-index) (0.2.7)\n",
      "Requirement already satisfied: llama-index-legacy<0.10.0,>=0.9.48 in /home/chandanha/Documents/My_Documents/Excel_data_reader/my_env/lib/python3.11/site-packages (from llama-index) (0.9.48)\n",
      "Requirement already satisfied: llama-index-llms-openai<0.2.0,>=0.1.27 in /home/chandanha/Documents/My_Documents/Excel_data_reader/my_env/lib/python3.11/site-packages (from llama-index) (0.1.29)\n",
      "Requirement already satisfied: llama-index-multi-modal-llms-openai<0.2.0,>=0.1.3 in /home/chandanha/Documents/My_Documents/Excel_data_reader/my_env/lib/python3.11/site-packages (from llama-index) (0.1.9)\n",
      "Requirement already satisfied: llama-index-program-openai<0.2.0,>=0.1.3 in /home/chandanha/Documents/My_Documents/Excel_data_reader/my_env/lib/python3.11/site-packages (from llama-index) (0.1.7)\n",
      "Requirement already satisfied: llama-index-question-gen-openai<0.2.0,>=0.1.2 in /home/chandanha/Documents/My_Documents/Excel_data_reader/my_env/lib/python3.11/site-packages (from llama-index) (0.1.3)\n",
      "Requirement already satisfied: llama-index-readers-file<0.2.0,>=0.1.4 in /home/chandanha/Documents/My_Documents/Excel_data_reader/my_env/lib/python3.11/site-packages (from llama-index) (0.1.32)\n",
      "Requirement already satisfied: llama-index-readers-llama-parse>=0.1.2 in /home/chandanha/Documents/My_Documents/Excel_data_reader/my_env/lib/python3.11/site-packages (from llama-index) (0.1.6)\n",
      "Requirement already satisfied: PyYAML>=6.0.1 in /home/chandanha/Documents/My_Documents/Excel_data_reader/my_env/lib/python3.11/site-packages (from llama-index-core==0.10.62->llama-index) (6.0.2)\n",
      "Requirement already satisfied: SQLAlchemy>=1.4.49 in /home/chandanha/Documents/My_Documents/Excel_data_reader/my_env/lib/python3.11/site-packages (from SQLAlchemy[asyncio]>=1.4.49->llama-index-core==0.10.62->llama-index) (2.0.32)\n",
      "Requirement already satisfied: aiohttp<4.0.0,>=3.8.6 in /home/chandanha/Documents/My_Documents/Excel_data_reader/my_env/lib/python3.11/site-packages (from llama-index-core==0.10.62->llama-index) (3.10.1)\n",
      "Requirement already satisfied: dataclasses-json in /home/chandanha/Documents/My_Documents/Excel_data_reader/my_env/lib/python3.11/site-packages (from llama-index-core==0.10.62->llama-index) (0.6.7)\n",
      "Requirement already satisfied: deprecated>=1.2.9.3 in /home/chandanha/Documents/My_Documents/Excel_data_reader/my_env/lib/python3.11/site-packages (from llama-index-core==0.10.62->llama-index) (1.2.14)\n",
      "Requirement already satisfied: dirtyjson<2.0.0,>=1.0.8 in /home/chandanha/Documents/My_Documents/Excel_data_reader/my_env/lib/python3.11/site-packages (from llama-index-core==0.10.62->llama-index) (1.0.8)\n",
      "Requirement already satisfied: fsspec>=2023.5.0 in /home/chandanha/Documents/My_Documents/Excel_data_reader/my_env/lib/python3.11/site-packages (from llama-index-core==0.10.62->llama-index) (2024.6.1)\n",
      "Requirement already satisfied: httpx in /home/chandanha/Documents/My_Documents/Excel_data_reader/my_env/lib/python3.11/site-packages (from llama-index-core==0.10.62->llama-index) (0.27.0)\n",
      "Requirement already satisfied: nest-asyncio<2.0.0,>=1.5.8 in /home/chandanha/Documents/My_Documents/Excel_data_reader/my_env/lib/python3.11/site-packages (from llama-index-core==0.10.62->llama-index) (1.6.0)\n",
      "Requirement already satisfied: networkx>=3.0 in /home/chandanha/Documents/My_Documents/Excel_data_reader/my_env/lib/python3.11/site-packages (from llama-index-core==0.10.62->llama-index) (3.3)\n",
      "Requirement already satisfied: nltk<4.0.0,>=3.8.1 in /home/chandanha/Documents/My_Documents/Excel_data_reader/my_env/lib/python3.11/site-packages (from llama-index-core==0.10.62->llama-index) (3.8.1)\n",
      "Requirement already satisfied: numpy<2.0.0 in /home/chandanha/Documents/My_Documents/Excel_data_reader/my_env/lib/python3.11/site-packages (from llama-index-core==0.10.62->llama-index) (1.26.4)\n",
      "Requirement already satisfied: openai>=1.1.0 in /home/chandanha/Documents/My_Documents/Excel_data_reader/my_env/lib/python3.11/site-packages (from llama-index-core==0.10.62->llama-index) (1.40.1)\n",
      "Requirement already satisfied: pandas in /home/chandanha/Documents/My_Documents/Excel_data_reader/my_env/lib/python3.11/site-packages (from llama-index-core==0.10.62->llama-index) (2.2.2)\n",
      "Requirement already satisfied: pillow>=9.0.0 in /home/chandanha/Documents/My_Documents/Excel_data_reader/my_env/lib/python3.11/site-packages (from llama-index-core==0.10.62->llama-index) (10.4.0)\n",
      "Requirement already satisfied: requests>=2.31.0 in /home/chandanha/Documents/My_Documents/Excel_data_reader/my_env/lib/python3.11/site-packages (from llama-index-core==0.10.62->llama-index) (2.32.3)\n",
      "Requirement already satisfied: tenacity!=8.4.0,<9.0.0,>=8.2.0 in /home/chandanha/Documents/My_Documents/Excel_data_reader/my_env/lib/python3.11/site-packages (from llama-index-core==0.10.62->llama-index) (8.5.0)\n",
      "Requirement already satisfied: tiktoken>=0.3.3 in /home/chandanha/Documents/My_Documents/Excel_data_reader/my_env/lib/python3.11/site-packages (from llama-index-core==0.10.62->llama-index) (0.7.0)\n",
      "Requirement already satisfied: tqdm<5.0.0,>=4.66.1 in /home/chandanha/Documents/My_Documents/Excel_data_reader/my_env/lib/python3.11/site-packages (from llama-index-core==0.10.62->llama-index) (4.66.5)\n",
      "Requirement already satisfied: typing-extensions>=4.5.0 in /home/chandanha/Documents/My_Documents/Excel_data_reader/my_env/lib/python3.11/site-packages (from llama-index-core==0.10.62->llama-index) (4.12.2)\n",
      "Requirement already satisfied: typing-inspect>=0.8.0 in /home/chandanha/Documents/My_Documents/Excel_data_reader/my_env/lib/python3.11/site-packages (from llama-index-core==0.10.62->llama-index) (0.9.0)\n",
      "Requirement already satisfied: wrapt in /home/chandanha/Documents/My_Documents/Excel_data_reader/my_env/lib/python3.11/site-packages (from llama-index-core==0.10.62->llama-index) (1.16.0)\n",
      "Requirement already satisfied: llama-cloud>=0.0.11 in /home/chandanha/Documents/My_Documents/Excel_data_reader/my_env/lib/python3.11/site-packages (from llama-index-indices-managed-llama-cloud>=0.2.0->llama-index) (0.0.12)\n",
      "Requirement already satisfied: beautifulsoup4<5.0.0,>=4.12.3 in /home/chandanha/Documents/My_Documents/Excel_data_reader/my_env/lib/python3.11/site-packages (from llama-index-readers-file<0.2.0,>=0.1.4->llama-index) (4.12.3)\n",
      "Requirement already satisfied: pypdf<5.0.0,>=4.0.1 in /home/chandanha/Documents/My_Documents/Excel_data_reader/my_env/lib/python3.11/site-packages (from llama-index-readers-file<0.2.0,>=0.1.4->llama-index) (4.3.1)\n",
      "Requirement already satisfied: striprtf<0.0.27,>=0.0.26 in /home/chandanha/Documents/My_Documents/Excel_data_reader/my_env/lib/python3.11/site-packages (from llama-index-readers-file<0.2.0,>=0.1.4->llama-index) (0.0.26)\n",
      "Requirement already satisfied: llama-parse>=0.4.0 in /home/chandanha/Documents/My_Documents/Excel_data_reader/my_env/lib/python3.11/site-packages (from llama-index-readers-llama-parse>=0.1.2->llama-index) (0.4.9)\n",
      "Requirement already satisfied: aiohappyeyeballs>=2.3.0 in /home/chandanha/Documents/My_Documents/Excel_data_reader/my_env/lib/python3.11/site-packages (from aiohttp<4.0.0,>=3.8.6->llama-index-core==0.10.62->llama-index) (2.3.5)\n",
      "Requirement already satisfied: aiosignal>=1.1.2 in /home/chandanha/Documents/My_Documents/Excel_data_reader/my_env/lib/python3.11/site-packages (from aiohttp<4.0.0,>=3.8.6->llama-index-core==0.10.62->llama-index) (1.3.1)\n",
      "Requirement already satisfied: attrs>=17.3.0 in /home/chandanha/Documents/My_Documents/Excel_data_reader/my_env/lib/python3.11/site-packages (from aiohttp<4.0.0,>=3.8.6->llama-index-core==0.10.62->llama-index) (24.2.0)\n",
      "Requirement already satisfied: frozenlist>=1.1.1 in /home/chandanha/Documents/My_Documents/Excel_data_reader/my_env/lib/python3.11/site-packages (from aiohttp<4.0.0,>=3.8.6->llama-index-core==0.10.62->llama-index) (1.4.1)\n",
      "Requirement already satisfied: multidict<7.0,>=4.5 in /home/chandanha/Documents/My_Documents/Excel_data_reader/my_env/lib/python3.11/site-packages (from aiohttp<4.0.0,>=3.8.6->llama-index-core==0.10.62->llama-index) (6.0.5)\n",
      "Requirement already satisfied: yarl<2.0,>=1.0 in /home/chandanha/Documents/My_Documents/Excel_data_reader/my_env/lib/python3.11/site-packages (from aiohttp<4.0.0,>=3.8.6->llama-index-core==0.10.62->llama-index) (1.9.4)\n",
      "Requirement already satisfied: soupsieve>1.2 in /home/chandanha/Documents/My_Documents/Excel_data_reader/my_env/lib/python3.11/site-packages (from beautifulsoup4<5.0.0,>=4.12.3->llama-index-readers-file<0.2.0,>=0.1.4->llama-index) (2.5)\n",
      "Requirement already satisfied: pydantic>=1.10 in /home/chandanha/Documents/My_Documents/Excel_data_reader/my_env/lib/python3.11/site-packages (from llama-cloud>=0.0.11->llama-index-indices-managed-llama-cloud>=0.2.0->llama-index) (2.8.2)\n",
      "Requirement already satisfied: anyio in /home/chandanha/Documents/My_Documents/Excel_data_reader/my_env/lib/python3.11/site-packages (from httpx->llama-index-core==0.10.62->llama-index) (4.4.0)\n",
      "Requirement already satisfied: certifi in /home/chandanha/Documents/My_Documents/Excel_data_reader/my_env/lib/python3.11/site-packages (from httpx->llama-index-core==0.10.62->llama-index) (2024.7.4)\n",
      "Requirement already satisfied: httpcore==1.* in /home/chandanha/Documents/My_Documents/Excel_data_reader/my_env/lib/python3.11/site-packages (from httpx->llama-index-core==0.10.62->llama-index) (1.0.5)\n",
      "Requirement already satisfied: idna in /home/chandanha/Documents/My_Documents/Excel_data_reader/my_env/lib/python3.11/site-packages (from httpx->llama-index-core==0.10.62->llama-index) (3.7)\n",
      "Requirement already satisfied: sniffio in /home/chandanha/Documents/My_Documents/Excel_data_reader/my_env/lib/python3.11/site-packages (from httpx->llama-index-core==0.10.62->llama-index) (1.3.1)\n",
      "Requirement already satisfied: h11<0.15,>=0.13 in /home/chandanha/Documents/My_Documents/Excel_data_reader/my_env/lib/python3.11/site-packages (from httpcore==1.*->httpx->llama-index-core==0.10.62->llama-index) (0.14.0)\n",
      "Requirement already satisfied: click in /home/chandanha/Documents/My_Documents/Excel_data_reader/my_env/lib/python3.11/site-packages (from nltk<4.0.0,>=3.8.1->llama-index-core==0.10.62->llama-index) (8.1.7)\n",
      "Requirement already satisfied: joblib in /home/chandanha/Documents/My_Documents/Excel_data_reader/my_env/lib/python3.11/site-packages (from nltk<4.0.0,>=3.8.1->llama-index-core==0.10.62->llama-index) (1.4.2)\n",
      "Requirement already satisfied: regex>=2021.8.3 in /home/chandanha/Documents/My_Documents/Excel_data_reader/my_env/lib/python3.11/site-packages (from nltk<4.0.0,>=3.8.1->llama-index-core==0.10.62->llama-index) (2024.7.24)\n",
      "Requirement already satisfied: distro<2,>=1.7.0 in /home/chandanha/Documents/My_Documents/Excel_data_reader/my_env/lib/python3.11/site-packages (from openai>=1.1.0->llama-index-core==0.10.62->llama-index) (1.9.0)\n",
      "Requirement already satisfied: jiter<1,>=0.4.0 in /home/chandanha/Documents/My_Documents/Excel_data_reader/my_env/lib/python3.11/site-packages (from openai>=1.1.0->llama-index-core==0.10.62->llama-index) (0.5.0)\n",
      "Requirement already satisfied: charset-normalizer<4,>=2 in /home/chandanha/Documents/My_Documents/Excel_data_reader/my_env/lib/python3.11/site-packages (from requests>=2.31.0->llama-index-core==0.10.62->llama-index) (3.3.2)\n",
      "Requirement already satisfied: urllib3<3,>=1.21.1 in /home/chandanha/Documents/My_Documents/Excel_data_reader/my_env/lib/python3.11/site-packages (from requests>=2.31.0->llama-index-core==0.10.62->llama-index) (2.2.2)\n",
      "Requirement already satisfied: greenlet!=0.4.17 in /home/chandanha/Documents/My_Documents/Excel_data_reader/my_env/lib/python3.11/site-packages (from SQLAlchemy>=1.4.49->SQLAlchemy[asyncio]>=1.4.49->llama-index-core==0.10.62->llama-index) (3.0.3)\n",
      "Requirement already satisfied: mypy-extensions>=0.3.0 in /home/chandanha/Documents/My_Documents/Excel_data_reader/my_env/lib/python3.11/site-packages (from typing-inspect>=0.8.0->llama-index-core==0.10.62->llama-index) (1.0.0)\n",
      "Requirement already satisfied: marshmallow<4.0.0,>=3.18.0 in /home/chandanha/Documents/My_Documents/Excel_data_reader/my_env/lib/python3.11/site-packages (from dataclasses-json->llama-index-core==0.10.62->llama-index) (3.21.3)\n",
      "Requirement already satisfied: python-dateutil>=2.8.2 in /home/chandanha/Documents/My_Documents/Excel_data_reader/my_env/lib/python3.11/site-packages (from pandas->llama-index-core==0.10.62->llama-index) (2.9.0.post0)\n",
      "Requirement already satisfied: pytz>=2020.1 in /home/chandanha/Documents/My_Documents/Excel_data_reader/my_env/lib/python3.11/site-packages (from pandas->llama-index-core==0.10.62->llama-index) (2024.1)\n",
      "Requirement already satisfied: tzdata>=2022.7 in /home/chandanha/Documents/My_Documents/Excel_data_reader/my_env/lib/python3.11/site-packages (from pandas->llama-index-core==0.10.62->llama-index) (2024.1)\n",
      "Requirement already satisfied: packaging>=17.0 in /home/chandanha/Documents/My_Documents/Excel_data_reader/my_env/lib/python3.11/site-packages (from marshmallow<4.0.0,>=3.18.0->dataclasses-json->llama-index-core==0.10.62->llama-index) (24.1)\n",
      "Requirement already satisfied: annotated-types>=0.4.0 in /home/chandanha/Documents/My_Documents/Excel_data_reader/my_env/lib/python3.11/site-packages (from pydantic>=1.10->llama-cloud>=0.0.11->llama-index-indices-managed-llama-cloud>=0.2.0->llama-index) (0.7.0)\n",
      "Requirement already satisfied: pydantic-core==2.20.1 in /home/chandanha/Documents/My_Documents/Excel_data_reader/my_env/lib/python3.11/site-packages (from pydantic>=1.10->llama-cloud>=0.0.11->llama-index-indices-managed-llama-cloud>=0.2.0->llama-index) (2.20.1)\n",
      "Requirement already satisfied: six>=1.5 in /home/chandanha/Documents/My_Documents/Excel_data_reader/my_env/lib/python3.11/site-packages (from python-dateutil>=2.8.2->pandas->llama-index-core==0.10.62->llama-index) (1.16.0)\n",
      "Note: you may need to restart the kernel to use updated packages.\n"
     ]
    }
   ],
   "source": [
    "pip install llama-index"
   ]
  },
  {
   "cell_type": "code",
   "execution_count": null,
   "metadata": {},
   "outputs": [],
   "source": [
    "llm = TogetherLLM(model=\"META-LLAMA/LLAMA-3-70B-CHAT-HF\", \n",
    "api_key=\"87cac61702f938de91651d60977c8a2978163b011f9ba6e991f0e954b9c2c2ce\")\n",
    "Settings.llm = llm"
   ]
  }
 ],
 "metadata": {
  "kernelspec": {
   "display_name": "my_env",
   "language": "python",
   "name": "python3"
  },
  "language_info": {
   "codemirror_mode": {
    "name": "ipython",
    "version": 3
   },
   "file_extension": ".py",
   "mimetype": "text/x-python",
   "name": "python",
   "nbconvert_exporter": "python",
   "pygments_lexer": "ipython3",
   "version": "3.11.5"
  }
 },
 "nbformat": 4,
 "nbformat_minor": 2
}
