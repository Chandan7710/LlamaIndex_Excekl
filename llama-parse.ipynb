{
 "cells": [
  {
   "cell_type": "code",
   "execution_count": 24,
   "metadata": {},
   "outputs": [],
   "source": [
    "# %pip install llama-index llama-parse\n",
    "# %pip install --upgrade pip\n",
    "# %pip install llama_index-llms-together\n",
    "# %pip install llama-index\n",
    "# %pip install langchain\n",
    "# %pip list\n",
    "# %pip install -U langchain-community\n",
    "# %pip install sentence-transformers"
   ]
  },
  {
   "cell_type": "code",
   "execution_count": 25,
   "metadata": {},
   "outputs": [],
   "source": [
    "from llama_index.llms.together import TogetherLLM\n",
    "from llama_index.core import Settings\n",
    "from llama_index.core import VectorStoreIndex\n",
    "from llama_parse import LlamaParse\n",
    "# from google.colab import userdata\n",
    "import nest_asyncio\n",
    "import os\n",
    "\n",
    "nest_asyncio.apply()"
   ]
  },
  {
   "cell_type": "code",
   "execution_count": 26,
   "metadata": {},
   "outputs": [
    {
     "name": "stdout",
     "output_type": "stream",
     "text": [
      "Started parsing the file under job_id 157d187b-6ed0-4276-8a10-b5888966c2ae\n"
     ]
    }
   ],
   "source": [
    "LLAMA_CLOUD_API_KEY = \"llx-wL9ha5jpi9ZJJXl6eJHhyudfEpbl3braaUoQsMH3kwKluajm\"\n",
    "parser = LlamaParse(api_key=LLAMA_CLOUD_API_KEY, result_type=\"markdown\",)\n",
    "documents = parser.load_data(\"./Tv_catalogue.xlsx\")"
   ]
  },
  {
   "cell_type": "code",
   "execution_count": 27,
   "metadata": {},
   "outputs": [],
   "source": [
    "llm = TogetherLLM(model=\"META-LLAMA/LLAMA-3-70B-CHAT-HF\", \n",
    "api_key=\"87cac61702f938de91651d60977c8a2978163b011f9ba6e991f0e954b9c2c2ce\")\n",
    "Settings.llm = llm"
   ]
  },
  {
   "cell_type": "code",
   "execution_count": 28,
   "metadata": {},
   "outputs": [],
   "source": [
    "from llama_index.embeddings.langchain import LangchainEmbedding\n",
    "from langchain.embeddings import HuggingFaceEmbeddings\n",
    "\n",
    "SENTENCE_EMBEDDING_MODEL = \"sentence-transformers/all-mpnet-base-v2\"\n",
    "embed_model = LangchainEmbedding(\n",
    "    HuggingFaceEmbeddings(model_name=SENTENCE_EMBEDDING_MODEL))\n",
    "Settings.embed_model = embed_model"
   ]
  },
  {
   "cell_type": "code",
   "execution_count": 29,
   "metadata": {},
   "outputs": [],
   "source": [
    "index = VectorStoreIndex.from_documents(documents)\n",
    "query_engine = index.as_query_engine()"
   ]
  },
  {
   "cell_type": "code",
   "execution_count": 30,
   "metadata": {},
   "outputs": [
    {
     "name": "stdout",
     "output_type": "stream",
     "text": [
      "I can help you by providing information about various TV models from different brands such as Panasonic, Sony, and LG. I can assist you in comparing their features, prices, and specifications to help you make an informed decision when purchasing a TV.\n"
     ]
    }
   ],
   "source": [
    "response = query_engine.query(\"How can you help me\")\n",
    "print(str(response))"
   ]
  },
  {
   "cell_type": "code",
   "execution_count": 31,
   "metadata": {},
   "outputs": [
    {
     "name": "stdout",
     "output_type": "stream",
     "text": [
      "The different TV brands are Sony, Samsung, and LG.\n"
     ]
    }
   ],
   "source": [
    "response = query_engine.query(\"List the different TV brands\")\n",
    "print(str(response))"
   ]
  },
  {
   "cell_type": "code",
   "execution_count": 32,
   "metadata": {},
   "outputs": [
    {
     "data": {
      "text/plain": [
       "Response(response='The different TV brands are Sony, Samsung, and LG.', source_nodes=[NodeWithScore(node=TextNode(id_='f348532b-644c-44fa-920c-b6bc23d476a3', embedding=None, metadata={}, excluded_embed_metadata_keys=[], excluded_llm_metadata_keys=[], relationships={<NodeRelationship.SOURCE: '1'>: RelatedNodeInfo(node_id='26936fd0-b6e3-40b8-8153-2f5b8ee174d0', node_type=<ObjectType.DOCUMENT: '4'>, metadata={}, hash='ff2825b404f1c0f63a1e3740c7ce34b1d334eb810a1a9d8ab42bb3a1c8038323'), <NodeRelationship.PREVIOUS: '2'>: RelatedNodeInfo(node_id='dd061a68-cd29-4e73-b145-a689f4a7ced9', node_type=<ObjectType.TEXT: '1'>, metadata={}, hash='8f6b731048f6e831df5e25669e023b1b8184f369cb65a1454349786b8fbea20a')}, text='790 |55 inch     |LED        |4K                 |2             |3              |Black |20 W              |\\n|Sony     |Sony 55 Inches LED Ultra HD (4K) TV (KD-55X7400H, Black)                |55 Inch LED Ultra HD TV (KD-55X7400H)            |KD-55X7400H   |66,999 |55 inch     |LED        |4K                 |2             |3              |Black |20 W              |\\n|Sony     |Sony 43 Inches Ultra HD (4K) LCD TV (KD-43X8500C, Black)                |43 Inch LCD Ultra HD (4K) TV (KD-43X8500C)       |KD-43X8500C   |85,948 |43 inch     |LED        |4K                 |3             |4              |Black |20 W              |\\n|Sony     |Sony 49 Inches HD Ready LCD Smart TV (KD-49X8300D, Black)               |49 Inch LED Ultra HD (4K) TV (KD-49X8300D)       |KD-49X8300D   |99,999 |49 inch     |LED        |4K                 |3             |4              |Black |20 W              |\\n|Sony     |Sony 55 Inches Ultra HD (4K) LCD TV (KD-55X8200E, Black)                |55 Inch LED Ultra HD (4K) TV (KD-55X8200E)       |KD-55X8200E   |124,900|55 inch     |LED        |4K                 |3             |4              |Black |40 W              |\\n|Sony     |Sony 55 Inches Ultra HD (4K) LED Smart Android TV (55X9000H, Black)     |55-inch 4K HDR LED Android TV (55X9000H)         |KD-55X9000H   |104,990|55 inch     |LED        |4K                 |2             |4              |Black |20W               |\\n|Sony     |Sony 40 Inches Full HD LCD Smart TV (KLV-40W562D, Black)                |40 Inch LED Full HD TV (KLV-40W562D)             |KLV-40W562D   |29,999 |39 inch     |LED        |Full-HD            |2             |2              |Black |30 W              |\\n|Sony     |Sony 43 Inches Full HD LCD TV (KDL-43W800D, Black)                      |43 Inch LED Full HD TV (KDL-43W800D)             |KDL-43W800D   |49,999 |43 inch     |LED        |Full-HD            |2             |4              |Black |10 W x 2          |\\n|Sony     |Sony 40 Inches Full HD LCD Smart TV (KLV-40W672E, Black)                |40 Inch LED Full HD TV (KLV-40W672E)             |KLV-40W672E   |41,499 |40 inch     |LED        |Full-HD            |2             |2              |Black |30 W              |\\n|Sony     |Sony 65 Inches Ultra HD (4K) LCD TV (KD-65X9300E, Black)                |65 Inch LED Ultra HD (4K) TV (KD-65X9300E)       |KD-65X9300E   |179,999|65 inch     |LED        |4K                 |3             |4              |Black |60 W              |\\n|Sony     |Sony 49 Inches Ultra HD (4K) LCD Smart TV (KD-49X7500E, Black)          |49 Inch LED Ultra HD (4K) TV (KD-49X7500E)       |KD-49X7500E   |71,999 |49 inch     |LED        |4K                 |3             |4              |Black |20 W              |', mimetype='text/plain', start_char_idx=8212, end_char_idx=10919, text_template='{metadata_str}\\n\\n{content}', metadata_template='{key}: {value}', metadata_seperator='\\n'), score=0.6228655056994281), NodeWithScore(node=TextNode(id_='3ca86839-f851-40c8-8afe-8712d2d26d7b', embedding=None, metadata={}, excluded_embed_metadata_keys=[], excluded_llm_metadata_keys=[], relationships={<NodeRelationship.SOURCE: '1'>: RelatedNodeInfo(node_id='26936fd0-b6e3-40b8-8153-2f5b8ee174d0', node_type=<ObjectType.DOCUMENT: '4'>, metadata={}, hash='ff2825b404f1c0f63a1e3740c7ce34b1d334eb810a1a9d8ab42bb3a1c8038323'), <NodeRelationship.NEXT: '3'>: RelatedNodeInfo(node_id='4d6c9d54-6314-44ad-a7e2-505fd2600f43', node_type=<ObjectType.TEXT: '1'>, metadata={}, hash='ee497e1ce2025f7b25167d0814a6969011d7b9ca6277e63fdf425c4e2c4b8c40')}, text='|Brand    |Product name                                                            |Model                                            |Model Name    |Price  |Display Size|Screen Type|Resolution Standard|No of USB Port|No of HDMI Port|Color |Speaker Output RMS|\\n|---------|------------------------------------------------------------------------|-------------------------------------------------|--------------|-------|------------|-----------|-------------------|--------------|---------------|------|------------------|\\n|Samsung  |Samsung 43 Inches Full HD LED TV (43J5100, Black)                       |43 Inch LED Full HD TV (43J5100)                 |43J5100       |37,200 |43 inch     |LED        |Full-HD            |2             |2              |Black |16 W              |\\n|Samsung  |Samsung 32 Inches HD Ready LED Smart TV (Series 4 UA32N4305ARXXL, Black)|32 Inch LED HD Ready TV (Series 4 UA32N4305ARXXL)|UA32N4305ARXXL|14,499 |32 inch     |LED        |HD-Ready           |1             |2              |Black |10W               |\\n|Samsung  |Samsung 49 Inches Full HD LED Curved TV (49M6300, Grey)                 |49 Inch LED Full HD TV (49M6300)                 |49M6300       |91,850 |49 inch     |LED        |Full-HD            |2             |3              |Black |20 W              |\\n|Samsung  |Samsung 43 Inches Full HD LED Smart TV (43M5570, Grey)                  |43 Inch LED Full HD TV (43M5570)                 |43M5570       |33,790 |43 inch     |LED        |Full-HD            |2             |3              |Black |20 W              |\\n|Samsung  |Samsung 50 Inches Ultra HD (4K) LED Smart TV (50MU6100, Black)          |50 Inch LED Ultra HD (4K) TV (50MU6100)          |50MU6100      |69,000 |50 inch     |LED        |4K                 |2             |3              |Black |20 W              |\\n|Samsung  |Samsung 75 Inches Ultra HD (4K) LED Smart TV (75MU7000, Black)          |75 Inch LED Ultra HD (4K) TV (75MU7000)          |75MU7000      |599,900|75 inch     |LED        |4K                 |3             |4              |Black |40 W              |\\n|Samsung  |Samsung 65 Inches Ultra HD (4K) LED Smart TV (65MU7500, Silver)         |65 Inch LED Ultra HD (4K) TV (65MU7500)          |65MU7500      |344,900|65 inch     |LED        |4K                 |3             |4              |Silver|40 W              |\\n|Samsung  |Samsung 49 Inches Ultra HD (4K) LED Smart TV (49MU7000, Black)          |49 Inch LED Ultra HD (4K) TV (49MU7000)          |49MU7000      |155,900|49 inch     |LED        |4K                 |3             |4              |Black |40 W              |\\n|Samsung  |Samsung 55 Inches Ultra HD (4K) QLED Curved TV (55Q8C, Black)           |55 Inch QLED Ultra HD (4K) TV (55Q8C)            |55Q8C         |344,900|55 inch     |QLED       |4K                 |3             |4              |Black |60 W              |\\n|Samsung  |Samsung 55 Inches Ultra HD (4K) LED Curved TV (55MU7500, Grey)          |55 Inch LED Ultra HD (4K) TV (55MU7500)          |55MU7500      |229,900|55 inch     |LED        |4K                 |2             |3              |Black |40 W              |\\n|LG       |LG 55 Inches Ultra HD LED Smart TV (55UK6360PTE, Black)                 |55 Inch LED Ultra HD (4K) TV (55UK6360PTE)       |55UK6360PTE   |58,999 |55 inch     |LED        |4K                 |1             |2              |Black |20 W              |\\n|LG       |LG 65 Inches Ultra HD OLED Smart TV (OLED65B8PTA, Grey)                 |65 Inch OLED Ultra HD (4K) TV (OLED65B8PTA)      |OLED65B8PTA   |259,', mimetype='text/plain', start_char_idx=0, end_char_idx=3533, text_template='{metadata_str}\\n\\n{content}', metadata_template='{key}: {value}', metadata_seperator='\\n'), score=0.616821348068697)], metadata={'f348532b-644c-44fa-920c-b6bc23d476a3': {}, '3ca86839-f851-40c8-8afe-8712d2d26d7b': {}})"
      ]
     },
     "execution_count": 32,
     "metadata": {},
     "output_type": "execute_result"
    }
   ],
   "source": [
    "response"
   ]
  },
  {
   "cell_type": "code",
   "execution_count": null,
   "metadata": {},
   "outputs": [],
   "source": []
  }
 ],
 "metadata": {
  "kernelspec": {
   "display_name": "myenv",
   "language": "python",
   "name": "python3"
  },
  "language_info": {
   "codemirror_mode": {
    "name": "ipython",
    "version": 3
   },
   "file_extension": ".py",
   "mimetype": "text/x-python",
   "name": "python",
   "nbconvert_exporter": "python",
   "pygments_lexer": "ipython3",
   "version": "3.11.5"
  }
 },
 "nbformat": 4,
 "nbformat_minor": 2
}
