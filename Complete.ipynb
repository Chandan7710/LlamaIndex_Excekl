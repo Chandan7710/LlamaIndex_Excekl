{
 "cells": [
  {
   "cell_type": "code",
   "execution_count": 1,
   "metadata": {},
   "outputs": [],
   "source": [
    "from llama_index.readers.file import PandasExcelReader\n",
    "import importlib\n",
    "from pathlib import Path\n",
    "\n",
    "base_reader = PandasExcelReader()\n",
    "base_docs = base_reader.load_data(Path(\"Employee_Sample_Data.xlsx\"))"
   ]
  },
  {
   "cell_type": "code",
   "execution_count": 2,
   "metadata": {},
   "outputs": [
    {
     "name": "stderr",
     "output_type": "stream",
     "text": [
      "/home/chandanha/Documents/My_Documents/Excel_data_reader/my_env/lib/python3.11/site-packages/tqdm/auto.py:21: TqdmWarning: IProgress not found. Please update jupyter and ipywidgets. See https://ipywidgets.readthedocs.io/en/stable/user_install.html\n",
      "  from .autonotebook import tqdm as notebook_tqdm\n"
     ]
    }
   ],
   "source": [
    "from llama_index.llms.together import TogetherLLM\n",
    "from llama_index.core import Settings\n",
    "\n",
    "together_llm = TogetherLLM(model=\"meta-llama/Meta-Llama-3.1-70B-Instruct-Turbo\", \n",
    "api_key=\"87cac61702f938de91651d60977c8a2978163b011f9ba6e991f0e954b9c2c2ce\")\n",
    "Settings.llm = together_llm"
   ]
  },
  {
   "cell_type": "code",
   "execution_count": 3,
   "metadata": {},
   "outputs": [],
   "source": [
    "Settings.chunk_size = 1024\n",
    "Settings.chunk_overlap = 100\n",
    "Settings.context_window = 8100"
   ]
  },
  {
   "cell_type": "code",
   "execution_count": 4,
   "metadata": {},
   "outputs": [],
   "source": [
    "from llama_index.embeddings.huggingface import HuggingFaceEmbedding\n",
    "\n",
    "embed_model = HuggingFaceEmbedding(\n",
    "    model_name=\"BAAI/bge-small-en-v1.5\"\n",
    ")\n",
    "Settings.embed_model = embed_model"
   ]
  },
  {
   "cell_type": "code",
   "execution_count": 5,
   "metadata": {},
   "outputs": [],
   "source": [
    "import nest_asyncio\n",
    "nest_asyncio.apply()"
   ]
  },
  {
   "cell_type": "code",
   "execution_count": 6,
   "metadata": {},
   "outputs": [
    {
     "name": "stdout",
     "output_type": "stream",
     "text": [
      "Started parsing the file under job_id c6bdaa59-f9e3-4fca-b0dd-f7517b492474\n"
     ]
    }
   ],
   "source": [
    "from llama_parse import LlamaParse\n",
    "api_key = \"llx-wL9ha5jpi9ZJJXl6eJHhyudfEpbl3braaUoQsMH3kwKluajm\"\n",
    "\n",
    "parser = LlamaParse(\n",
    "    api_key=api_key,\n",
    "    result_type=\"markdown\",\n",
    ")\n",
    "documents = parser.load_data(\"./Tv_catalogue.xlsx\")"
   ]
  },
  {
   "cell_type": "code",
   "execution_count": 7,
   "metadata": {},
   "outputs": [],
   "source": [
    "\n",
    "# %pip install llama-index-vector-stores-faiss"
   ]
  },
  {
   "cell_type": "code",
   "execution_count": 8,
   "metadata": {},
   "outputs": [],
   "source": [
    "# !pip install llama-index"
   ]
  },
  {
   "cell_type": "code",
   "execution_count": 9,
   "metadata": {},
   "outputs": [],
   "source": [
    "from llama_index.core import VectorStoreIndex\n",
    "\n",
    "index = VectorStoreIndex.from_documents(documents)\n",
    "query_engine = index.as_query_engine()"
   ]
  },
  {
   "cell_type": "code",
   "execution_count": 10,
   "metadata": {},
   "outputs": [],
   "source": [
    "# %pip install llama-index-vector-stores-qdrant llama-index-readers-file llama-index-embeddings-fastembed llama-index-llms-openai"
   ]
  },
  {
   "cell_type": "code",
   "execution_count": 11,
   "metadata": {},
   "outputs": [
    {
     "name": "stderr",
     "output_type": "stream",
     "text": [
      "/tmp/ipykernel_16367/319887662.py:16: DeprecationWarning: Call to deprecated class method from_defaults. (ServiceContext is deprecated, please use `llama_index.settings.Settings` instead.) -- Deprecated since version 0.10.0.\n",
      "  service_context = ServiceContext.from_defaults(llm=together_llm, chunk_size=1024, chunk_overlap=100, embed_model=embed_model)\n",
      "WARNING:root:Payload indexes have no effect in the local Qdrant. Please use server Qdrant if you need payload indexes.\n"
     ]
    }
   ],
   "source": [
    "from llama_index.core import (\n",
    "    SimpleDirectoryReader,\n",
    "    StorageContext,\n",
    "    VectorStoreIndex,\n",
    "    ServiceContext,\n",
    ")\n",
    "from llama_index.vector_stores.qdrant import QdrantVectorStore\n",
    "import qdrant_client\n",
    "\n",
    "# Create a folder for local Qdrant Client\n",
    "client = qdrant_client.QdrantClient(path=\"qdrant_excel\")\n",
    "\n",
    "# Create a folder text_collection Qdrant VectorStore\n",
    "text_store = QdrantVectorStore(client=client, collection_name=\"text_collection\")\n",
    "storage_context = StorageContext.from_defaults(vector_store=text_store)\n",
    "service_context = ServiceContext.from_defaults(llm=together_llm, chunk_size=1024, chunk_overlap=100, embed_model=embed_model)\n",
    "\n",
    "# VectorStoreIndex will return index object\n",
    "index2 = VectorStoreIndex.from_documents(documents, embed_model=embed_model, storage_context=storage_context)"
   ]
  },
  {
   "cell_type": "code",
   "execution_count": 12,
   "metadata": {},
   "outputs": [
    {
     "name": "stderr",
     "output_type": "stream",
     "text": [
      "/home/chandanha/Documents/My_Documents/Excel_data_reader/my_env/lib/python3.11/site-packages/transformers/tokenization_utils_base.py:1601: FutureWarning: `clean_up_tokenization_spaces` was not set. It will be set to `True` by default. This behavior will be depracted in transformers v4.45, and will be then set to `False` by default. For more details check this issue: https://github.com/huggingface/transformers/issues/31884\n",
      "  warnings.warn(\n"
     ]
    }
   ],
   "source": [
    "from llama_index.core.postprocessor import SentenceTransformerRerank\n",
    "# Initializing reranking model\n",
    "rerank = SentenceTransformerRerank(model=\"cross-encoder/ms-marco-MiniLM-L-2-v2\", top_n=7)"
   ]
  },
  {
   "cell_type": "code",
   "execution_count": 13,
   "metadata": {},
   "outputs": [],
   "source": [
    "from llama_index.core.llms import ChatMessage, MessageRole\n",
    "from llama_index.core.prompts import ChatPromptTemplate"
   ]
  },
  {
   "cell_type": "code",
   "execution_count": 14,
   "metadata": {},
   "outputs": [],
   "source": [
    "chat_text_qa_msgs = [\n",
    "# Defines the system role message for the chat interaction like guidelines and tone for the AI model.\n",
    "ChatMessage(\n",
    "    role=MessageRole.SYSTEM,\n",
    "    content=(\"\"\"\n",
    "        You are a AI Chatbot assistance to answer the question for the excel data i have given.\n",
    "        Your goal is to answer questions as accurately as possible based on the instructions and context provided.\n",
    "        After answering to the query at the end tell 'Let me Know if You Have any Queries'\n",
    "        If the context is Outside the Excel date Don't answer related to the question.\n",
    "        Just say that, 'The asked question is outside the context of the Excel data, I will answer to the questions related to the excel only'.\n",
    "        If the context is Outside the Excel Don't try to make up an answer.\n",
    "        For general questions like 'How are you?' or 'Who are you?', respond accordingly,\"\"\"\n",
    "    ),\n",
    "),\n",
    "# Defines the system user message for the chat interaction like query and passing relevent chunks to the AI model.\n",
    "ChatMessage(\n",
    "    role=MessageRole.USER,\n",
    "    content=(\n",
    "        \"Context information is below.\\n\"\n",
    "        \"---------------------\\n\"\n",
    "        \"{context_str}\\n\"\n",
    "        \"---------------------\\n\"\n",
    "        \"Given the context information and not prior knowledge, \"\n",
    "        \"answer the question: {query_str} in bullet points or numbered list where appropriate.\\n\"\n",
    "    ),\n",
    "),\n",
    "                    ]"
   ]
  },
  {
   "cell_type": "code",
   "execution_count": 15,
   "metadata": {},
   "outputs": [],
   "source": [
    "text_qa_template = ChatPromptTemplate(chat_text_qa_msgs)"
   ]
  },
  {
   "cell_type": "code",
   "execution_count": 16,
   "metadata": {},
   "outputs": [],
   "source": [
    "query_engine = index2.as_query_engine(similarity_top_k=3, node_postprocessors=[\n",
    "                                                            rerank], text_qa_template=text_qa_template)"
   ]
  },
  {
   "cell_type": "code",
   "execution_count": 17,
   "metadata": {},
   "outputs": [
    {
     "data": {
      "text/plain": [
       "Response(response='I can help you with the following:\\n\\n1. **Answering questions about the TV data**: I can provide information about the TVs listed in the context, such as their prices, display sizes, screen types, resolutions, and other features.\\n2. **Filtering and sorting data**: I can help you filter the data based on specific criteria, such as brand, price range, or screen size, and sort the results in a specific order.\\n3. **Comparing TVs**: I can assist you in comparing the features and prices of different TVs listed in the context.\\n4. **Providing summary statistics**: I can provide summary statistics, such as the average price of TVs from a specific brand or the number of TVs with a certain feature.\\n5. **Answering specific questions**: I can answer specific questions about the data, such as \"What is the price of the Samsung 43 Inches Full HD LED TV?\" or \"Which TV has the highest speaker output RMS?\"\\n\\nLet me know if you have any specific questions or if there\\'s anything else I can help you with!\\n\\nLet me know if you have any queries.', source_nodes=[NodeWithScore(node=TextNode(id_='f300d344-f38e-44cf-b76e-bb8cd47015a8', embedding=None, metadata={}, excluded_embed_metadata_keys=[], excluded_llm_metadata_keys=[], relationships={<NodeRelationship.SOURCE: '1'>: RelatedNodeInfo(node_id='cc7de917-41f4-46f3-8d7e-4a043cc9cebc', node_type=<ObjectType.DOCUMENT: '4'>, metadata={}, hash='ff2825b404f1c0f63a1e3740c7ce34b1d334eb810a1a9d8ab42bb3a1c8038323'), <NodeRelationship.NEXT: '3'>: RelatedNodeInfo(node_id='0b5dc6fe-0a22-41a1-ac88-f0ca8f597c91', node_type=<ObjectType.TEXT: '1'>, metadata={}, hash='21505b245aee5c2278cfaa7fb12b7e7ed3bf2f8b1590deae4a301318c3cb6168')}, text='|Brand    |Product name                                                            |Model                                            |Model Name    |Price  |Display Size|Screen Type|Resolution Standard|No of USB Port|No of HDMI Port|Color |Speaker Output RMS|\\n|---------|------------------------------------------------------------------------|-------------------------------------------------|--------------|-------|------------|-----------|-------------------|--------------|---------------|------|------------------|\\n|Samsung  |Samsung 43 Inches Full HD LED TV (43J5100, Black)                       |43 Inch LED Full HD TV (43J5100)                 |43J5100       |37,200 |43 inch     |LED        |Full-HD            |2             |2              |Black |16 W              |\\n|Samsung  |Samsung 32 Inches HD Ready LED Smart TV (Series 4 UA32N4305ARXXL, Black)|32 Inch LED HD Ready TV (Series 4 UA32N4305ARXXL)|UA32N4305ARXXL|14,499 |32 inch     |LED        |HD-Ready           |1             |2              |Black |10W               |\\n|Samsung  |Samsung 49 Inches Full HD LED Curved TV (49M6300, Grey)                 |49 Inch LED Full HD TV (49M6300)                 |49M6300       |91,850 |49 inch     |LED        |Full-HD            |2             |3              |Black |20 W              |\\n|Samsung  |Samsung 43 Inches Full HD LED Smart TV (43M5570, Grey)                  |43 Inch LED Full HD TV (43M5570)                 |43M5570       |33,790 |43 inch     |LED        |Full-HD            |2             |3              |Black |20 W              |\\n|Samsung  |Samsung 50 Inches Ultra HD (4K) LED Smart TV (50MU6100, Black)          |50 Inch LED Ultra HD (4K) TV (50MU6100)          |50MU6100      |69,000 |50 inch     |LED        |4K                 |2             |3              |Black |20 W              |\\n|Samsung  |Samsung 75 Inches Ultra HD (4K) LED Smart TV (75MU7000, Black)          |75 Inch LED Ultra HD (4K) TV (75MU7000)          |75MU7000      |599,900|75 inch     |LED        |4K                 |3             |4              |Black |40 W              |\\n|Samsung  |Samsung 65 Inches Ultra HD (4K) LED Smart TV (65MU7500, Silver)         |65 Inch LED Ultra HD (4K) TV (65MU7500)          |65MU7500      |344,900|65 inch     |LED        |4K                 |3             |4              |Silver|40 W              |\\n|Samsung  |Samsung 49 Inches Ultra HD (4K) LED Smart TV (49MU7000, Black)          |49 Inch LED Ultra HD (4K) TV (49MU7000)          |49MU7000      |155,900|49 inch     |LED        |4K                 |3             |4              |Black |40 W              |\\n|Samsung  |Samsung 55 Inches Ultra HD (4K) QLED Curved TV (55Q8C, Black)           |55 Inch QLED Ultra HD (4K) TV (55Q8C)            |55Q8C         |344,900|55 inch     |QLED       |4K                 |3             |4              |Black |60 W              |\\n|Samsung  |Samsung 55 Inches Ultra HD (4K) LED Curved TV (55MU7500, Grey)          |55 Inch LED Ultra HD (4K) TV (55MU7500)          |55MU7500      |229,900|55 inch     |LED        |4K                 |2             |3              |Black |40 W              |\\n|LG       |LG 55 Inches Ultra HD LED Smart TV (55UK6360PTE, Black)                 |55 Inch LED Ultra HD (4K) TV (55UK6360PTE)       |55UK6360PTE   |58,999 |55 inch     |LED        |4K                 |1             |2              |Black |20 W              |\\n|LG       |LG 65 Inches Ultra HD OLED Smart TV (OLED65B8PTA, Grey)                 |65 Inch OLED Ultra HD (4K) TV (OLED65B8PTA)      |OLED65B8PTA   |259,', mimetype='text/plain', start_char_idx=0, end_char_idx=3533, text_template='{metadata_str}\\n\\n{content}', metadata_template='{key}: {value}', metadata_seperator='\\n'), score=-9.981083), NodeWithScore(node=TextNode(id_='a21586bd-3df6-4c5e-8013-49fa81f173ca', embedding=None, metadata={}, excluded_embed_metadata_keys=[], excluded_llm_metadata_keys=[], relationships={<NodeRelationship.SOURCE: '1'>: RelatedNodeInfo(node_id='cc7de917-41f4-46f3-8d7e-4a043cc9cebc', node_type=<ObjectType.DOCUMENT: '4'>, metadata={}, hash='ff2825b404f1c0f63a1e3740c7ce34b1d334eb810a1a9d8ab42bb3a1c8038323'), <NodeRelationship.PREVIOUS: '2'>: RelatedNodeInfo(node_id='0b5dc6fe-0a22-41a1-ac88-f0ca8f597c91', node_type=<ObjectType.TEXT: '1'>, metadata={}, hash='21505b245aee5c2278cfaa7fb12b7e7ed3bf2f8b1590deae4a301318c3cb6168'), <NodeRelationship.NEXT: '3'>: RelatedNodeInfo(node_id='565b9f53-34bd-4862-945d-5518df55b6eb', node_type=<ObjectType.TEXT: '1'>, metadata={}, hash='f025221ac7bf045fe02ccde0c6715ac5a84b832f47e5ef9fe3f1b331eb3e7f24')}, text='999 |49 inch     |LED        |Full-HD            |2             |3              |Black |20 W              |\\n|Panasonic|Panasonic 65 Inches Ultra HD (4K) LED Smart TV (TH-65FX800D, Grey)      |65 Inch LED Ultra HD (4K) TV (TH-65FX800D)       |TH-65FX800D   |171,515|65 inch     |LED        |4K                 |3             |4              |Grey  |20 W              |\\n|Panasonic|Panasonic 32 Inches HD Ready LED Stard TV (TH-32ES480DX, Black)         |32 Inch LED HD Ready TV (TH-32ES480DX)           |TH-32ES480DX  |24,990 |32 inch     |LED        |HD-Ready           |2             |2              |Black |20 W              |\\n|Panasonic|Panasonic 32 Inches Full HD LED Smart TV (TH-32FS600D, Black)           |32 Inch LED HD Ready TV (TH-32FS600D)            |TH-32FS600D   |19,499 |32 inch     |LED        |HD-Ready           |2             |3              |Black |20 W              |\\n|Panasonic|Panasonic 55 Inches Ultra HD (4K) LED Smart TV (TH-55FX800D, Grey)      |55 Inch LED Ultra HD (4K) TV (TH-55FX800D)       |TH-55FX800D   |191,621|55 inch     |LED        |4K                 |3             |4              |Black |20 W              |\\n|Panasonic|Panasonic 55 Inches Ultra HD (4K) LED Smart TV (TH-55FX600D, Black)     |55 Inch LED Ultra HD (4K) TV (TH-55FX600D)       |TH-55FX600D   |69,999 |55 inch     |LED        |4K                 |3             |4              |Black |20 W              |\\n|Panasonic|Panasonic 49 Inches Ultra HD (4K) LED Smart TV (TH-49FX730D, Grey)      |49 Inch LED Ultra HD (4K) TV (TH-49FX730D)       |TH-49FX730D   |69,999 |49 inch     |LED        |4K                 |3             |3              |Black |20 W              |\\n|Panasonic|Panasonic 50 Inches Full HD LED Smart TV (TH-50FS600D, Black)           |50 Inch LED Full HD TV (TH-50FS600D)             |TH-50FS600D   |35,000 |50 inch     |LED        |Full-HD            |2             |3              |Black |20 W              |\\n|Panasonic|Panasonic 55 Inches Ultra HD (4K) LED Smart TV (TH-55FX650D, Grey)      |55 Inch LED Ultra HD (4K) TV (TH-55FX650D)       |TH-55FX650D   |64,790 |55 inch     |LED        |4K                 |2             |3              |Black |20 W              |\\n|Sony     |Sony 55 Inches LED Ultra HD (4K) TV (KD-55X7400H, Black)                |55 Inch LED Ultra HD TV (KD-55X7400H)            |KD-55X7400H   |66,999 |55 inch     |LED        |4K                 |2             |3              |Black |20 W              |\\n|Sony     |Sony 43 Inches Ultra HD (4K) LCD TV (KD-43X8500C, Black)                |43 Inch LCD Ultra HD (4K) TV (KD-43X8500C)       |KD-43X8500C   |85,948 |43 inch     |LED        |4K                 |3             |4              |Black |20 W              |\\n|Sony     |Sony 49 Inches HD Ready LCD Smart TV (KD-49X8300D, Black)               |49 Inch LED Ultra HD (4K) TV (KD-49X8300D)       |KD-49X8300D   |99,999 |49 inch     |LED        |4K                 |3             |4              |Black |20 W              |\\n|Sony     |Sony 55 Inches Ultra HD (4K) LCD TV (KD-55X8200E, Black)                |55 Inch LED Ultra HD (4K) TV (KD-55X8200E)       |KD-55X8200E   |124,', mimetype='text/plain', start_char_idx=6132, end_char_idx=9253, text_template='{metadata_str}\\n\\n{content}', metadata_template='{key}: {value}', metadata_seperator='\\n'), score=-10.235338), NodeWithScore(node=TextNode(id_='0b5dc6fe-0a22-41a1-ac88-f0ca8f597c91', embedding=None, metadata={}, excluded_embed_metadata_keys=[], excluded_llm_metadata_keys=[], relationships={<NodeRelationship.SOURCE: '1'>: RelatedNodeInfo(node_id='cc7de917-41f4-46f3-8d7e-4a043cc9cebc', node_type=<ObjectType.DOCUMENT: '4'>, metadata={}, hash='ff2825b404f1c0f63a1e3740c7ce34b1d334eb810a1a9d8ab42bb3a1c8038323'), <NodeRelationship.PREVIOUS: '2'>: RelatedNodeInfo(node_id='f300d344-f38e-44cf-b76e-bb8cd47015a8', node_type=<ObjectType.TEXT: '1'>, metadata={}, hash='223b0e9936913b0a2dd1cfe8b0dfb0055a3df503165eeb00e56f83a5d538b8b8'), <NodeRelationship.NEXT: '3'>: RelatedNodeInfo(node_id='a21586bd-3df6-4c5e-8013-49fa81f173ca', node_type=<ObjectType.TEXT: '1'>, metadata={}, hash='f523e04612cfc6121b4f08f34d26a8941ce8adf6841c6eab5fd05fcc9720dbfb')}, text='999 |55 inch     |LED        |4K                 |1             |2              |Black |20 W              |\\n|LG       |LG 65 Inches Ultra HD OLED Smart TV (OLED65B8PTA, Grey)                 |65 Inch OLED Ultra HD (4K) TV (OLED65B8PTA)      |OLED65B8PTA   |259,350|65 inch     |OLED       |4K                 |1             |3              |Black |40 W              |\\n|LG       |LG 32 Inches HD Ready LED Smart TV (32LK628BPTF)                        |32 Inch LED HD Ready TV (32LK628BPTF)            |32LK628BPTF   |20,990 |32 inch     |LED        |HD-Ready           |1             |3              |Black |35 W              |\\n|LG       |LG 55 Inches Ultra HD LED Smart TV (55UK6500PTC, Black)                 |55 Inch LED Ultra HD (4K) TV (55UK6500PTC)       |55UK6500PTC   |71,462 |55 inch     |LED        |4K                 |2             |4              |Black |20 W              |\\n|LG       |LG 55 Inches Ultra HD (4K) LED Smart TV (55UK7500PTA, Silver)           |55 Inch LED Ultra HD (4K) TV (55UK7500PTA)       |55UK7500PTA   |65,195 |55 inch     |LED        |4K                 |2             |4              |Black |20 W              |\\n|LG       |LG 55 Inches Ultra HD (4K) OLED Smart TV (OLED55B8PTA, Grey)            |55 Inch OLED Ultra HD (4K) TV (OLED55B8PTA)      |OLED55B8PTA   |159,999|55 inch     |OLED       |4K                 |1             |3              |Grey  |40 W              |\\n|LG       |LG 65 Inches Ultra HD (4K) OLED Smart TV (OLED65C8PTA)                  |65 Inch OLED Ultra HD (4K) TV (OLED65C8PTA)      |OLED65C8PTA   |249,999|65 inch     |OLED       |4K                 |1             |2              |Black |40 W              |\\n|LG       |LG 65 Inches Ultra HD (4K) LED Smart TV (65UK7500PTA, Silver)           |65 Inch LED Ultra HD (4K) TV (65UK7500PTA)       |65UK7500PTA   |149,999|65 inch     |LED        |4K                 |2             |4              |Black |20 W              |\\n|LG       |LG 65 Inches Ultra HD (4K) LED Smart TV (65UK6360PTE)                   |65 Inch LED Ultra HD TV (65UK6360PTE)            |65UK6360PTE   |120,999|65 inch     |LED        |Ultra-HD           |2             |3              |Grey  |20 W              |\\n|LG       |LG 43 Inches Ultra HD (4K) LED Smart TV (43UK6360PTE, Black)            |43 Inch LED Ultra HD (4K) TV (43UK6360PTE)       |43UK6360PTE   |36,999 |43 inch     |LED        |4K                 |1             |2              |Black |20 W              |\\n|Panasonic|Panasonic 43 Inches Full HD LED Smart TV (TH-43ES480DX, Black)          |43 Inch LED Full HD TV (TH-43ES480DX)            |TH-43ES480DX  |35,464 |43 inch     |LED        |Full-HD            |2             |2              |Black |20 W              |\\n|Panasonic|Panasonic 49 Inches Full HD LED Smart TV (TH-49ES480DX, Black)          |49 Inch LED Full HD TV (TH-49ES480DX)            |TH-49ES480DX  |42,999 |49 inch     |LED        |Full-HD            |2             |3              |Black |20 W              |\\n|Panasonic|Panasonic 65 Inches Ultra HD (4K) LED Smart TV (TH-65FX800D, Grey)      |65 Inch LED Ultra HD (4K) TV (TH-65FX800D)       |TH-65FX800D   |171,', mimetype='text/plain', start_char_idx=3272, end_char_idx=6393, text_template='{metadata_str}\\n\\n{content}', metadata_template='{key}: {value}', metadata_seperator='\\n'), score=-10.534599)], metadata={'f300d344-f38e-44cf-b76e-bb8cd47015a8': {}, 'a21586bd-3df6-4c5e-8013-49fa81f173ca': {}, '0b5dc6fe-0a22-41a1-ac88-f0ca8f597c91': {}})"
      ]
     },
     "execution_count": 17,
     "metadata": {},
     "output_type": "execute_result"
    }
   ],
   "source": [
    "user_query = \"How can you help me\"\n",
    "response__2 = query_engine.query(user_query)\n",
    "response__2"
   ]
  },
  {
   "cell_type": "code",
   "execution_count": 18,
   "metadata": {},
   "outputs": [
    {
     "data": {
      "text/plain": [
       "Response(response='Based on the provided Excel data, the TV brands available are:\\n\\n1. Samsung\\n2. LG\\n3. Panasonic\\n\\nLet me know if you have any queries.', source_nodes=[NodeWithScore(node=TextNode(id_='67fdb07b-767b-4e07-b4c7-5612450e477f', embedding=None, metadata={}, excluded_embed_metadata_keys=[], excluded_llm_metadata_keys=[], relationships={<NodeRelationship.SOURCE: '1'>: RelatedNodeInfo(node_id='4fedd84d-4b58-4186-a7f6-d2fcd004708d', node_type=<ObjectType.DOCUMENT: '4'>, metadata={}, hash='ff2825b404f1c0f63a1e3740c7ce34b1d334eb810a1a9d8ab42bb3a1c8038323'), <NodeRelationship.NEXT: '3'>: RelatedNodeInfo(node_id='d78a9c08-fd8c-4b43-bc49-305eb27dc4bf', node_type=<ObjectType.TEXT: '1'>, metadata={}, hash='21505b245aee5c2278cfaa7fb12b7e7ed3bf2f8b1590deae4a301318c3cb6168')}, text='|Brand    |Product name                                                            |Model                                            |Model Name    |Price  |Display Size|Screen Type|Resolution Standard|No of USB Port|No of HDMI Port|Color |Speaker Output RMS|\\n|---------|------------------------------------------------------------------------|-------------------------------------------------|--------------|-------|------------|-----------|-------------------|--------------|---------------|------|------------------|\\n|Samsung  |Samsung 43 Inches Full HD LED TV (43J5100, Black)                       |43 Inch LED Full HD TV (43J5100)                 |43J5100       |37,200 |43 inch     |LED        |Full-HD            |2             |2              |Black |16 W              |\\n|Samsung  |Samsung 32 Inches HD Ready LED Smart TV (Series 4 UA32N4305ARXXL, Black)|32 Inch LED HD Ready TV (Series 4 UA32N4305ARXXL)|UA32N4305ARXXL|14,499 |32 inch     |LED        |HD-Ready           |1             |2              |Black |10W               |\\n|Samsung  |Samsung 49 Inches Full HD LED Curved TV (49M6300, Grey)                 |49 Inch LED Full HD TV (49M6300)                 |49M6300       |91,850 |49 inch     |LED        |Full-HD            |2             |3              |Black |20 W              |\\n|Samsung  |Samsung 43 Inches Full HD LED Smart TV (43M5570, Grey)                  |43 Inch LED Full HD TV (43M5570)                 |43M5570       |33,790 |43 inch     |LED        |Full-HD            |2             |3              |Black |20 W              |\\n|Samsung  |Samsung 50 Inches Ultra HD (4K) LED Smart TV (50MU6100, Black)          |50 Inch LED Ultra HD (4K) TV (50MU6100)          |50MU6100      |69,000 |50 inch     |LED        |4K                 |2             |3              |Black |20 W              |\\n|Samsung  |Samsung 75 Inches Ultra HD (4K) LED Smart TV (75MU7000, Black)          |75 Inch LED Ultra HD (4K) TV (75MU7000)          |75MU7000      |599,900|75 inch     |LED        |4K                 |3             |4              |Black |40 W              |\\n|Samsung  |Samsung 65 Inches Ultra HD (4K) LED Smart TV (65MU7500, Silver)         |65 Inch LED Ultra HD (4K) TV (65MU7500)          |65MU7500      |344,900|65 inch     |LED        |4K                 |3             |4              |Silver|40 W              |\\n|Samsung  |Samsung 49 Inches Ultra HD (4K) LED Smart TV (49MU7000, Black)          |49 Inch LED Ultra HD (4K) TV (49MU7000)          |49MU7000      |155,900|49 inch     |LED        |4K                 |3             |4              |Black |40 W              |\\n|Samsung  |Samsung 55 Inches Ultra HD (4K) QLED Curved TV (55Q8C, Black)           |55 Inch QLED Ultra HD (4K) TV (55Q8C)            |55Q8C         |344,900|55 inch     |QLED       |4K                 |3             |4              |Black |60 W              |\\n|Samsung  |Samsung 55 Inches Ultra HD (4K) LED Curved TV (55MU7500, Grey)          |55 Inch LED Ultra HD (4K) TV (55MU7500)          |55MU7500      |229,900|55 inch     |LED        |4K                 |2             |3              |Black |40 W              |\\n|LG       |LG 55 Inches Ultra HD LED Smart TV (55UK6360PTE, Black)                 |55 Inch LED Ultra HD (4K) TV (55UK6360PTE)       |55UK6360PTE   |58,999 |55 inch     |LED        |4K                 |1             |2              |Black |20 W              |\\n|LG       |LG 65 Inches Ultra HD OLED Smart TV (OLED65B8PTA, Grey)                 |65 Inch OLED Ultra HD (4K) TV (OLED65B8PTA)      |OLED65B8PTA   |259,', mimetype='text/plain', start_char_idx=0, end_char_idx=3533, text_template='{metadata_str}\\n\\n{content}', metadata_template='{key}: {value}', metadata_seperator='\\n'), score=-3.2564158), NodeWithScore(node=TextNode(id_='d78a9c08-fd8c-4b43-bc49-305eb27dc4bf', embedding=None, metadata={}, excluded_embed_metadata_keys=[], excluded_llm_metadata_keys=[], relationships={<NodeRelationship.SOURCE: '1'>: RelatedNodeInfo(node_id='4fedd84d-4b58-4186-a7f6-d2fcd004708d', node_type=<ObjectType.DOCUMENT: '4'>, metadata={}, hash='ff2825b404f1c0f63a1e3740c7ce34b1d334eb810a1a9d8ab42bb3a1c8038323'), <NodeRelationship.PREVIOUS: '2'>: RelatedNodeInfo(node_id='67fdb07b-767b-4e07-b4c7-5612450e477f', node_type=<ObjectType.TEXT: '1'>, metadata={}, hash='223b0e9936913b0a2dd1cfe8b0dfb0055a3df503165eeb00e56f83a5d538b8b8'), <NodeRelationship.NEXT: '3'>: RelatedNodeInfo(node_id='2252426e-ebac-40e3-a770-155d77360e93', node_type=<ObjectType.TEXT: '1'>, metadata={}, hash='f523e04612cfc6121b4f08f34d26a8941ce8adf6841c6eab5fd05fcc9720dbfb')}, text='999 |55 inch     |LED        |4K                 |1             |2              |Black |20 W              |\\n|LG       |LG 65 Inches Ultra HD OLED Smart TV (OLED65B8PTA, Grey)                 |65 Inch OLED Ultra HD (4K) TV (OLED65B8PTA)      |OLED65B8PTA   |259,350|65 inch     |OLED       |4K                 |1             |3              |Black |40 W              |\\n|LG       |LG 32 Inches HD Ready LED Smart TV (32LK628BPTF)                        |32 Inch LED HD Ready TV (32LK628BPTF)            |32LK628BPTF   |20,990 |32 inch     |LED        |HD-Ready           |1             |3              |Black |35 W              |\\n|LG       |LG 55 Inches Ultra HD LED Smart TV (55UK6500PTC, Black)                 |55 Inch LED Ultra HD (4K) TV (55UK6500PTC)       |55UK6500PTC   |71,462 |55 inch     |LED        |4K                 |2             |4              |Black |20 W              |\\n|LG       |LG 55 Inches Ultra HD (4K) LED Smart TV (55UK7500PTA, Silver)           |55 Inch LED Ultra HD (4K) TV (55UK7500PTA)       |55UK7500PTA   |65,195 |55 inch     |LED        |4K                 |2             |4              |Black |20 W              |\\n|LG       |LG 55 Inches Ultra HD (4K) OLED Smart TV (OLED55B8PTA, Grey)            |55 Inch OLED Ultra HD (4K) TV (OLED55B8PTA)      |OLED55B8PTA   |159,999|55 inch     |OLED       |4K                 |1             |3              |Grey  |40 W              |\\n|LG       |LG 65 Inches Ultra HD (4K) OLED Smart TV (OLED65C8PTA)                  |65 Inch OLED Ultra HD (4K) TV (OLED65C8PTA)      |OLED65C8PTA   |249,999|65 inch     |OLED       |4K                 |1             |2              |Black |40 W              |\\n|LG       |LG 65 Inches Ultra HD (4K) LED Smart TV (65UK7500PTA, Silver)           |65 Inch LED Ultra HD (4K) TV (65UK7500PTA)       |65UK7500PTA   |149,999|65 inch     |LED        |4K                 |2             |4              |Black |20 W              |\\n|LG       |LG 65 Inches Ultra HD (4K) LED Smart TV (65UK6360PTE)                   |65 Inch LED Ultra HD TV (65UK6360PTE)            |65UK6360PTE   |120,999|65 inch     |LED        |Ultra-HD           |2             |3              |Grey  |20 W              |\\n|LG       |LG 43 Inches Ultra HD (4K) LED Smart TV (43UK6360PTE, Black)            |43 Inch LED Ultra HD (4K) TV (43UK6360PTE)       |43UK6360PTE   |36,999 |43 inch     |LED        |4K                 |1             |2              |Black |20 W              |\\n|Panasonic|Panasonic 43 Inches Full HD LED Smart TV (TH-43ES480DX, Black)          |43 Inch LED Full HD TV (TH-43ES480DX)            |TH-43ES480DX  |35,464 |43 inch     |LED        |Full-HD            |2             |2              |Black |20 W              |\\n|Panasonic|Panasonic 49 Inches Full HD LED Smart TV (TH-49ES480DX, Black)          |49 Inch LED Full HD TV (TH-49ES480DX)            |TH-49ES480DX  |42,999 |49 inch     |LED        |Full-HD            |2             |3              |Black |20 W              |\\n|Panasonic|Panasonic 65 Inches Ultra HD (4K) LED Smart TV (TH-65FX800D, Grey)      |65 Inch LED Ultra HD (4K) TV (TH-65FX800D)       |TH-65FX800D   |171,', mimetype='text/plain', start_char_idx=3272, end_char_idx=6393, text_template='{metadata_str}\\n\\n{content}', metadata_template='{key}: {value}', metadata_seperator='\\n'), score=-6.953436)], metadata={'67fdb07b-767b-4e07-b4c7-5612450e477f': {}, 'd78a9c08-fd8c-4b43-bc49-305eb27dc4bf': {}})"
      ]
     },
     "execution_count": 18,
     "metadata": {},
     "output_type": "execute_result"
    }
   ],
   "source": [
    "user_query = \"List the Tv brands available\"\n",
    "response__2 = query_engine.query(user_query)\n",
    "response__2"
   ]
  },
  {
   "cell_type": "code",
   "execution_count": 19,
   "metadata": {},
   "outputs": [
    {
     "data": {
      "text/plain": [
       "Response(response='Based on the provided Excel data, here are the maximum, minimum, and average prices of the TVs:\\n\\n* Maximum Price: ₹ 599,900 (Samsung 75 Inches Ultra HD (4K) LED Smart TV (75MU7000, Black))\\n* Minimum Price: ₹ 14,499 (Samsung 32 Inches HD Ready LED Smart TV (Series 4 UA32N4305ARXXL, Black))\\n* Average Price: ₹ 143,919.47 (calculated by summing up all the prices and dividing by the total number of TVs)\\n\\nLet me know if you have any queries.', source_nodes=[NodeWithScore(node=TextNode(id_='67fdb07b-767b-4e07-b4c7-5612450e477f', embedding=None, metadata={}, excluded_embed_metadata_keys=[], excluded_llm_metadata_keys=[], relationships={<NodeRelationship.SOURCE: '1'>: RelatedNodeInfo(node_id='4fedd84d-4b58-4186-a7f6-d2fcd004708d', node_type=<ObjectType.DOCUMENT: '4'>, metadata={}, hash='ff2825b404f1c0f63a1e3740c7ce34b1d334eb810a1a9d8ab42bb3a1c8038323'), <NodeRelationship.NEXT: '3'>: RelatedNodeInfo(node_id='d78a9c08-fd8c-4b43-bc49-305eb27dc4bf', node_type=<ObjectType.TEXT: '1'>, metadata={}, hash='21505b245aee5c2278cfaa7fb12b7e7ed3bf2f8b1590deae4a301318c3cb6168')}, text='|Brand    |Product name                                                            |Model                                            |Model Name    |Price  |Display Size|Screen Type|Resolution Standard|No of USB Port|No of HDMI Port|Color |Speaker Output RMS|\\n|---------|------------------------------------------------------------------------|-------------------------------------------------|--------------|-------|------------|-----------|-------------------|--------------|---------------|------|------------------|\\n|Samsung  |Samsung 43 Inches Full HD LED TV (43J5100, Black)                       |43 Inch LED Full HD TV (43J5100)                 |43J5100       |37,200 |43 inch     |LED        |Full-HD            |2             |2              |Black |16 W              |\\n|Samsung  |Samsung 32 Inches HD Ready LED Smart TV (Series 4 UA32N4305ARXXL, Black)|32 Inch LED HD Ready TV (Series 4 UA32N4305ARXXL)|UA32N4305ARXXL|14,499 |32 inch     |LED        |HD-Ready           |1             |2              |Black |10W               |\\n|Samsung  |Samsung 49 Inches Full HD LED Curved TV (49M6300, Grey)                 |49 Inch LED Full HD TV (49M6300)                 |49M6300       |91,850 |49 inch     |LED        |Full-HD            |2             |3              |Black |20 W              |\\n|Samsung  |Samsung 43 Inches Full HD LED Smart TV (43M5570, Grey)                  |43 Inch LED Full HD TV (43M5570)                 |43M5570       |33,790 |43 inch     |LED        |Full-HD            |2             |3              |Black |20 W              |\\n|Samsung  |Samsung 50 Inches Ultra HD (4K) LED Smart TV (50MU6100, Black)          |50 Inch LED Ultra HD (4K) TV (50MU6100)          |50MU6100      |69,000 |50 inch     |LED        |4K                 |2             |3              |Black |20 W              |\\n|Samsung  |Samsung 75 Inches Ultra HD (4K) LED Smart TV (75MU7000, Black)          |75 Inch LED Ultra HD (4K) TV (75MU7000)          |75MU7000      |599,900|75 inch     |LED        |4K                 |3             |4              |Black |40 W              |\\n|Samsung  |Samsung 65 Inches Ultra HD (4K) LED Smart TV (65MU7500, Silver)         |65 Inch LED Ultra HD (4K) TV (65MU7500)          |65MU7500      |344,900|65 inch     |LED        |4K                 |3             |4              |Silver|40 W              |\\n|Samsung  |Samsung 49 Inches Ultra HD (4K) LED Smart TV (49MU7000, Black)          |49 Inch LED Ultra HD (4K) TV (49MU7000)          |49MU7000      |155,900|49 inch     |LED        |4K                 |3             |4              |Black |40 W              |\\n|Samsung  |Samsung 55 Inches Ultra HD (4K) QLED Curved TV (55Q8C, Black)           |55 Inch QLED Ultra HD (4K) TV (55Q8C)            |55Q8C         |344,900|55 inch     |QLED       |4K                 |3             |4              |Black |60 W              |\\n|Samsung  |Samsung 55 Inches Ultra HD (4K) LED Curved TV (55MU7500, Grey)          |55 Inch LED Ultra HD (4K) TV (55MU7500)          |55MU7500      |229,900|55 inch     |LED        |4K                 |2             |3              |Black |40 W              |\\n|LG       |LG 55 Inches Ultra HD LED Smart TV (55UK6360PTE, Black)                 |55 Inch LED Ultra HD (4K) TV (55UK6360PTE)       |55UK6360PTE   |58,999 |55 inch     |LED        |4K                 |1             |2              |Black |20 W              |\\n|LG       |LG 65 Inches Ultra HD OLED Smart TV (OLED65B8PTA, Grey)                 |65 Inch OLED Ultra HD (4K) TV (OLED65B8PTA)      |OLED65B8PTA   |259,', mimetype='text/plain', start_char_idx=0, end_char_idx=3533, text_template='{metadata_str}\\n\\n{content}', metadata_template='{key}: {value}', metadata_seperator='\\n'), score=-7.6006594), NodeWithScore(node=TextNode(id_='d78a9c08-fd8c-4b43-bc49-305eb27dc4bf', embedding=None, metadata={}, excluded_embed_metadata_keys=[], excluded_llm_metadata_keys=[], relationships={<NodeRelationship.SOURCE: '1'>: RelatedNodeInfo(node_id='4fedd84d-4b58-4186-a7f6-d2fcd004708d', node_type=<ObjectType.DOCUMENT: '4'>, metadata={}, hash='ff2825b404f1c0f63a1e3740c7ce34b1d334eb810a1a9d8ab42bb3a1c8038323'), <NodeRelationship.PREVIOUS: '2'>: RelatedNodeInfo(node_id='67fdb07b-767b-4e07-b4c7-5612450e477f', node_type=<ObjectType.TEXT: '1'>, metadata={}, hash='223b0e9936913b0a2dd1cfe8b0dfb0055a3df503165eeb00e56f83a5d538b8b8'), <NodeRelationship.NEXT: '3'>: RelatedNodeInfo(node_id='2252426e-ebac-40e3-a770-155d77360e93', node_type=<ObjectType.TEXT: '1'>, metadata={}, hash='f523e04612cfc6121b4f08f34d26a8941ce8adf6841c6eab5fd05fcc9720dbfb')}, text='999 |55 inch     |LED        |4K                 |1             |2              |Black |20 W              |\\n|LG       |LG 65 Inches Ultra HD OLED Smart TV (OLED65B8PTA, Grey)                 |65 Inch OLED Ultra HD (4K) TV (OLED65B8PTA)      |OLED65B8PTA   |259,350|65 inch     |OLED       |4K                 |1             |3              |Black |40 W              |\\n|LG       |LG 32 Inches HD Ready LED Smart TV (32LK628BPTF)                        |32 Inch LED HD Ready TV (32LK628BPTF)            |32LK628BPTF   |20,990 |32 inch     |LED        |HD-Ready           |1             |3              |Black |35 W              |\\n|LG       |LG 55 Inches Ultra HD LED Smart TV (55UK6500PTC, Black)                 |55 Inch LED Ultra HD (4K) TV (55UK6500PTC)       |55UK6500PTC   |71,462 |55 inch     |LED        |4K                 |2             |4              |Black |20 W              |\\n|LG       |LG 55 Inches Ultra HD (4K) LED Smart TV (55UK7500PTA, Silver)           |55 Inch LED Ultra HD (4K) TV (55UK7500PTA)       |55UK7500PTA   |65,195 |55 inch     |LED        |4K                 |2             |4              |Black |20 W              |\\n|LG       |LG 55 Inches Ultra HD (4K) OLED Smart TV (OLED55B8PTA, Grey)            |55 Inch OLED Ultra HD (4K) TV (OLED55B8PTA)      |OLED55B8PTA   |159,999|55 inch     |OLED       |4K                 |1             |3              |Grey  |40 W              |\\n|LG       |LG 65 Inches Ultra HD (4K) OLED Smart TV (OLED65C8PTA)                  |65 Inch OLED Ultra HD (4K) TV (OLED65C8PTA)      |OLED65C8PTA   |249,999|65 inch     |OLED       |4K                 |1             |2              |Black |40 W              |\\n|LG       |LG 65 Inches Ultra HD (4K) LED Smart TV (65UK7500PTA, Silver)           |65 Inch LED Ultra HD (4K) TV (65UK7500PTA)       |65UK7500PTA   |149,999|65 inch     |LED        |4K                 |2             |4              |Black |20 W              |\\n|LG       |LG 65 Inches Ultra HD (4K) LED Smart TV (65UK6360PTE)                   |65 Inch LED Ultra HD TV (65UK6360PTE)            |65UK6360PTE   |120,999|65 inch     |LED        |Ultra-HD           |2             |3              |Grey  |20 W              |\\n|LG       |LG 43 Inches Ultra HD (4K) LED Smart TV (43UK6360PTE, Black)            |43 Inch LED Ultra HD (4K) TV (43UK6360PTE)       |43UK6360PTE   |36,999 |43 inch     |LED        |4K                 |1             |2              |Black |20 W              |\\n|Panasonic|Panasonic 43 Inches Full HD LED Smart TV (TH-43ES480DX, Black)          |43 Inch LED Full HD TV (TH-43ES480DX)            |TH-43ES480DX  |35,464 |43 inch     |LED        |Full-HD            |2             |2              |Black |20 W              |\\n|Panasonic|Panasonic 49 Inches Full HD LED Smart TV (TH-49ES480DX, Black)          |49 Inch LED Full HD TV (TH-49ES480DX)            |TH-49ES480DX  |42,999 |49 inch     |LED        |Full-HD            |2             |3              |Black |20 W              |\\n|Panasonic|Panasonic 65 Inches Ultra HD (4K) LED Smart TV (TH-65FX800D, Grey)      |65 Inch LED Ultra HD (4K) TV (TH-65FX800D)       |TH-65FX800D   |171,', mimetype='text/plain', start_char_idx=3272, end_char_idx=6393, text_template='{metadata_str}\\n\\n{content}', metadata_template='{key}: {value}', metadata_seperator='\\n'), score=-9.984393)], metadata={'67fdb07b-767b-4e07-b4c7-5612450e477f': {}, 'd78a9c08-fd8c-4b43-bc49-305eb27dc4bf': {}})"
      ]
     },
     "execution_count": 19,
     "metadata": {},
     "output_type": "execute_result"
    }
   ],
   "source": [
    "user_query = \"What was the maximum, minimum and average price of the TV\"\n",
    "response__2 = query_engine.query(user_query)\n",
    "response__2"
   ]
  },
  {
   "cell_type": "code",
   "execution_count": 20,
   "metadata": {},
   "outputs": [
    {
     "data": {
      "text/plain": [
       "Response(response='Based on the provided context information, the answer to the question is:\\n\\n* LG has the highest number of TV models listed with 11 models.\\n* Samsung has 10 models listed.\\n* Panasonic has 3 models listed.\\n\\nLet me know if you have any queries.', source_nodes=[NodeWithScore(node=TextNode(id_='67fdb07b-767b-4e07-b4c7-5612450e477f', embedding=None, metadata={}, excluded_embed_metadata_keys=[], excluded_llm_metadata_keys=[], relationships={<NodeRelationship.SOURCE: '1'>: RelatedNodeInfo(node_id='4fedd84d-4b58-4186-a7f6-d2fcd004708d', node_type=<ObjectType.DOCUMENT: '4'>, metadata={}, hash='ff2825b404f1c0f63a1e3740c7ce34b1d334eb810a1a9d8ab42bb3a1c8038323'), <NodeRelationship.NEXT: '3'>: RelatedNodeInfo(node_id='d78a9c08-fd8c-4b43-bc49-305eb27dc4bf', node_type=<ObjectType.TEXT: '1'>, metadata={}, hash='21505b245aee5c2278cfaa7fb12b7e7ed3bf2f8b1590deae4a301318c3cb6168')}, text='|Brand    |Product name                                                            |Model                                            |Model Name    |Price  |Display Size|Screen Type|Resolution Standard|No of USB Port|No of HDMI Port|Color |Speaker Output RMS|\\n|---------|------------------------------------------------------------------------|-------------------------------------------------|--------------|-------|------------|-----------|-------------------|--------------|---------------|------|------------------|\\n|Samsung  |Samsung 43 Inches Full HD LED TV (43J5100, Black)                       |43 Inch LED Full HD TV (43J5100)                 |43J5100       |37,200 |43 inch     |LED        |Full-HD            |2             |2              |Black |16 W              |\\n|Samsung  |Samsung 32 Inches HD Ready LED Smart TV (Series 4 UA32N4305ARXXL, Black)|32 Inch LED HD Ready TV (Series 4 UA32N4305ARXXL)|UA32N4305ARXXL|14,499 |32 inch     |LED        |HD-Ready           |1             |2              |Black |10W               |\\n|Samsung  |Samsung 49 Inches Full HD LED Curved TV (49M6300, Grey)                 |49 Inch LED Full HD TV (49M6300)                 |49M6300       |91,850 |49 inch     |LED        |Full-HD            |2             |3              |Black |20 W              |\\n|Samsung  |Samsung 43 Inches Full HD LED Smart TV (43M5570, Grey)                  |43 Inch LED Full HD TV (43M5570)                 |43M5570       |33,790 |43 inch     |LED        |Full-HD            |2             |3              |Black |20 W              |\\n|Samsung  |Samsung 50 Inches Ultra HD (4K) LED Smart TV (50MU6100, Black)          |50 Inch LED Ultra HD (4K) TV (50MU6100)          |50MU6100      |69,000 |50 inch     |LED        |4K                 |2             |3              |Black |20 W              |\\n|Samsung  |Samsung 75 Inches Ultra HD (4K) LED Smart TV (75MU7000, Black)          |75 Inch LED Ultra HD (4K) TV (75MU7000)          |75MU7000      |599,900|75 inch     |LED        |4K                 |3             |4              |Black |40 W              |\\n|Samsung  |Samsung 65 Inches Ultra HD (4K) LED Smart TV (65MU7500, Silver)         |65 Inch LED Ultra HD (4K) TV (65MU7500)          |65MU7500      |344,900|65 inch     |LED        |4K                 |3             |4              |Silver|40 W              |\\n|Samsung  |Samsung 49 Inches Ultra HD (4K) LED Smart TV (49MU7000, Black)          |49 Inch LED Ultra HD (4K) TV (49MU7000)          |49MU7000      |155,900|49 inch     |LED        |4K                 |3             |4              |Black |40 W              |\\n|Samsung  |Samsung 55 Inches Ultra HD (4K) QLED Curved TV (55Q8C, Black)           |55 Inch QLED Ultra HD (4K) TV (55Q8C)            |55Q8C         |344,900|55 inch     |QLED       |4K                 |3             |4              |Black |60 W              |\\n|Samsung  |Samsung 55 Inches Ultra HD (4K) LED Curved TV (55MU7500, Grey)          |55 Inch LED Ultra HD (4K) TV (55MU7500)          |55MU7500      |229,900|55 inch     |LED        |4K                 |2             |3              |Black |40 W              |\\n|LG       |LG 55 Inches Ultra HD LED Smart TV (55UK6360PTE, Black)                 |55 Inch LED Ultra HD (4K) TV (55UK6360PTE)       |55UK6360PTE   |58,999 |55 inch     |LED        |4K                 |1             |2              |Black |20 W              |\\n|LG       |LG 65 Inches Ultra HD OLED Smart TV (OLED65B8PTA, Grey)                 |65 Inch OLED Ultra HD (4K) TV (OLED65B8PTA)      |OLED65B8PTA   |259,', mimetype='text/plain', start_char_idx=0, end_char_idx=3533, text_template='{metadata_str}\\n\\n{content}', metadata_template='{key}: {value}', metadata_seperator='\\n'), score=-0.30160648), NodeWithScore(node=TextNode(id_='d78a9c08-fd8c-4b43-bc49-305eb27dc4bf', embedding=None, metadata={}, excluded_embed_metadata_keys=[], excluded_llm_metadata_keys=[], relationships={<NodeRelationship.SOURCE: '1'>: RelatedNodeInfo(node_id='4fedd84d-4b58-4186-a7f6-d2fcd004708d', node_type=<ObjectType.DOCUMENT: '4'>, metadata={}, hash='ff2825b404f1c0f63a1e3740c7ce34b1d334eb810a1a9d8ab42bb3a1c8038323'), <NodeRelationship.PREVIOUS: '2'>: RelatedNodeInfo(node_id='67fdb07b-767b-4e07-b4c7-5612450e477f', node_type=<ObjectType.TEXT: '1'>, metadata={}, hash='223b0e9936913b0a2dd1cfe8b0dfb0055a3df503165eeb00e56f83a5d538b8b8'), <NodeRelationship.NEXT: '3'>: RelatedNodeInfo(node_id='2252426e-ebac-40e3-a770-155d77360e93', node_type=<ObjectType.TEXT: '1'>, metadata={}, hash='f523e04612cfc6121b4f08f34d26a8941ce8adf6841c6eab5fd05fcc9720dbfb')}, text='999 |55 inch     |LED        |4K                 |1             |2              |Black |20 W              |\\n|LG       |LG 65 Inches Ultra HD OLED Smart TV (OLED65B8PTA, Grey)                 |65 Inch OLED Ultra HD (4K) TV (OLED65B8PTA)      |OLED65B8PTA   |259,350|65 inch     |OLED       |4K                 |1             |3              |Black |40 W              |\\n|LG       |LG 32 Inches HD Ready LED Smart TV (32LK628BPTF)                        |32 Inch LED HD Ready TV (32LK628BPTF)            |32LK628BPTF   |20,990 |32 inch     |LED        |HD-Ready           |1             |3              |Black |35 W              |\\n|LG       |LG 55 Inches Ultra HD LED Smart TV (55UK6500PTC, Black)                 |55 Inch LED Ultra HD (4K) TV (55UK6500PTC)       |55UK6500PTC   |71,462 |55 inch     |LED        |4K                 |2             |4              |Black |20 W              |\\n|LG       |LG 55 Inches Ultra HD (4K) LED Smart TV (55UK7500PTA, Silver)           |55 Inch LED Ultra HD (4K) TV (55UK7500PTA)       |55UK7500PTA   |65,195 |55 inch     |LED        |4K                 |2             |4              |Black |20 W              |\\n|LG       |LG 55 Inches Ultra HD (4K) OLED Smart TV (OLED55B8PTA, Grey)            |55 Inch OLED Ultra HD (4K) TV (OLED55B8PTA)      |OLED55B8PTA   |159,999|55 inch     |OLED       |4K                 |1             |3              |Grey  |40 W              |\\n|LG       |LG 65 Inches Ultra HD (4K) OLED Smart TV (OLED65C8PTA)                  |65 Inch OLED Ultra HD (4K) TV (OLED65C8PTA)      |OLED65C8PTA   |249,999|65 inch     |OLED       |4K                 |1             |2              |Black |40 W              |\\n|LG       |LG 65 Inches Ultra HD (4K) LED Smart TV (65UK7500PTA, Silver)           |65 Inch LED Ultra HD (4K) TV (65UK7500PTA)       |65UK7500PTA   |149,999|65 inch     |LED        |4K                 |2             |4              |Black |20 W              |\\n|LG       |LG 65 Inches Ultra HD (4K) LED Smart TV (65UK6360PTE)                   |65 Inch LED Ultra HD TV (65UK6360PTE)            |65UK6360PTE   |120,999|65 inch     |LED        |Ultra-HD           |2             |3              |Grey  |20 W              |\\n|LG       |LG 43 Inches Ultra HD (4K) LED Smart TV (43UK6360PTE, Black)            |43 Inch LED Ultra HD (4K) TV (43UK6360PTE)       |43UK6360PTE   |36,999 |43 inch     |LED        |4K                 |1             |2              |Black |20 W              |\\n|Panasonic|Panasonic 43 Inches Full HD LED Smart TV (TH-43ES480DX, Black)          |43 Inch LED Full HD TV (TH-43ES480DX)            |TH-43ES480DX  |35,464 |43 inch     |LED        |Full-HD            |2             |2              |Black |20 W              |\\n|Panasonic|Panasonic 49 Inches Full HD LED Smart TV (TH-49ES480DX, Black)          |49 Inch LED Full HD TV (TH-49ES480DX)            |TH-49ES480DX  |42,999 |49 inch     |LED        |Full-HD            |2             |3              |Black |20 W              |\\n|Panasonic|Panasonic 65 Inches Ultra HD (4K) LED Smart TV (TH-65FX800D, Grey)      |65 Inch LED Ultra HD (4K) TV (TH-65FX800D)       |TH-65FX800D   |171,', mimetype='text/plain', start_char_idx=3272, end_char_idx=6393, text_template='{metadata_str}\\n\\n{content}', metadata_template='{key}: {value}', metadata_seperator='\\n'), score=-5.4321127)], metadata={'67fdb07b-767b-4e07-b4c7-5612450e477f': {}, 'd78a9c08-fd8c-4b43-bc49-305eb27dc4bf': {}})"
      ]
     },
     "execution_count": 20,
     "metadata": {},
     "output_type": "execute_result"
    }
   ],
   "source": [
    "user_query = \"Which brand has the highest number of TV models listed?\"\n",
    "response__2 = query_engine.query(user_query)\n",
    "response__2"
   ]
  },
  {
   "cell_type": "code",
   "execution_count": 21,
   "metadata": {},
   "outputs": [
    {
     "data": {
      "text/plain": [
       "Response(response='Here are the model names of Panasonic TVs listed in bullet points:\\n\\n• TH-65FX800D\\n• TH-32ES480DX\\n• TH-32FS600D\\n• TH-55FX800D\\n• TH-55FX600D\\n• TH-49FX730D\\n• TH-50FS600D\\n• TH-55FX650D\\n\\nLet me know if you have any queries.', source_nodes=[NodeWithScore(node=TextNode(id_='67fdb07b-767b-4e07-b4c7-5612450e477f', embedding=None, metadata={}, excluded_embed_metadata_keys=[], excluded_llm_metadata_keys=[], relationships={<NodeRelationship.SOURCE: '1'>: RelatedNodeInfo(node_id='4fedd84d-4b58-4186-a7f6-d2fcd004708d', node_type=<ObjectType.DOCUMENT: '4'>, metadata={}, hash='ff2825b404f1c0f63a1e3740c7ce34b1d334eb810a1a9d8ab42bb3a1c8038323'), <NodeRelationship.NEXT: '3'>: RelatedNodeInfo(node_id='d78a9c08-fd8c-4b43-bc49-305eb27dc4bf', node_type=<ObjectType.TEXT: '1'>, metadata={}, hash='21505b245aee5c2278cfaa7fb12b7e7ed3bf2f8b1590deae4a301318c3cb6168')}, text='|Brand    |Product name                                                            |Model                                            |Model Name    |Price  |Display Size|Screen Type|Resolution Standard|No of USB Port|No of HDMI Port|Color |Speaker Output RMS|\\n|---------|------------------------------------------------------------------------|-------------------------------------------------|--------------|-------|------------|-----------|-------------------|--------------|---------------|------|------------------|\\n|Samsung  |Samsung 43 Inches Full HD LED TV (43J5100, Black)                       |43 Inch LED Full HD TV (43J5100)                 |43J5100       |37,200 |43 inch     |LED        |Full-HD            |2             |2              |Black |16 W              |\\n|Samsung  |Samsung 32 Inches HD Ready LED Smart TV (Series 4 UA32N4305ARXXL, Black)|32 Inch LED HD Ready TV (Series 4 UA32N4305ARXXL)|UA32N4305ARXXL|14,499 |32 inch     |LED        |HD-Ready           |1             |2              |Black |10W               |\\n|Samsung  |Samsung 49 Inches Full HD LED Curved TV (49M6300, Grey)                 |49 Inch LED Full HD TV (49M6300)                 |49M6300       |91,850 |49 inch     |LED        |Full-HD            |2             |3              |Black |20 W              |\\n|Samsung  |Samsung 43 Inches Full HD LED Smart TV (43M5570, Grey)                  |43 Inch LED Full HD TV (43M5570)                 |43M5570       |33,790 |43 inch     |LED        |Full-HD            |2             |3              |Black |20 W              |\\n|Samsung  |Samsung 50 Inches Ultra HD (4K) LED Smart TV (50MU6100, Black)          |50 Inch LED Ultra HD (4K) TV (50MU6100)          |50MU6100      |69,000 |50 inch     |LED        |4K                 |2             |3              |Black |20 W              |\\n|Samsung  |Samsung 75 Inches Ultra HD (4K) LED Smart TV (75MU7000, Black)          |75 Inch LED Ultra HD (4K) TV (75MU7000)          |75MU7000      |599,900|75 inch     |LED        |4K                 |3             |4              |Black |40 W              |\\n|Samsung  |Samsung 65 Inches Ultra HD (4K) LED Smart TV (65MU7500, Silver)         |65 Inch LED Ultra HD (4K) TV (65MU7500)          |65MU7500      |344,900|65 inch     |LED        |4K                 |3             |4              |Silver|40 W              |\\n|Samsung  |Samsung 49 Inches Ultra HD (4K) LED Smart TV (49MU7000, Black)          |49 Inch LED Ultra HD (4K) TV (49MU7000)          |49MU7000      |155,900|49 inch     |LED        |4K                 |3             |4              |Black |40 W              |\\n|Samsung  |Samsung 55 Inches Ultra HD (4K) QLED Curved TV (55Q8C, Black)           |55 Inch QLED Ultra HD (4K) TV (55Q8C)            |55Q8C         |344,900|55 inch     |QLED       |4K                 |3             |4              |Black |60 W              |\\n|Samsung  |Samsung 55 Inches Ultra HD (4K) LED Curved TV (55MU7500, Grey)          |55 Inch LED Ultra HD (4K) TV (55MU7500)          |55MU7500      |229,900|55 inch     |LED        |4K                 |2             |3              |Black |40 W              |\\n|LG       |LG 55 Inches Ultra HD LED Smart TV (55UK6360PTE, Black)                 |55 Inch LED Ultra HD (4K) TV (55UK6360PTE)       |55UK6360PTE   |58,999 |55 inch     |LED        |4K                 |1             |2              |Black |20 W              |\\n|LG       |LG 65 Inches Ultra HD OLED Smart TV (OLED65B8PTA, Grey)                 |65 Inch OLED Ultra HD (4K) TV (OLED65B8PTA)      |OLED65B8PTA   |259,', mimetype='text/plain', start_char_idx=0, end_char_idx=3533, text_template='{metadata_str}\\n\\n{content}', metadata_template='{key}: {value}', metadata_seperator='\\n'), score=-2.1136498), NodeWithScore(node=TextNode(id_='2252426e-ebac-40e3-a770-155d77360e93', embedding=None, metadata={}, excluded_embed_metadata_keys=[], excluded_llm_metadata_keys=[], relationships={<NodeRelationship.SOURCE: '1'>: RelatedNodeInfo(node_id='4fedd84d-4b58-4186-a7f6-d2fcd004708d', node_type=<ObjectType.DOCUMENT: '4'>, metadata={}, hash='ff2825b404f1c0f63a1e3740c7ce34b1d334eb810a1a9d8ab42bb3a1c8038323'), <NodeRelationship.PREVIOUS: '2'>: RelatedNodeInfo(node_id='d78a9c08-fd8c-4b43-bc49-305eb27dc4bf', node_type=<ObjectType.TEXT: '1'>, metadata={}, hash='21505b245aee5c2278cfaa7fb12b7e7ed3bf2f8b1590deae4a301318c3cb6168'), <NodeRelationship.NEXT: '3'>: RelatedNodeInfo(node_id='3e023ec9-0eb9-411a-b864-02a5d8bae527', node_type=<ObjectType.TEXT: '1'>, metadata={}, hash='f025221ac7bf045fe02ccde0c6715ac5a84b832f47e5ef9fe3f1b331eb3e7f24')}, text='999 |49 inch     |LED        |Full-HD            |2             |3              |Black |20 W              |\\n|Panasonic|Panasonic 65 Inches Ultra HD (4K) LED Smart TV (TH-65FX800D, Grey)      |65 Inch LED Ultra HD (4K) TV (TH-65FX800D)       |TH-65FX800D   |171,515|65 inch     |LED        |4K                 |3             |4              |Grey  |20 W              |\\n|Panasonic|Panasonic 32 Inches HD Ready LED Stard TV (TH-32ES480DX, Black)         |32 Inch LED HD Ready TV (TH-32ES480DX)           |TH-32ES480DX  |24,990 |32 inch     |LED        |HD-Ready           |2             |2              |Black |20 W              |\\n|Panasonic|Panasonic 32 Inches Full HD LED Smart TV (TH-32FS600D, Black)           |32 Inch LED HD Ready TV (TH-32FS600D)            |TH-32FS600D   |19,499 |32 inch     |LED        |HD-Ready           |2             |3              |Black |20 W              |\\n|Panasonic|Panasonic 55 Inches Ultra HD (4K) LED Smart TV (TH-55FX800D, Grey)      |55 Inch LED Ultra HD (4K) TV (TH-55FX800D)       |TH-55FX800D   |191,621|55 inch     |LED        |4K                 |3             |4              |Black |20 W              |\\n|Panasonic|Panasonic 55 Inches Ultra HD (4K) LED Smart TV (TH-55FX600D, Black)     |55 Inch LED Ultra HD (4K) TV (TH-55FX600D)       |TH-55FX600D   |69,999 |55 inch     |LED        |4K                 |3             |4              |Black |20 W              |\\n|Panasonic|Panasonic 49 Inches Ultra HD (4K) LED Smart TV (TH-49FX730D, Grey)      |49 Inch LED Ultra HD (4K) TV (TH-49FX730D)       |TH-49FX730D   |69,999 |49 inch     |LED        |4K                 |3             |3              |Black |20 W              |\\n|Panasonic|Panasonic 50 Inches Full HD LED Smart TV (TH-50FS600D, Black)           |50 Inch LED Full HD TV (TH-50FS600D)             |TH-50FS600D   |35,000 |50 inch     |LED        |Full-HD            |2             |3              |Black |20 W              |\\n|Panasonic|Panasonic 55 Inches Ultra HD (4K) LED Smart TV (TH-55FX650D, Grey)      |55 Inch LED Ultra HD (4K) TV (TH-55FX650D)       |TH-55FX650D   |64,790 |55 inch     |LED        |4K                 |2             |3              |Black |20 W              |\\n|Sony     |Sony 55 Inches LED Ultra HD (4K) TV (KD-55X7400H, Black)                |55 Inch LED Ultra HD TV (KD-55X7400H)            |KD-55X7400H   |66,999 |55 inch     |LED        |4K                 |2             |3              |Black |20 W              |\\n|Sony     |Sony 43 Inches Ultra HD (4K) LCD TV (KD-43X8500C, Black)                |43 Inch LCD Ultra HD (4K) TV (KD-43X8500C)       |KD-43X8500C   |85,948 |43 inch     |LED        |4K                 |3             |4              |Black |20 W              |\\n|Sony     |Sony 49 Inches HD Ready LCD Smart TV (KD-49X8300D, Black)               |49 Inch LED Ultra HD (4K) TV (KD-49X8300D)       |KD-49X8300D   |99,999 |49 inch     |LED        |4K                 |3             |4              |Black |20 W              |\\n|Sony     |Sony 55 Inches Ultra HD (4K) LCD TV (KD-55X8200E, Black)                |55 Inch LED Ultra HD (4K) TV (KD-55X8200E)       |KD-55X8200E   |124,', mimetype='text/plain', start_char_idx=6132, end_char_idx=9253, text_template='{metadata_str}\\n\\n{content}', metadata_template='{key}: {value}', metadata_seperator='\\n'), score=-2.7120843)], metadata={'67fdb07b-767b-4e07-b4c7-5612450e477f': {}, '2252426e-ebac-40e3-a770-155d77360e93': {}})"
      ]
     },
     "execution_count": 21,
     "metadata": {},
     "output_type": "execute_result"
    }
   ],
   "source": [
    "user_query = \"List all the model name in the TV Brand Panasonic\"\n",
    "response__2 = query_engine.query(user_query)\n",
    "response__2"
   ]
  },
  {
   "cell_type": "code",
   "execution_count": 22,
   "metadata": {},
   "outputs": [
    {
     "data": {
      "text/plain": [
       "Response(response='Here are the model names of Sony TVs listed in bullet points:\\n\\n• KD-55X8200E\\n• KD-55X9000H\\n• KLV-40W562D\\n• KDL-43W800D\\n• KLV-40W672E\\n• KD-65X9300E\\n• KD-49X7500E\\n\\nLet me know if you have any queries.', source_nodes=[NodeWithScore(node=TextNode(id_='67fdb07b-767b-4e07-b4c7-5612450e477f', embedding=None, metadata={}, excluded_embed_metadata_keys=[], excluded_llm_metadata_keys=[], relationships={<NodeRelationship.SOURCE: '1'>: RelatedNodeInfo(node_id='4fedd84d-4b58-4186-a7f6-d2fcd004708d', node_type=<ObjectType.DOCUMENT: '4'>, metadata={}, hash='ff2825b404f1c0f63a1e3740c7ce34b1d334eb810a1a9d8ab42bb3a1c8038323'), <NodeRelationship.NEXT: '3'>: RelatedNodeInfo(node_id='d78a9c08-fd8c-4b43-bc49-305eb27dc4bf', node_type=<ObjectType.TEXT: '1'>, metadata={}, hash='21505b245aee5c2278cfaa7fb12b7e7ed3bf2f8b1590deae4a301318c3cb6168')}, text='|Brand    |Product name                                                            |Model                                            |Model Name    |Price  |Display Size|Screen Type|Resolution Standard|No of USB Port|No of HDMI Port|Color |Speaker Output RMS|\\n|---------|------------------------------------------------------------------------|-------------------------------------------------|--------------|-------|------------|-----------|-------------------|--------------|---------------|------|------------------|\\n|Samsung  |Samsung 43 Inches Full HD LED TV (43J5100, Black)                       |43 Inch LED Full HD TV (43J5100)                 |43J5100       |37,200 |43 inch     |LED        |Full-HD            |2             |2              |Black |16 W              |\\n|Samsung  |Samsung 32 Inches HD Ready LED Smart TV (Series 4 UA32N4305ARXXL, Black)|32 Inch LED HD Ready TV (Series 4 UA32N4305ARXXL)|UA32N4305ARXXL|14,499 |32 inch     |LED        |HD-Ready           |1             |2              |Black |10W               |\\n|Samsung  |Samsung 49 Inches Full HD LED Curved TV (49M6300, Grey)                 |49 Inch LED Full HD TV (49M6300)                 |49M6300       |91,850 |49 inch     |LED        |Full-HD            |2             |3              |Black |20 W              |\\n|Samsung  |Samsung 43 Inches Full HD LED Smart TV (43M5570, Grey)                  |43 Inch LED Full HD TV (43M5570)                 |43M5570       |33,790 |43 inch     |LED        |Full-HD            |2             |3              |Black |20 W              |\\n|Samsung  |Samsung 50 Inches Ultra HD (4K) LED Smart TV (50MU6100, Black)          |50 Inch LED Ultra HD (4K) TV (50MU6100)          |50MU6100      |69,000 |50 inch     |LED        |4K                 |2             |3              |Black |20 W              |\\n|Samsung  |Samsung 75 Inches Ultra HD (4K) LED Smart TV (75MU7000, Black)          |75 Inch LED Ultra HD (4K) TV (75MU7000)          |75MU7000      |599,900|75 inch     |LED        |4K                 |3             |4              |Black |40 W              |\\n|Samsung  |Samsung 65 Inches Ultra HD (4K) LED Smart TV (65MU7500, Silver)         |65 Inch LED Ultra HD (4K) TV (65MU7500)          |65MU7500      |344,900|65 inch     |LED        |4K                 |3             |4              |Silver|40 W              |\\n|Samsung  |Samsung 49 Inches Ultra HD (4K) LED Smart TV (49MU7000, Black)          |49 Inch LED Ultra HD (4K) TV (49MU7000)          |49MU7000      |155,900|49 inch     |LED        |4K                 |3             |4              |Black |40 W              |\\n|Samsung  |Samsung 55 Inches Ultra HD (4K) QLED Curved TV (55Q8C, Black)           |55 Inch QLED Ultra HD (4K) TV (55Q8C)            |55Q8C         |344,900|55 inch     |QLED       |4K                 |3             |4              |Black |60 W              |\\n|Samsung  |Samsung 55 Inches Ultra HD (4K) LED Curved TV (55MU7500, Grey)          |55 Inch LED Ultra HD (4K) TV (55MU7500)          |55MU7500      |229,900|55 inch     |LED        |4K                 |2             |3              |Black |40 W              |\\n|LG       |LG 55 Inches Ultra HD LED Smart TV (55UK6360PTE, Black)                 |55 Inch LED Ultra HD (4K) TV (55UK6360PTE)       |55UK6360PTE   |58,999 |55 inch     |LED        |4K                 |1             |2              |Black |20 W              |\\n|LG       |LG 65 Inches Ultra HD OLED Smart TV (OLED65B8PTA, Grey)                 |65 Inch OLED Ultra HD (4K) TV (OLED65B8PTA)      |OLED65B8PTA   |259,', mimetype='text/plain', start_char_idx=0, end_char_idx=3533, text_template='{metadata_str}\\n\\n{content}', metadata_template='{key}: {value}', metadata_seperator='\\n'), score=-1.2134526), NodeWithScore(node=TextNode(id_='3e023ec9-0eb9-411a-b864-02a5d8bae527', embedding=None, metadata={}, excluded_embed_metadata_keys=[], excluded_llm_metadata_keys=[], relationships={<NodeRelationship.SOURCE: '1'>: RelatedNodeInfo(node_id='4fedd84d-4b58-4186-a7f6-d2fcd004708d', node_type=<ObjectType.DOCUMENT: '4'>, metadata={}, hash='ff2825b404f1c0f63a1e3740c7ce34b1d334eb810a1a9d8ab42bb3a1c8038323'), <NodeRelationship.PREVIOUS: '2'>: RelatedNodeInfo(node_id='2252426e-ebac-40e3-a770-155d77360e93', node_type=<ObjectType.TEXT: '1'>, metadata={}, hash='f523e04612cfc6121b4f08f34d26a8941ce8adf6841c6eab5fd05fcc9720dbfb')}, text='999 |49 inch     |LED        |4K                 |3             |4              |Black |20 W              |\\n|Sony     |Sony 55 Inches Ultra HD (4K) LCD TV (KD-55X8200E, Black)                |55 Inch LED Ultra HD (4K) TV (KD-55X8200E)       |KD-55X8200E   |124,900|55 inch     |LED        |4K                 |3             |4              |Black |40 W              |\\n|Sony     |Sony 55 Inches Ultra HD (4K) LED Smart Android TV (55X9000H, Black)     |55-inch 4K HDR LED Android TV (55X9000H)         |KD-55X9000H   |104,990|55 inch     |LED        |4K                 |2             |4              |Black |20W               |\\n|Sony     |Sony 40 Inches Full HD LCD Smart TV (KLV-40W562D, Black)                |40 Inch LED Full HD TV (KLV-40W562D)             |KLV-40W562D   |29,999 |39 inch     |LED        |Full-HD            |2             |2              |Black |30 W              |\\n|Sony     |Sony 43 Inches Full HD LCD TV (KDL-43W800D, Black)                      |43 Inch LED Full HD TV (KDL-43W800D)             |KDL-43W800D   |49,999 |43 inch     |LED        |Full-HD            |2             |4              |Black |10 W x 2          |\\n|Sony     |Sony 40 Inches Full HD LCD Smart TV (KLV-40W672E, Black)                |40 Inch LED Full HD TV (KLV-40W672E)             |KLV-40W672E   |41,499 |40 inch     |LED        |Full-HD            |2             |2              |Black |30 W              |\\n|Sony     |Sony 65 Inches Ultra HD (4K) LCD TV (KD-65X9300E, Black)                |65 Inch LED Ultra HD (4K) TV (KD-65X9300E)       |KD-65X9300E   |179,999|65 inch     |LED        |4K                 |3             |4              |Black |60 W              |\\n|Sony     |Sony 49 Inches Ultra HD (4K) LCD Smart TV (KD-49X7500E, Black)          |49 Inch LED Ultra HD (4K) TV (KD-49X7500E)       |KD-49X7500E   |71,999 |49 inch     |LED        |4K                 |3             |4              |Black |20 W              |', mimetype='text/plain', start_char_idx=8992, end_char_idx=10919, text_template='{metadata_str}\\n\\n{content}', metadata_template='{key}: {value}', metadata_seperator='\\n'), score=-3.211067)], metadata={'67fdb07b-767b-4e07-b4c7-5612450e477f': {}, '3e023ec9-0eb9-411a-b864-02a5d8bae527': {}})"
      ]
     },
     "execution_count": 22,
     "metadata": {},
     "output_type": "execute_result"
    }
   ],
   "source": [
    "user_query = \"List all the model name in the TV Brand Sony\"\n",
    "response__2 = query_engine.query(user_query)\n",
    "response__2"
   ]
  },
  {
   "cell_type": "code",
   "execution_count": 23,
   "metadata": {},
   "outputs": [
    {
     "name": "stderr",
     "output_type": "stream",
     "text": [
      "huggingface/tokenizers: The current process just got forked, after parallelism has already been used. Disabling parallelism to avoid deadlocks...\n",
      "To disable this warning, you can either:\n",
      "\t- Avoid using `tokenizers` before the fork if possible\n",
      "\t- Explicitly set the environment variable TOKENIZERS_PARALLELISM=(true | false)\n"
     ]
    },
    {
     "name": "stdout",
     "output_type": "stream",
     "text": [
      "Requirement already satisfied: llama-index-llms-groq in /home/chandanha/Documents/My_Documents/Excel_data_reader/my_env/lib/python3.11/site-packages (0.1.4)\n",
      "Requirement already satisfied: llama-index-core<0.11.0,>=0.10.1 in /home/chandanha/Documents/My_Documents/Excel_data_reader/my_env/lib/python3.11/site-packages (from llama-index-llms-groq) (0.10.62)\n",
      "Requirement already satisfied: llama-index-llms-openai-like<0.2.0,>=0.1.3 in /home/chandanha/Documents/My_Documents/Excel_data_reader/my_env/lib/python3.11/site-packages (from llama-index-llms-groq) (0.1.3)\n",
      "Requirement already satisfied: PyYAML>=6.0.1 in /home/chandanha/Documents/My_Documents/Excel_data_reader/my_env/lib/python3.11/site-packages (from llama-index-core<0.11.0,>=0.10.1->llama-index-llms-groq) (6.0.2)\n",
      "Requirement already satisfied: SQLAlchemy>=1.4.49 in /home/chandanha/Documents/My_Documents/Excel_data_reader/my_env/lib/python3.11/site-packages (from SQLAlchemy[asyncio]>=1.4.49->llama-index-core<0.11.0,>=0.10.1->llama-index-llms-groq) (2.0.32)\n",
      "Requirement already satisfied: aiohttp<4.0.0,>=3.8.6 in /home/chandanha/Documents/My_Documents/Excel_data_reader/my_env/lib/python3.11/site-packages (from llama-index-core<0.11.0,>=0.10.1->llama-index-llms-groq) (3.10.1)\n",
      "Requirement already satisfied: dataclasses-json in /home/chandanha/Documents/My_Documents/Excel_data_reader/my_env/lib/python3.11/site-packages (from llama-index-core<0.11.0,>=0.10.1->llama-index-llms-groq) (0.6.7)\n",
      "Requirement already satisfied: deprecated>=1.2.9.3 in /home/chandanha/Documents/My_Documents/Excel_data_reader/my_env/lib/python3.11/site-packages (from llama-index-core<0.11.0,>=0.10.1->llama-index-llms-groq) (1.2.14)\n",
      "Requirement already satisfied: dirtyjson<2.0.0,>=1.0.8 in /home/chandanha/Documents/My_Documents/Excel_data_reader/my_env/lib/python3.11/site-packages (from llama-index-core<0.11.0,>=0.10.1->llama-index-llms-groq) (1.0.8)\n",
      "Requirement already satisfied: fsspec>=2023.5.0 in /home/chandanha/Documents/My_Documents/Excel_data_reader/my_env/lib/python3.11/site-packages (from llama-index-core<0.11.0,>=0.10.1->llama-index-llms-groq) (2024.6.1)\n",
      "Requirement already satisfied: httpx in /home/chandanha/Documents/My_Documents/Excel_data_reader/my_env/lib/python3.11/site-packages (from llama-index-core<0.11.0,>=0.10.1->llama-index-llms-groq) (0.27.0)\n",
      "Requirement already satisfied: nest-asyncio<2.0.0,>=1.5.8 in /home/chandanha/Documents/My_Documents/Excel_data_reader/my_env/lib/python3.11/site-packages (from llama-index-core<0.11.0,>=0.10.1->llama-index-llms-groq) (1.6.0)\n",
      "Requirement already satisfied: networkx>=3.0 in /home/chandanha/Documents/My_Documents/Excel_data_reader/my_env/lib/python3.11/site-packages (from llama-index-core<0.11.0,>=0.10.1->llama-index-llms-groq) (3.3)\n",
      "Requirement already satisfied: nltk<4.0.0,>=3.8.1 in /home/chandanha/Documents/My_Documents/Excel_data_reader/my_env/lib/python3.11/site-packages (from llama-index-core<0.11.0,>=0.10.1->llama-index-llms-groq) (3.8.1)\n",
      "Requirement already satisfied: numpy<2.0.0 in /home/chandanha/Documents/My_Documents/Excel_data_reader/my_env/lib/python3.11/site-packages (from llama-index-core<0.11.0,>=0.10.1->llama-index-llms-groq) (1.26.4)\n",
      "Requirement already satisfied: openai>=1.1.0 in /home/chandanha/Documents/My_Documents/Excel_data_reader/my_env/lib/python3.11/site-packages (from llama-index-core<0.11.0,>=0.10.1->llama-index-llms-groq) (1.40.1)\n",
      "Requirement already satisfied: pandas in /home/chandanha/Documents/My_Documents/Excel_data_reader/my_env/lib/python3.11/site-packages (from llama-index-core<0.11.0,>=0.10.1->llama-index-llms-groq) (2.2.2)\n",
      "Requirement already satisfied: pillow>=9.0.0 in /home/chandanha/Documents/My_Documents/Excel_data_reader/my_env/lib/python3.11/site-packages (from llama-index-core<0.11.0,>=0.10.1->llama-index-llms-groq) (10.4.0)\n",
      "Requirement already satisfied: requests>=2.31.0 in /home/chandanha/Documents/My_Documents/Excel_data_reader/my_env/lib/python3.11/site-packages (from llama-index-core<0.11.0,>=0.10.1->llama-index-llms-groq) (2.32.3)\n",
      "Requirement already satisfied: tenacity!=8.4.0,<9.0.0,>=8.2.0 in /home/chandanha/Documents/My_Documents/Excel_data_reader/my_env/lib/python3.11/site-packages (from llama-index-core<0.11.0,>=0.10.1->llama-index-llms-groq) (8.5.0)\n",
      "Requirement already satisfied: tiktoken>=0.3.3 in /home/chandanha/Documents/My_Documents/Excel_data_reader/my_env/lib/python3.11/site-packages (from llama-index-core<0.11.0,>=0.10.1->llama-index-llms-groq) (0.7.0)\n",
      "Requirement already satisfied: tqdm<5.0.0,>=4.66.1 in /home/chandanha/Documents/My_Documents/Excel_data_reader/my_env/lib/python3.11/site-packages (from llama-index-core<0.11.0,>=0.10.1->llama-index-llms-groq) (4.66.5)\n",
      "Requirement already satisfied: typing-extensions>=4.5.0 in /home/chandanha/Documents/My_Documents/Excel_data_reader/my_env/lib/python3.11/site-packages (from llama-index-core<0.11.0,>=0.10.1->llama-index-llms-groq) (4.12.2)\n",
      "Requirement already satisfied: typing-inspect>=0.8.0 in /home/chandanha/Documents/My_Documents/Excel_data_reader/my_env/lib/python3.11/site-packages (from llama-index-core<0.11.0,>=0.10.1->llama-index-llms-groq) (0.9.0)\n",
      "Requirement already satisfied: wrapt in /home/chandanha/Documents/My_Documents/Excel_data_reader/my_env/lib/python3.11/site-packages (from llama-index-core<0.11.0,>=0.10.1->llama-index-llms-groq) (1.16.0)\n",
      "Requirement already satisfied: llama-index-llms-openai<0.2.0,>=0.1.1 in /home/chandanha/Documents/My_Documents/Excel_data_reader/my_env/lib/python3.11/site-packages (from llama-index-llms-openai-like<0.2.0,>=0.1.3->llama-index-llms-groq) (0.1.29)\n",
      "Requirement already satisfied: transformers<5.0.0,>=4.37.0 in /home/chandanha/Documents/My_Documents/Excel_data_reader/my_env/lib/python3.11/site-packages (from llama-index-llms-openai-like<0.2.0,>=0.1.3->llama-index-llms-groq) (4.44.0)\n",
      "Requirement already satisfied: aiohappyeyeballs>=2.3.0 in /home/chandanha/Documents/My_Documents/Excel_data_reader/my_env/lib/python3.11/site-packages (from aiohttp<4.0.0,>=3.8.6->llama-index-core<0.11.0,>=0.10.1->llama-index-llms-groq) (2.3.5)\n",
      "Requirement already satisfied: aiosignal>=1.1.2 in /home/chandanha/Documents/My_Documents/Excel_data_reader/my_env/lib/python3.11/site-packages (from aiohttp<4.0.0,>=3.8.6->llama-index-core<0.11.0,>=0.10.1->llama-index-llms-groq) (1.3.1)\n",
      "Requirement already satisfied: attrs>=17.3.0 in /home/chandanha/Documents/My_Documents/Excel_data_reader/my_env/lib/python3.11/site-packages (from aiohttp<4.0.0,>=3.8.6->llama-index-core<0.11.0,>=0.10.1->llama-index-llms-groq) (24.2.0)\n",
      "Requirement already satisfied: frozenlist>=1.1.1 in /home/chandanha/Documents/My_Documents/Excel_data_reader/my_env/lib/python3.11/site-packages (from aiohttp<4.0.0,>=3.8.6->llama-index-core<0.11.0,>=0.10.1->llama-index-llms-groq) (1.4.1)\n",
      "Requirement already satisfied: multidict<7.0,>=4.5 in /home/chandanha/Documents/My_Documents/Excel_data_reader/my_env/lib/python3.11/site-packages (from aiohttp<4.0.0,>=3.8.6->llama-index-core<0.11.0,>=0.10.1->llama-index-llms-groq) (6.0.5)\n",
      "Requirement already satisfied: yarl<2.0,>=1.0 in /home/chandanha/Documents/My_Documents/Excel_data_reader/my_env/lib/python3.11/site-packages (from aiohttp<4.0.0,>=3.8.6->llama-index-core<0.11.0,>=0.10.1->llama-index-llms-groq) (1.9.4)\n",
      "Requirement already satisfied: click in /home/chandanha/Documents/My_Documents/Excel_data_reader/my_env/lib/python3.11/site-packages (from nltk<4.0.0,>=3.8.1->llama-index-core<0.11.0,>=0.10.1->llama-index-llms-groq) (8.1.7)\n",
      "Requirement already satisfied: joblib in /home/chandanha/Documents/My_Documents/Excel_data_reader/my_env/lib/python3.11/site-packages (from nltk<4.0.0,>=3.8.1->llama-index-core<0.11.0,>=0.10.1->llama-index-llms-groq) (1.4.2)\n",
      "Requirement already satisfied: regex>=2021.8.3 in /home/chandanha/Documents/My_Documents/Excel_data_reader/my_env/lib/python3.11/site-packages (from nltk<4.0.0,>=3.8.1->llama-index-core<0.11.0,>=0.10.1->llama-index-llms-groq) (2024.7.24)\n",
      "Requirement already satisfied: anyio<5,>=3.5.0 in /home/chandanha/Documents/My_Documents/Excel_data_reader/my_env/lib/python3.11/site-packages (from openai>=1.1.0->llama-index-core<0.11.0,>=0.10.1->llama-index-llms-groq) (4.4.0)\n",
      "Requirement already satisfied: distro<2,>=1.7.0 in /home/chandanha/Documents/My_Documents/Excel_data_reader/my_env/lib/python3.11/site-packages (from openai>=1.1.0->llama-index-core<0.11.0,>=0.10.1->llama-index-llms-groq) (1.9.0)\n",
      "Requirement already satisfied: jiter<1,>=0.4.0 in /home/chandanha/Documents/My_Documents/Excel_data_reader/my_env/lib/python3.11/site-packages (from openai>=1.1.0->llama-index-core<0.11.0,>=0.10.1->llama-index-llms-groq) (0.5.0)\n",
      "Requirement already satisfied: pydantic<3,>=1.9.0 in /home/chandanha/Documents/My_Documents/Excel_data_reader/my_env/lib/python3.11/site-packages (from openai>=1.1.0->llama-index-core<0.11.0,>=0.10.1->llama-index-llms-groq) (2.8.2)\n",
      "Requirement already satisfied: sniffio in /home/chandanha/Documents/My_Documents/Excel_data_reader/my_env/lib/python3.11/site-packages (from openai>=1.1.0->llama-index-core<0.11.0,>=0.10.1->llama-index-llms-groq) (1.3.1)\n",
      "Requirement already satisfied: certifi in /home/chandanha/Documents/My_Documents/Excel_data_reader/my_env/lib/python3.11/site-packages (from httpx->llama-index-core<0.11.0,>=0.10.1->llama-index-llms-groq) (2024.7.4)\n",
      "Requirement already satisfied: httpcore==1.* in /home/chandanha/Documents/My_Documents/Excel_data_reader/my_env/lib/python3.11/site-packages (from httpx->llama-index-core<0.11.0,>=0.10.1->llama-index-llms-groq) (1.0.5)\n",
      "Requirement already satisfied: idna in /home/chandanha/Documents/My_Documents/Excel_data_reader/my_env/lib/python3.11/site-packages (from httpx->llama-index-core<0.11.0,>=0.10.1->llama-index-llms-groq) (3.7)\n",
      "Requirement already satisfied: h11<0.15,>=0.13 in /home/chandanha/Documents/My_Documents/Excel_data_reader/my_env/lib/python3.11/site-packages (from httpcore==1.*->httpx->llama-index-core<0.11.0,>=0.10.1->llama-index-llms-groq) (0.14.0)\n",
      "Requirement already satisfied: charset-normalizer<4,>=2 in /home/chandanha/Documents/My_Documents/Excel_data_reader/my_env/lib/python3.11/site-packages (from requests>=2.31.0->llama-index-core<0.11.0,>=0.10.1->llama-index-llms-groq) (3.3.2)\n",
      "Requirement already satisfied: urllib3<3,>=1.21.1 in /home/chandanha/Documents/My_Documents/Excel_data_reader/my_env/lib/python3.11/site-packages (from requests>=2.31.0->llama-index-core<0.11.0,>=0.10.1->llama-index-llms-groq) (2.2.2)\n",
      "Requirement already satisfied: greenlet!=0.4.17 in /home/chandanha/Documents/My_Documents/Excel_data_reader/my_env/lib/python3.11/site-packages (from SQLAlchemy>=1.4.49->SQLAlchemy[asyncio]>=1.4.49->llama-index-core<0.11.0,>=0.10.1->llama-index-llms-groq) (3.0.3)\n",
      "Requirement already satisfied: filelock in /home/chandanha/Documents/My_Documents/Excel_data_reader/my_env/lib/python3.11/site-packages (from transformers<5.0.0,>=4.37.0->llama-index-llms-openai-like<0.2.0,>=0.1.3->llama-index-llms-groq) (3.15.4)\n",
      "Requirement already satisfied: huggingface-hub<1.0,>=0.23.2 in /home/chandanha/Documents/My_Documents/Excel_data_reader/my_env/lib/python3.11/site-packages (from transformers<5.0.0,>=4.37.0->llama-index-llms-openai-like<0.2.0,>=0.1.3->llama-index-llms-groq) (0.24.5)\n",
      "Requirement already satisfied: packaging>=20.0 in /home/chandanha/Documents/My_Documents/Excel_data_reader/my_env/lib/python3.11/site-packages (from transformers<5.0.0,>=4.37.0->llama-index-llms-openai-like<0.2.0,>=0.1.3->llama-index-llms-groq) (24.1)\n",
      "Requirement already satisfied: safetensors>=0.4.1 in /home/chandanha/Documents/My_Documents/Excel_data_reader/my_env/lib/python3.11/site-packages (from transformers<5.0.0,>=4.37.0->llama-index-llms-openai-like<0.2.0,>=0.1.3->llama-index-llms-groq) (0.4.4)\n",
      "Requirement already satisfied: tokenizers<0.20,>=0.19 in /home/chandanha/Documents/My_Documents/Excel_data_reader/my_env/lib/python3.11/site-packages (from transformers<5.0.0,>=4.37.0->llama-index-llms-openai-like<0.2.0,>=0.1.3->llama-index-llms-groq) (0.19.1)\n",
      "Requirement already satisfied: mypy-extensions>=0.3.0 in /home/chandanha/Documents/My_Documents/Excel_data_reader/my_env/lib/python3.11/site-packages (from typing-inspect>=0.8.0->llama-index-core<0.11.0,>=0.10.1->llama-index-llms-groq) (1.0.0)\n",
      "Requirement already satisfied: marshmallow<4.0.0,>=3.18.0 in /home/chandanha/Documents/My_Documents/Excel_data_reader/my_env/lib/python3.11/site-packages (from dataclasses-json->llama-index-core<0.11.0,>=0.10.1->llama-index-llms-groq) (3.21.3)\n",
      "Requirement already satisfied: python-dateutil>=2.8.2 in /home/chandanha/Documents/My_Documents/Excel_data_reader/my_env/lib/python3.11/site-packages (from pandas->llama-index-core<0.11.0,>=0.10.1->llama-index-llms-groq) (2.9.0.post0)\n",
      "Requirement already satisfied: pytz>=2020.1 in /home/chandanha/Documents/My_Documents/Excel_data_reader/my_env/lib/python3.11/site-packages (from pandas->llama-index-core<0.11.0,>=0.10.1->llama-index-llms-groq) (2024.1)\n",
      "Requirement already satisfied: tzdata>=2022.7 in /home/chandanha/Documents/My_Documents/Excel_data_reader/my_env/lib/python3.11/site-packages (from pandas->llama-index-core<0.11.0,>=0.10.1->llama-index-llms-groq) (2024.1)\n",
      "Requirement already satisfied: annotated-types>=0.4.0 in /home/chandanha/Documents/My_Documents/Excel_data_reader/my_env/lib/python3.11/site-packages (from pydantic<3,>=1.9.0->openai>=1.1.0->llama-index-core<0.11.0,>=0.10.1->llama-index-llms-groq) (0.7.0)\n",
      "Requirement already satisfied: pydantic-core==2.20.1 in /home/chandanha/Documents/My_Documents/Excel_data_reader/my_env/lib/python3.11/site-packages (from pydantic<3,>=1.9.0->openai>=1.1.0->llama-index-core<0.11.0,>=0.10.1->llama-index-llms-groq) (2.20.1)\n",
      "Requirement already satisfied: six>=1.5 in /home/chandanha/Documents/My_Documents/Excel_data_reader/my_env/lib/python3.11/site-packages (from python-dateutil>=2.8.2->pandas->llama-index-core<0.11.0,>=0.10.1->llama-index-llms-groq) (1.16.0)\n",
      "Note: you may need to restart the kernel to use updated packages.\n"
     ]
    }
   ],
   "source": [
    "\n",
    "%pip install llama-index-llms-groq"
   ]
  },
  {
   "cell_type": "code",
   "execution_count": null,
   "metadata": {},
   "outputs": [],
   "source": []
  }
 ],
 "metadata": {
  "kernelspec": {
   "display_name": "my_env",
   "language": "python",
   "name": "python3"
  },
  "language_info": {
   "codemirror_mode": {
    "name": "ipython",
    "version": 3
   },
   "file_extension": ".py",
   "mimetype": "text/x-python",
   "name": "python",
   "nbconvert_exporter": "python",
   "pygments_lexer": "ipython3",
   "version": "3.11.5"
  }
 },
 "nbformat": 4,
 "nbformat_minor": 2
}
