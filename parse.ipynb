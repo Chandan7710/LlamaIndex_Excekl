{
 "cells": [
  {
   "cell_type": "code",
   "execution_count": 1,
   "metadata": {},
   "outputs": [],
   "source": [
    "# %pip install llama-index\n",
    "# %pip install llama-parse"
   ]
  },
  {
   "cell_type": "code",
   "execution_count": 2,
   "metadata": {},
   "outputs": [],
   "source": [
    "import nest_asyncio\n",
    "\n",
    "nest_asyncio.apply()"
   ]
  },
  {
   "cell_type": "code",
   "execution_count": 3,
   "metadata": {},
   "outputs": [],
   "source": [
    "from llama_parse import LlamaParse\n",
    "\n",
    "api_key = \"llx-wL9ha5jpi9ZJJXl6eJHhyudfEpbl3braaUoQsMH3kwKluajm\"  # get from cloud.llamaindex.ai"
   ]
  },
  {
   "cell_type": "code",
   "execution_count": 4,
   "metadata": {},
   "outputs": [
    {
     "name": "stdout",
     "output_type": "stream",
     "text": [
      "Started parsing the file under job_id 4abe1440-0375-4878-af68-929de0fbb0aa\n"
     ]
    }
   ],
   "source": [
    "parser = LlamaParse(\n",
    "    api_key=api_key,  # can also be set in your env as LLAMA_CLOUD_API_KEY\n",
    "    result_type=\"markdown\",\n",
    ")\n",
    "docs = parser.load_data(\"./Tv_catalogue.xlsx\")\n",
    "# docs_txt = LlamaParse(result_type=\"text\").load_data(\"./Tv_catalogue.xlsx\")"
   ]
  },
  {
   "cell_type": "code",
   "execution_count": 5,
   "metadata": {},
   "outputs": [
    {
     "data": {
      "text/plain": [
       "[Document(id_='dc9df24c-a618-4074-b506-99d68e387ab7', embedding=None, metadata={}, excluded_embed_metadata_keys=[], excluded_llm_metadata_keys=[], relationships={}, text='|Brand    |Product name                                                            |Model                                            |Model Name    |Price  |Display Size|Screen Type|Resolution Standard|No of USB Port|No of HDMI Port|Color |Speaker Output RMS|\\n|---------|------------------------------------------------------------------------|-------------------------------------------------|--------------|-------|------------|-----------|-------------------|--------------|---------------|------|------------------|\\n|Samsung  |Samsung 43 Inches Full HD LED TV (43J5100, Black)                       |43 Inch LED Full HD TV (43J5100)                 |43J5100       |37,200 |43 inch     |LED        |Full-HD            |2             |2              |Black |16 W              |\\n|Samsung  |Samsung 32 Inches HD Ready LED Smart TV (Series 4 UA32N4305ARXXL, Black)|32 Inch LED HD Ready TV (Series 4 UA32N4305ARXXL)|UA32N4305ARXXL|14,499 |32 inch     |LED        |HD-Ready           |1             |2              |Black |10W               |\\n|Samsung  |Samsung 49 Inches Full HD LED Curved TV (49M6300, Grey)                 |49 Inch LED Full HD TV (49M6300)                 |49M6300       |91,850 |49 inch     |LED        |Full-HD            |2             |3              |Black |20 W              |\\n|Samsung  |Samsung 43 Inches Full HD LED Smart TV (43M5570, Grey)                  |43 Inch LED Full HD TV (43M5570)                 |43M5570       |33,790 |43 inch     |LED        |Full-HD            |2             |3              |Black |20 W              |\\n|Samsung  |Samsung 50 Inches Ultra HD (4K) LED Smart TV (50MU6100, Black)          |50 Inch LED Ultra HD (4K) TV (50MU6100)          |50MU6100      |69,000 |50 inch     |LED        |4K                 |2             |3              |Black |20 W              |\\n|Samsung  |Samsung 75 Inches Ultra HD (4K) LED Smart TV (75MU7000, Black)          |75 Inch LED Ultra HD (4K) TV (75MU7000)          |75MU7000      |599,900|75 inch     |LED        |4K                 |3             |4              |Black |40 W              |\\n|Samsung  |Samsung 65 Inches Ultra HD (4K) LED Smart TV (65MU7500, Silver)         |65 Inch LED Ultra HD (4K) TV (65MU7500)          |65MU7500      |344,900|65 inch     |LED        |4K                 |3             |4              |Silver|40 W              |\\n|Samsung  |Samsung 49 Inches Ultra HD (4K) LED Smart TV (49MU7000, Black)          |49 Inch LED Ultra HD (4K) TV (49MU7000)          |49MU7000      |155,900|49 inch     |LED        |4K                 |3             |4              |Black |40 W              |\\n|Samsung  |Samsung 55 Inches Ultra HD (4K) QLED Curved TV (55Q8C, Black)           |55 Inch QLED Ultra HD (4K) TV (55Q8C)            |55Q8C         |344,900|55 inch     |QLED       |4K                 |3             |4              |Black |60 W              |\\n|Samsung  |Samsung 55 Inches Ultra HD (4K) LED Curved TV (55MU7500, Grey)          |55 Inch LED Ultra HD (4K) TV (55MU7500)          |55MU7500      |229,900|55 inch     |LED        |4K                 |2             |3              |Black |40 W              |\\n|LG       |LG 55 Inches Ultra HD LED Smart TV (55UK6360PTE, Black)                 |55 Inch LED Ultra HD (4K) TV (55UK6360PTE)       |55UK6360PTE   |58,999 |55 inch     |LED        |4K                 |1             |2              |Black |20 W              |\\n|LG       |LG 65 Inches Ultra HD OLED Smart TV (OLED65B8PTA, Grey)                 |65 Inch OLED Ultra HD (4K) TV (OLED65B8PTA)      |OLED65B8PTA   |259,350|65 inch     |OLED       |4K                 |1             |3              |Black |40 W              |\\n|LG       |LG 32 Inches HD Ready LED Smart TV (32LK628BPTF)                        |32 Inch LED HD Ready TV (32LK628BPTF)            |32LK628BPTF   |20,990 |32 inch     |LED        |HD-Ready           |1             |3              |Black |35 W              |\\n|LG       |LG 55 Inches Ultra HD LED Smart TV (55UK6500PTC, Black)                 |55 Inch LED Ultra HD (4K) TV (55UK6500PTC)       |55UK6500PTC   |71,462 |55 inch     |LED        |4K                 |2             |4              |Black |20 W              |\\n|LG       |LG 55 Inches Ultra HD (4K) LED Smart TV (55UK7500PTA, Silver)           |55 Inch LED Ultra HD (4K) TV (55UK7500PTA)       |55UK7500PTA   |65,195 |55 inch     |LED        |4K                 |2             |4              |Black |20 W              |\\n|LG       |LG 55 Inches Ultra HD (4K) OLED Smart TV (OLED55B8PTA, Grey)            |55 Inch OLED Ultra HD (4K) TV (OLED55B8PTA)      |OLED55B8PTA   |159,999|55 inch     |OLED       |4K                 |1             |3              |Grey  |40 W              |\\n|LG       |LG 65 Inches Ultra HD (4K) OLED Smart TV (OLED65C8PTA)                  |65 Inch OLED Ultra HD (4K) TV (OLED65C8PTA)      |OLED65C8PTA   |249,999|65 inch     |OLED       |4K                 |1             |2              |Black |40 W              |\\n|LG       |LG 65 Inches Ultra HD (4K) LED Smart TV (65UK7500PTA, Silver)           |65 Inch LED Ultra HD (4K) TV (65UK7500PTA)       |65UK7500PTA   |149,999|65 inch     |LED        |4K                 |2             |4              |Black |20 W              |\\n|LG       |LG 65 Inches Ultra HD (4K) LED Smart TV (65UK6360PTE)                   |65 Inch LED Ultra HD TV (65UK6360PTE)            |65UK6360PTE   |120,999|65 inch     |LED        |Ultra-HD           |2             |3              |Grey  |20 W              |\\n|LG       |LG 43 Inches Ultra HD (4K) LED Smart TV (43UK6360PTE, Black)            |43 Inch LED Ultra HD (4K) TV (43UK6360PTE)       |43UK6360PTE   |36,999 |43 inch     |LED        |4K                 |1             |2              |Black |20 W              |\\n|Panasonic|Panasonic 43 Inches Full HD LED Smart TV (TH-43ES480DX, Black)          |43 Inch LED Full HD TV (TH-43ES480DX)            |TH-43ES480DX  |35,464 |43 inch     |LED        |Full-HD            |2             |2              |Black |20 W              |\\n|Panasonic|Panasonic 49 Inches Full HD LED Smart TV (TH-49ES480DX, Black)          |49 Inch LED Full HD TV (TH-49ES480DX)            |TH-49ES480DX  |42,999 |49 inch     |LED        |Full-HD            |2             |3              |Black |20 W              |\\n|Panasonic|Panasonic 65 Inches Ultra HD (4K) LED Smart TV (TH-65FX800D, Grey)      |65 Inch LED Ultra HD (4K) TV (TH-65FX800D)       |TH-65FX800D   |171,515|65 inch     |LED        |4K                 |3             |4              |Grey  |20 W              |\\n|Panasonic|Panasonic 32 Inches HD Ready LED Stard TV (TH-32ES480DX, Black)         |32 Inch LED HD Ready TV (TH-32ES480DX)           |TH-32ES480DX  |24,990 |32 inch     |LED        |HD-Ready           |2             |2              |Black |20 W              |\\n|Panasonic|Panasonic 32 Inches Full HD LED Smart TV (TH-32FS600D, Black)           |32 Inch LED HD Ready TV (TH-32FS600D)            |TH-32FS600D   |19,499 |32 inch     |LED        |HD-Ready           |2             |3              |Black |20 W              |\\n|Panasonic|Panasonic 55 Inches Ultra HD (4K) LED Smart TV (TH-55FX800D, Grey)      |55 Inch LED Ultra HD (4K) TV (TH-55FX800D)       |TH-55FX800D   |191,621|55 inch     |LED        |4K                 |3             |4              |Black |20 W              |\\n|Panasonic|Panasonic 55 Inches Ultra HD (4K) LED Smart TV (TH-55FX600D, Black)     |55 Inch LED Ultra HD (4K) TV (TH-55FX600D)       |TH-55FX600D   |69,999 |55 inch     |LED        |4K                 |3             |4              |Black |20 W              |\\n|Panasonic|Panasonic 49 Inches Ultra HD (4K) LED Smart TV (TH-49FX730D, Grey)      |49 Inch LED Ultra HD (4K) TV (TH-49FX730D)       |TH-49FX730D   |69,999 |49 inch     |LED        |4K                 |3             |3              |Black |20 W              |\\n|Panasonic|Panasonic 50 Inches Full HD LED Smart TV (TH-50FS600D, Black)           |50 Inch LED Full HD TV (TH-50FS600D)             |TH-50FS600D   |35,000 |50 inch     |LED        |Full-HD            |2             |3              |Black |20 W              |\\n|Panasonic|Panasonic 55 Inches Ultra HD (4K) LED Smart TV (TH-55FX650D, Grey)      |55 Inch LED Ultra HD (4K) TV (TH-55FX650D)       |TH-55FX650D   |64,790 |55 inch     |LED        |4K                 |2             |3              |Black |20 W              |\\n|Sony     |Sony 55 Inches LED Ultra HD (4K) TV (KD-55X7400H, Black)                |55 Inch LED Ultra HD TV (KD-55X7400H)            |KD-55X7400H   |66,999 |55 inch     |LED        |4K                 |2             |3              |Black |20 W              |\\n|Sony     |Sony 43 Inches Ultra HD (4K) LCD TV (KD-43X8500C, Black)                |43 Inch LCD Ultra HD (4K) TV (KD-43X8500C)       |KD-43X8500C   |85,948 |43 inch     |LED        |4K                 |3             |4              |Black |20 W              |\\n|Sony     |Sony 49 Inches HD Ready LCD Smart TV (KD-49X8300D, Black)               |49 Inch LED Ultra HD (4K) TV (KD-49X8300D)       |KD-49X8300D   |99,999 |49 inch     |LED        |4K                 |3             |4              |Black |20 W              |\\n|Sony     |Sony 55 Inches Ultra HD (4K) LCD TV (KD-55X8200E, Black)                |55 Inch LED Ultra HD (4K) TV (KD-55X8200E)       |KD-55X8200E   |124,900|55 inch     |LED        |4K                 |3             |4              |Black |40 W              |\\n|Sony     |Sony 55 Inches Ultra HD (4K) LED Smart Android TV (55X9000H, Black)     |55-inch 4K HDR LED Android TV (55X9000H)         |KD-55X9000H   |104,990|55 inch     |LED        |4K                 |2             |4              |Black |20W               |\\n|Sony     |Sony 40 Inches Full HD LCD Smart TV (KLV-40W562D, Black)                |40 Inch LED Full HD TV (KLV-40W562D)             |KLV-40W562D   |29,999 |39 inch     |LED        |Full-HD            |2             |2              |Black |30 W              |\\n|Sony     |Sony 43 Inches Full HD LCD TV (KDL-43W800D, Black)                      |43 Inch LED Full HD TV (KDL-43W800D)             |KDL-43W800D   |49,999 |43 inch     |LED        |Full-HD            |2             |4              |Black |10 W x 2          |\\n|Sony     |Sony 40 Inches Full HD LCD Smart TV (KLV-40W672E, Black)                |40 Inch LED Full HD TV (KLV-40W672E)             |KLV-40W672E   |41,499 |40 inch     |LED        |Full-HD            |2             |2              |Black |30 W              |\\n|Sony     |Sony 65 Inches Ultra HD (4K) LCD TV (KD-65X9300E, Black)                |65 Inch LED Ultra HD (4K) TV (KD-65X9300E)       |KD-65X9300E   |179,999|65 inch     |LED        |4K                 |3             |4              |Black |60 W              |\\n|Sony     |Sony 49 Inches Ultra HD (4K) LCD Smart TV (KD-49X7500E, Black)          |49 Inch LED Ultra HD (4K) TV (KD-49X7500E)       |KD-49X7500E   |71,999 |49 inch     |LED        |4K                 |3             |4              |Black |20 W              |\\n', mimetype='text/plain', start_char_idx=None, end_char_idx=None, text_template='{metadata_str}\\n\\n{content}', metadata_template='{key}: {value}', metadata_seperator='\\n')]"
      ]
     },
     "execution_count": 5,
     "metadata": {},
     "output_type": "execute_result"
    }
   ],
   "source": [
    "docs"
   ]
  },
  {
   "cell_type": "code",
   "execution_count": 6,
   "metadata": {},
   "outputs": [
    {
     "data": {
      "text/plain": [
       "list"
      ]
     },
     "execution_count": 6,
     "metadata": {},
     "output_type": "execute_result"
    }
   ],
   "source": [
    "type(docs)"
   ]
  },
  {
   "cell_type": "code",
   "execution_count": 7,
   "metadata": {},
   "outputs": [
    {
     "name": "stdout",
     "output_type": "stream",
     "text": [
      "|Brand    |Product name                                                            |Model                                            |Model Name    |Price  |Display Size|Screen Type|Resolution Standard|No of USB Port|No of HDMI Port|Color |Speaker Output RMS|\n",
      "|---------|------------------------------------------------------------------------|-------------------------------------------------|--------------|-------|------------|-----------|-------------------|--------------|---------------|------|------------------|\n",
      "|Samsung  |Samsung 43 Inches Full HD LED TV (43J5100, Black)                       |43 Inch LED Full HD TV (43J5100)                 |43J5100       |37,200 |43 inch     |LED        |Full-HD            |2             |2              |Black |16 W              |\n",
      "|Samsung  |Samsung 32 Inches HD Ready LED Smart TV (Series 4 UA32N4305ARXXL, Black)|32 Inch LED HD Ready TV (Series 4 UA32N4305ARXXL)|UA32N4305ARXXL|14,499 |32 inch     |LED        |HD-Ready           |1             |2              |Black |10W               |\n",
      "|Samsung  |Samsung 49 Inches Full HD LED Curved TV (49M6300, Grey)                 |49 Inch LED Full HD TV (49M6300)                 |49M6300       |91,850 |49 inch     |LED        |Full-HD            |2             |3              |Black |20 W              |\n",
      "|Samsung  |Samsung 43 Inches Full HD LED Smart TV (43M5570, Grey)                  |43 Inch LED Full HD TV (43M5570)                 |43M5570       |33,790 |43 inch     |LED        |Full-HD            |2             |3              |Black |20 W              |\n",
      "|Samsung  |Samsung 50 Inches Ultra HD (4K) LED Smart TV (50MU6100, Black)          |50 Inch LED Ultra HD (4K) TV (50MU6100)          |50MU6100      |69,000 |50 inch     |LED        |4K                 |2             |3              |Black |20 W              |\n",
      "|Samsung  |Samsung 75 Inches Ultra HD (4K) LED Smart TV (75MU7000, Black)          |75 Inch LED Ultra HD (4K) TV (75MU7000)          |75MU7000      |599,900|75 inch     |LED        |4K                 |3             |4              |Black |40 W              |\n",
      "|Samsung  |Samsung 65 Inches Ultra HD (4K) LED Smart TV (65MU7500, Silver)         |65 Inch LED Ultra HD (4K) TV (65MU7500)          |65MU7500      |344,900|65 inch     |LED        |4K                 |3             |4              |Silver|40 W              |\n",
      "|Samsung  |Samsung 49 Inches Ultra HD (4K) LED Smart TV (49MU7000, Black)          |49 Inch LED Ultra HD (4K) TV (49MU7000)          |49MU7000      |155,900|49 inch     |LED        |4K                 |3             |4              |Black |40 W              |\n",
      "|Samsung  |Samsung 55 Inches Ultra HD (4K) QLED Curved TV (55Q8C, Black)           |55 Inch QLED Ultra HD (4K) TV (55Q8C)            |55Q8C         |344,900|55 inch     |QLED       |4K                 |3             |4              |Black |60 W              |\n",
      "|Samsung  |Samsung 55 Inches Ultra HD (4K) LED Curved TV (55MU7500, Grey)          |55 Inch LED Ultra HD (4K) TV (55MU7500)          |55MU7500      |229,900|55 inch     |LED        |4K                 |2             |3              |Black |40 W              |\n",
      "|LG       |LG 55 Inches Ultra HD LED Smart TV (55UK6360PTE, Black)                 |55 Inch LED Ultra HD (4K) TV (55UK6360PTE)       |55UK6360PTE   |58,999 |55 inch     |LED        |4K                 |1             |2              |Black |20 W              |\n",
      "|LG       |LG 65 Inches Ultra HD OLED Smart TV (OLED65B8PTA, Grey)                 |65 Inch OLED Ultra HD (4K) TV (OLED65B8PTA)      |OLED65B8PTA   |259,350|65 inch     |OLED       |4K                 |1             |3              |Black |40 W              |\n",
      "|LG       |LG 32 Inches HD Ready LED Smart TV (32LK628BPTF)                        |32 Inch LED HD Ready TV (32LK628BPTF)            |32LK628BPTF   |20,990 |32 inch     |LED        |HD-Ready           |1             |3              |Black |35 W              |\n",
      "|LG       |LG 55 Inches Ultra HD LED Smart TV (55UK6500PTC, Black)                 |55 Inch LED Ultra HD (4K) TV (55UK6500PTC)       |55UK6500PTC   |71,462 |55 inch     |LED        |4K                 |2             |4              |Black |20 W              |\n",
      "|LG       |LG 55 Inches Ultra HD (4K) LED Smart TV (55UK7500PTA, Silver)           |55 Inch LED Ultra HD (4K) TV (55UK7500PTA)       |55UK7500PTA   |65,195 |55 inch     |LED        |4K                 |2             |4              |Black |20 W              |\n",
      "|LG       |LG 55 Inches Ultra HD (4K) OLED Smart TV (OLED55B8PTA, Grey)            |55 Inch OLED Ultra HD (4K) TV (OLED55B8PTA)      |OLED55B8PTA   |159,999|55 inch     |OLED       |4K                 |1             |3              |Grey  |40 W              |\n",
      "|LG       |LG 65 Inches Ultra HD (4K) OLED Smart TV (OLED65C8PTA)                  |65 Inch OLED Ultra HD (4K) TV (OLED65C8PTA)      |OLED65C8PTA   |249,999|65 inch     |OLED       |4K                 |1             |2              |Black |40 W              |\n",
      "|LG       |LG 65 Inches Ultra HD (4K) LED Smart TV (65UK7500PTA, Silver)           |65 Inch LED Ultra HD (4K) TV (65UK7500PTA)       |65UK7500PTA   |149,999|65 inch     |LED        |4K                 |2             |4              |Black |20 W              |\n",
      "|LG       |LG 65 Inches Ultra HD (4K) LED Smart TV (65UK6360PTE)                   |65 Inch LED Ultra HD TV (65UK6360PTE)            |65UK6360PTE   |120,999|65 inch     |LED        |Ultra-HD           |2             |3              |Grey  |20 W              |\n",
      "|LG       |LG 43 Inches Ultra HD (4K) LED Smart TV (43UK6360PTE, Black)            |43 Inch LED Ultra HD (4K) TV (43UK6360PTE)       |43UK6360PTE   |36,999 |43 inch     |LED        |4K                 |1             |2              |Black |20 W              |\n",
      "|Panasonic|Panasonic 43 Inches Full HD LED Smart TV (TH-43ES480DX, Black)          |43 Inch LED Full HD TV (TH-43ES480DX)            |TH-43ES480DX  |35,464 |43 inch     |LED        |Full-HD            |2             |2              |Black |20 W              |\n",
      "|Panasonic|Panasonic 49 Inches Full HD LED Smart TV (TH-49ES480DX, Black)          |49 Inch LED Full HD TV (TH-49ES480DX)            |TH-49ES480DX  |42,999 |49 inch     |LED        |Full-HD            |2             |3              |Black |20 W              |\n",
      "|Panasonic|Panasonic 65 Inches Ultra HD (4K) LED Smart TV (TH-65FX800D, Grey)      |65 Inch LED Ultra HD (4K) TV (TH-65FX800D)       |TH-65FX800D   |171,515|65 inch     |LED        |4K                 |3             |4              |Grey  |20 W              |\n",
      "|Panasonic|Panasonic 32 Inches HD Ready LED Stard TV (TH-32ES480DX, Black)         |32 Inch LED HD Ready TV (TH-32ES480DX)           |TH-32ES480DX  |24,990 |32 inch     |LED        |HD-Ready           |2             |2              |Black |20 W              |\n",
      "|Panasonic|Panasonic 32 Inches Full HD LED Smart TV (TH-32FS600D, Black)           |32 Inch LED HD Ready TV (TH-32FS600D)            |TH-32FS600D   |19,499 |32 inch     |LED        |HD-Ready           |2             |3              |Black |20 W              |\n",
      "|Panasonic|Panasonic 55 Inches Ultra HD (4K) LED Smart TV (TH-55FX800D, Grey)      |55 Inch LED Ultra HD (4K) TV (TH-55FX800D)       |TH-55FX800D   |191,621|55 inch     |LED        |4K                 |3             |4              |Black |20 W              |\n",
      "|Panasonic|Panasonic 55 Inches Ultra HD (4K) LED Smart TV (TH-55FX600D, Black)     |55 Inch LED Ultra HD (4K) TV (TH-55FX600D)       |TH-55FX600D   |69,999 |55 inch     |LED        |4K                 |3             |4              |Black |20 W              |\n",
      "|Panasonic|Panasonic 49 Inches Ultra HD (4K) LED Smart TV (TH-49FX730D, Grey)      |49 Inch LED Ultra HD (4K) TV (TH-49FX730D)       |TH-49FX730D   |69,999 |49 inch     |LED        |4K                 |3             |3              |Black |20 W              |\n",
      "|Panasonic|Panasonic 50 Inches Full HD LED Smart TV (TH-50FS600D, Black)           |50 Inch LED Full HD TV (TH-50FS600D)             |TH-50FS600D   |35,000 |50 inch     |LED        |Full-HD            |2             |3              |Black |20 W              |\n",
      "|Panasonic|Panasonic 55 Inches Ultra HD (4K) LED Smart TV (TH-55FX650D, Grey)      |55 Inch LED Ultra HD (4K) TV (TH-55FX650D)       |TH-55FX650D   |64,790 |55 inch     |LED        |4K                 |2             |3              |Black |20 W              |\n",
      "|Sony     |Sony 55 Inches LED Ultra HD (4K) TV (KD-55X7400H, Black)                |55 Inch LED Ultra HD TV (KD-55X7400H)            |KD-55X7400H   |66,999 |55 inch     |LED        |4K                 |2             |3              |Black |20 W              |\n",
      "|Sony     |Sony 43 Inches Ultra HD (4K) LCD TV (KD-43X8500C, Black)                |43 Inch LCD Ultra HD (4K) TV (KD-43X8500C)       |KD-43X8500C   |85,948 |43 inch     |LED        |4K                 |3             |4              |Black |20 W              |\n",
      "|Sony     |Sony 49 Inches HD Ready LCD Smart TV (KD-49X8300D, Black)               |49 Inch LED Ultra HD (4K) TV (KD-49X8300D)       |KD-49X8300D   |99,999 |49 inch     |LED        |4K                 |3             |4              |Black |20 W              |\n",
      "|Sony     |Sony 55 Inches Ultra HD (4K) LCD TV (KD-55X8200E, Black)                |55 Inch LED Ultra HD (4K) TV (KD-55X8200E)       |KD-55X8200E   |124,900|55 inch     |LED        |4K                 |3             |4              |Black |40 W              |\n",
      "|Sony     |Sony 55 Inches Ultra HD (4K) LED Smart Android TV (55X9000H, Black)     |55-inch 4K HDR LED Android TV (55X9000H)         |KD-55X9000H   |104,990|55 inch     |LED        |4K                 |2             |4              |Black |20W               |\n",
      "|Sony     |Sony 40 Inches Full HD LCD Smart TV (KLV-40W562D, Black)                |40 Inch LED Full HD TV (KLV-40W562D)             |KLV-40W562D   |29,999 |39 inch     |LED        |Full-HD            |2             |2              |Black |30 W              |\n",
      "|Sony     |Sony 43 Inches Full HD LCD TV (KDL-43W800D, Black)                      |43 Inch LED Full HD TV (KDL-43W800D)             |KDL-43W800D   |49,999 |43 inch     |LED        |Full-HD            |2             |4              |Black |10 W x 2          |\n",
      "|Sony     |Sony 40 Inches Full HD LCD Smart TV (KLV-40W672E, Black)                |40 Inch LED Full HD TV (KLV-40W672E)             |KLV-40W672E   |41,499 |40 inch     |LED        |Full-HD            |2             |2              |Black |30 W              |\n",
      "|Sony     |Sony 65 Inches Ultra HD (4K) LCD TV (KD-65X9300E, Black)                |65 Inch LED Ultra HD (4K) TV (KD-65X9300E)       |KD-65X9300E   |179,999|65 inch     |LED        |4K                 |3             |4              |Black |60 W              |\n",
      "|Sony     |Sony 49 Inches Ultra HD (4K) LCD Smart TV (KD-49X7500E, Black)          |49 Inch LED Ultra HD (4K) TV (KD-49X7500E)       |KD-49X7500E   |71,999 |49 inch     |LED        |4K                 |3             |4              |Black |20 W              |\n",
      "\n"
     ]
    }
   ],
   "source": [
    "print(docs[0].get_content())"
   ]
  },
  {
   "cell_type": "code",
   "execution_count": 8,
   "metadata": {},
   "outputs": [
    {
     "name": "stderr",
     "output_type": "stream",
     "text": [
      "/home/chandanha/Documents/My_Documents/Excel_data_reader/my_env/lib/python3.11/site-packages/tqdm/auto.py:21: TqdmWarning: IProgress not found. Please update jupyter and ipywidgets. See https://ipywidgets.readthedocs.io/en/stable/user_install.html\n",
      "  from .autonotebook import tqdm as notebook_tqdm\n"
     ]
    }
   ],
   "source": [
    "from llama_index.llms.together import TogetherLLM\n",
    "from llama_index.core import Settings\n",
    "\n",
    "llm = TogetherLLM(model=\"META-LLAMA/LLAMA-3-70B-CHAT-HF\", \n",
    "api_key=\"87cac61702f938de91651d60977c8a2978163b011f9ba6e991f0e954b9c2c2ce\")\n",
    "Settings.llm = llm"
   ]
  },
  {
   "cell_type": "code",
   "execution_count": 9,
   "metadata": {},
   "outputs": [],
   "source": [
    "from llama_index.core import SummaryIndex\n",
    "\n",
    "index = SummaryIndex.from_documents(docs)\n",
    "# index = SummaryIndex.from_documents(docs_txt)\n",
    "\n",
    "query_engine = index.as_query_engine()"
   ]
  },
  {
   "cell_type": "code",
   "execution_count": 10,
   "metadata": {},
   "outputs": [],
   "source": [
    "# !pip install llama-index-readers-file\n",
    "# !pip install openpyxl"
   ]
  },
  {
   "cell_type": "code",
   "execution_count": 11,
   "metadata": {},
   "outputs": [],
   "source": [
    "from llama_index.readers.file import PandasExcelReader\n",
    "import importlib\n",
    "from pathlib import Path\n",
    "\n",
    "base_reader = PandasExcelReader()\n",
    "base_docs = base_reader.load_data(Path(\"Tv_catalogue.xlsx\"))"
   ]
  },
  {
   "cell_type": "code",
   "execution_count": 12,
   "metadata": {},
   "outputs": [
    {
     "data": {
      "text/plain": [
       "[Document(id_='af66e52e-1aaa-429a-8153-dfc349381f92', embedding=None, metadata={}, excluded_embed_metadata_keys=[], excluded_llm_metadata_keys=[], relationships={}, text='Samsung Samsung 43 Inches Full HD LED TV (43J5100, Black) 43 Inch LED Full HD TV (43J5100) 43J5100 37200 43 inch LED Full-HD 2 2 Black 16 W\\nSamsung Samsung 32 Inches HD Ready LED Smart TV (Series 4 UA32N4305ARXXL, Black) 32 Inch LED HD Ready TV (Series 4 UA32N4305ARXXL) UA32N4305ARXXL 14499 32 inch LED HD-Ready 1 2 Black 10W\\nSamsung Samsung 49 Inches Full HD LED Curved TV (49M6300, Grey) 49 Inch LED Full HD TV (49M6300) 49M6300 91850 49 inch LED Full-HD 2 3 Black 20 W\\nSamsung Samsung 43 Inches Full HD LED Smart TV (43M5570, Grey) 43 Inch LED Full HD TV (43M5570) 43M5570 33790 43 inch LED Full-HD 2 3 Black 20 W\\nSamsung Samsung 50 Inches Ultra HD (4K) LED Smart TV (50MU6100, Black) 50 Inch LED Ultra HD (4K) TV (50MU6100) 50MU6100 69000 50 inch LED 4K 2 3 Black 20 W\\nSamsung Samsung 75 Inches Ultra HD (4K) LED Smart TV (75MU7000, Black) 75 Inch LED Ultra HD (4K) TV (75MU7000) 75MU7000 599900 75 inch LED 4K 3 4 Black 40 W\\nSamsung Samsung 65 Inches Ultra HD (4K) LED Smart TV (65MU7500, Silver) 65 Inch LED Ultra HD (4K) TV (65MU7500) 65MU7500 344900 65 inch LED 4K 3 4 Silver 40 W\\nSamsung Samsung 49 Inches Ultra HD (4K) LED Smart TV (49MU7000, Black) 49 Inch LED Ultra HD (4K) TV (49MU7000) 49MU7000 155900 49 inch LED 4K 3 4 Black 40 W\\nSamsung Samsung 55 Inches Ultra HD (4K) QLED Curved TV (55Q8C, Black) 55 Inch QLED Ultra HD (4K) TV (55Q8C) 55Q8C 344900 55 inch QLED 4K 3 4 Black 60 W\\nSamsung Samsung 55 Inches Ultra HD (4K) LED Curved TV (55MU7500, Grey) 55 Inch LED Ultra HD (4K) TV (55MU7500) 55MU7500 229900 55 inch LED 4K 2 3 Black 40 W\\nLG LG 55 Inches Ultra HD LED Smart TV (55UK6360PTE, Black) 55 Inch LED Ultra HD (4K) TV (55UK6360PTE) 55UK6360PTE 58999 55 inch LED 4K 1 2 Black 20 W\\nLG LG 65 Inches Ultra HD OLED Smart TV (OLED65B8PTA, Grey) 65 Inch OLED Ultra HD (4K) TV (OLED65B8PTA) OLED65B8PTA 259350 65 inch OLED 4K 1 3 Black 40 W\\nLG LG 32 Inches HD Ready LED Smart TV (32LK628BPTF) 32 Inch LED HD Ready TV (32LK628BPTF) 32LK628BPTF 20990 32 inch LED HD-Ready 1 3 Black 35 W\\nLG LG 55 Inches Ultra HD LED Smart TV (55UK6500PTC, Black) 55 Inch LED Ultra HD (4K) TV (55UK6500PTC) 55UK6500PTC 71462 55 inch LED 4K 2 4 Black 20 W\\nLG LG 55 Inches Ultra HD (4K) LED Smart TV (55UK7500PTA, Silver) 55 Inch LED Ultra HD (4K) TV (55UK7500PTA) 55UK7500PTA 65195 55 inch LED 4K 2 4 Black 20 W\\nLG LG 55 Inches Ultra HD (4K) OLED Smart TV (OLED55B8PTA, Grey) 55 Inch OLED Ultra HD (4K) TV (OLED55B8PTA) OLED55B8PTA 159999 55 inch OLED 4K 1 3 Grey 40 W\\nLG LG 65 Inches Ultra HD (4K) OLED Smart TV (OLED65C8PTA) 65 Inch OLED Ultra HD (4K) TV (OLED65C8PTA) OLED65C8PTA 249999 65 inch OLED 4K 1 2 Black 40 W\\nLG LG 65 Inches Ultra HD (4K) LED Smart TV (65UK7500PTA, Silver) 65 Inch LED Ultra HD (4K) TV (65UK7500PTA) 65UK7500PTA 149999 65 inch LED 4K 2 4 Black 20 W\\nLG LG 65 Inches Ultra HD (4K) LED Smart TV (65UK6360PTE) 65 Inch LED Ultra HD TV (65UK6360PTE) 65UK6360PTE 120999 65 inch LED Ultra-HD 2 3 Grey 20 W\\nLG LG 43 Inches Ultra HD (4K) LED Smart TV (43UK6360PTE, Black) 43 Inch LED Ultra HD (4K) TV (43UK6360PTE) 43UK6360PTE 36999 43 inch LED 4K 1 2 Black 20 W\\nPanasonic Panasonic 43 Inches Full HD LED Smart TV (TH-43ES480DX, Black) 43 Inch LED Full HD TV (TH-43ES480DX) TH-43ES480DX 35464 43 inch LED Full-HD 2 2 Black 20 W\\nPanasonic Panasonic 49 Inches Full HD LED Smart TV (TH-49ES480DX, Black) 49 Inch LED Full HD TV (TH-49ES480DX) TH-49ES480DX 42999 49 inch LED Full-HD 2 3 Black 20 W\\nPanasonic Panasonic 65 Inches Ultra HD (4K) LED Smart TV (TH-65FX800D, Grey) 65 Inch LED Ultra HD (4K) TV (TH-65FX800D) TH-65FX800D 171515 65 inch LED 4K 3 4 Grey 20 W\\nPanasonic Panasonic 32 Inches HD Ready LED Stard TV (TH-32ES480DX, Black) 32 Inch LED HD Ready TV (TH-32ES480DX) TH-32ES480DX 24990 32 inch LED HD-Ready 2 2 Black 20 W\\nPanasonic Panasonic 32 Inches Full HD LED Smart TV (TH-32FS600D, Black) 32 Inch LED HD Ready TV (TH-32FS600D) TH-32FS600D 19499 32 inch LED HD-Ready 2 3 Black 20 W\\nPanasonic Panasonic 55 Inches Ultra HD (4K) LED Smart TV (TH-55FX800D, Grey) 55 Inch LED Ultra HD (4K) TV (TH-55FX800D) TH-55FX800D 191621 55 inch LED 4K 3 4 Black 20 W\\nPanasonic Panasonic 55 Inches Ultra HD (4K) LED Smart TV (TH-55FX600D, Black) 55 Inch LED Ultra HD (4K) TV (TH-55FX600D) TH-55FX600D 69999 55 inch LED 4K 3 4 Black 20 W\\nPanasonic Panasonic 49 Inches Ultra HD (4K) LED Smart TV (TH-49FX730D, Grey) 49 Inch LED Ultra HD (4K) TV (TH-49FX730D) TH-49FX730D 69999 49 inch LED 4K 3 3 Black 20 W\\nPanasonic Panasonic 50 Inches Full HD LED Smart TV (TH-50FS600D, Black) 50 Inch LED Full HD TV (TH-50FS600D) TH-50FS600D 35000 50 inch LED Full-HD 2 3 Black 20 W\\nPanasonic Panasonic 55 Inches Ultra HD (4K) LED Smart TV (TH-55FX650D, Grey) 55 Inch LED Ultra HD (4K) TV (TH-55FX650D) TH-55FX650D 64790 55 inch LED 4K 2 3 Black 20 W\\nSony Sony 55 Inches LED Ultra HD (4K) TV (KD-55X7400H, Black) 55 Inch LED Ultra HD TV (KD-55X7400H) KD-55X7400H 66999 55 inch LED 4K 2 3 Black 20 W\\nSony Sony 43 Inches Ultra HD (4K) LCD TV (KD-43X8500C, Black) 43 Inch LCD Ultra HD (4K) TV (KD-43X8500C) KD-43X8500C 85948 43 inch LED 4K 3 4 Black 20 W\\nSony Sony 49 Inches HD Ready LCD Smart TV (KD-49X8300D, Black) 49 Inch LED Ultra HD (4K) TV (KD-49X8300D) KD-49X8300D 99999 49 inch LED 4K 3 4 Black 20 W\\nSony Sony 55 Inches Ultra HD (4K) LCD TV (KD-55X8200E, Black) 55 Inch LED Ultra HD (4K) TV (KD-55X8200E) KD-55X8200E 124900 55 inch LED 4K 3 4 Black 40 W\\nSony Sony 55 Inches Ultra HD (4K) LED Smart Android TV (55X9000H, Black) 55-inch 4K HDR LED Android TV (55X9000H) KD-55X9000H 104990 55 inch LED 4K 2 4 Black 20W\\nSony Sony 40 Inches Full HD LCD Smart TV (KLV-40W562D, Black) 40 Inch LED Full HD TV (KLV-40W562D) KLV-40W562D 29999 39 inch LED Full-HD 2 2 Black 30 W\\nSony Sony 43 Inches Full HD LCD TV (KDL-43W800D, Black) 43 Inch LED Full HD TV (KDL-43W800D) KDL-43W800D 49999 43 inch LED Full-HD 2 4 Black 10 W x 2\\nSony Sony 40 Inches Full HD LCD Smart TV (KLV-40W672E, Black) 40 Inch LED Full HD TV (KLV-40W672E) KLV-40W672E 41499 40 inch LED Full-HD 2 2 Black 30 W\\nSony Sony 65 Inches Ultra HD (4K) LCD TV (KD-65X9300E, Black) 65 Inch LED Ultra HD (4K) TV (KD-65X9300E) KD-65X9300E 179999 65 inch LED 4K 3 4 Black 60 W\\nSony Sony 49 Inches Ultra HD (4K) LCD Smart TV (KD-49X7500E, Black) 49 Inch LED Ultra HD (4K) TV (KD-49X7500E) KD-49X7500E 71999 49 inch LED 4K 3 4 Black 20 W', mimetype='text/plain', start_char_idx=None, end_char_idx=None, text_template='{metadata_str}\\n\\n{content}', metadata_template='{key}: {value}', metadata_seperator='\\n')]"
      ]
     },
     "execution_count": 12,
     "metadata": {},
     "output_type": "execute_result"
    }
   ],
   "source": [
    "base_docs"
   ]
  },
  {
   "cell_type": "code",
   "execution_count": 13,
   "metadata": {},
   "outputs": [
    {
     "data": {
      "text/plain": [
       "list"
      ]
     },
     "execution_count": 13,
     "metadata": {},
     "output_type": "execute_result"
    }
   ],
   "source": [
    "type(base_docs)"
   ]
  },
  {
   "cell_type": "code",
   "execution_count": 14,
   "metadata": {},
   "outputs": [
    {
     "data": {
      "text/plain": [
       "1"
      ]
     },
     "execution_count": 14,
     "metadata": {},
     "output_type": "execute_result"
    }
   ],
   "source": [
    "len(base_docs)"
   ]
  },
  {
   "cell_type": "code",
   "execution_count": 15,
   "metadata": {},
   "outputs": [
    {
     "name": "stdout",
     "output_type": "stream",
     "text": [
      "Samsung Samsung 43 Inches Full HD LED TV (43J5100, Black) 43 Inch LED Full HD TV (43J5100) 43J5100 37200 43 inch LED Full-HD 2 2 Black 16 W\n",
      "Samsung Samsung 32 Inches HD Ready LED Smart TV (Series 4 UA32N4305ARXXL, Black) 32 Inch LED HD Ready TV (Series 4 UA32N4305ARXXL) UA32N4305ARXXL 14499 32 inch LED HD-Ready 1 2 Black 10W\n",
      "Samsung Samsung 49 Inches Full HD LED Curved TV (49M6300, Grey) 49 Inch LED Full HD TV (49M6300) 49M6300 91850 49 inch LED Full-HD 2 3 Black 20 W\n",
      "Samsung Samsung 43 Inches Full HD LED Smart TV (43M5570, Grey) 43 Inch LED Full HD TV (43M5570) 43M5570 33790 43 inch LED Full-HD 2 3 Black 20 W\n",
      "Samsung Samsung 50 Inches Ultra HD (4K) LED Smart TV (50MU6100, Black) 50 Inch LED Ultra HD (4K) TV (50MU6100) 50MU6100 69000 50 inch LED 4K 2 3 Black 20 W\n",
      "Samsung Samsung 75 Inches Ultra HD (4K) LED Smart TV (75MU7000, Black) 75 Inch LED Ultra HD (4K) TV (75MU7000) 75MU7000 599900 75 inch LED 4K 3 4 Black 40 W\n",
      "Samsung Samsung 65 Inches Ultra HD (4K) LED Smart TV (65MU7500, Silver) 65 Inch LED Ultra HD (4K) TV (65MU7500) 65MU7500 344900 65 inch LED 4K 3 4 Silver 40 W\n",
      "Samsung Samsung 49 Inches Ultra HD (4K) LED Smart TV (49MU7000, Black) 49 Inch LED Ultra HD (4K) TV (49MU7000) 49MU7000 155900 49 inch LED 4K 3 4 Black 40 W\n",
      "Samsung Samsung 55 Inches Ultra HD (4K) QLED Curved TV (55Q8C, Black) 55 Inch QLED Ultra HD (4K) TV (55Q8C) 55Q8C 344900 55 inch QLED 4K 3 4 Black 60 W\n",
      "Samsung Samsung 55 Inches Ultra HD (4K) LED Curved TV (55MU7500, Grey) 55 Inch LED Ultra HD (4K) TV (55MU7500) 55MU7500 229900 55 inch LED 4K 2 3 Black 40 W\n",
      "LG LG 55 Inches Ultra HD LED Smart TV (55UK6360PTE, Black) 55 Inch LED Ultra HD (4K) TV (55UK6360PTE) 55UK6360PTE 58999 55 inch LED 4K 1 2 Black 20 W\n",
      "LG LG 65 Inches Ultra HD OLED Smart TV (OLED65B8PTA, Grey) 65 Inch OLED Ultra HD (4K) TV (OLED65B8PTA) OLED65B8PTA 259350 65 inch OLED 4K 1 3 Black 40 W\n",
      "LG LG 32 Inches HD Ready LED Smart TV (32LK628BPTF) 32 Inch LED HD Ready TV (32LK628BPTF) 32LK628BPTF 20990 32 inch LED HD-Ready 1 3 Black 35 W\n",
      "LG LG 55 Inches Ultra HD LED Smart TV (55UK6500PTC, Black) 55 Inch LED Ultra HD (4K) TV (55UK6500PTC) 55UK6500PTC 71462 55 inch LED 4K 2 4 Black 20 W\n",
      "LG LG 55 Inches Ultra HD (4K) LED Smart TV (55UK7500PTA, Silver) 55 Inch LED Ultra HD (4K) TV (55UK7500PTA) 55UK7500PTA 65195 55 inch LED 4K 2 4 Black 20 W\n",
      "LG LG 55 Inches Ultra HD (4K) OLED Smart TV (OLED55B8PTA, Grey) 55 Inch OLED Ultra HD (4K) TV (OLED55B8PTA) OLED55B8PTA 159999 55 inch OLED 4K 1 3 Grey 40 W\n",
      "LG LG 65 Inches Ultra HD (4K) OLED Smart TV (OLED65C8PTA) 65 Inch OLED Ultra HD (4K) TV (OLED65C8PTA) OLED65C8PTA 249999 65 inch OLED 4K 1 2 Black 40 W\n",
      "LG LG 65 Inches Ultra HD (4K) LED Smart TV (65UK7500PTA, Silver) 65 Inch LED Ultra HD (4K) TV (65UK7500PTA) 65UK7500PTA 149999 65 inch LED 4K 2 4 Black 20 W\n",
      "LG LG 65 Inches Ultra HD (4K) LED Smart TV (65UK6360PTE) 65 Inch LED Ultra HD TV (65UK6360PTE) 65UK6360PTE 120999 65 inch LED Ultra-HD 2 3 Grey 20 W\n",
      "LG LG 43 Inches Ultra HD (4K) LED Smart TV (43UK6360PTE, Black) 43 Inch LED Ultra HD (4K) TV (43UK6360PTE) 43UK6360PTE 36999 43 inch LED 4K 1 2 Black 20 W\n",
      "Panasonic Panasonic 43 Inches Full HD LED Smart TV (TH-43ES480DX, Black) 43 Inch LED Full HD TV (TH-43ES480DX) TH-43ES480DX 35464 43 inch LED Full-HD 2 2 Black 20 W\n",
      "Panasonic Panasonic 49 Inches Full HD LED Smart TV (TH-49ES480DX, Black) 49 Inch LED Full HD TV (TH-49ES480DX) TH-49ES480DX 42999 49 inch LED Full-HD 2 3 Black 20 W\n",
      "Panasonic Panasonic 65 Inches Ultra HD (4K) LED Smart TV (TH-65FX800D, Grey) 65 Inch LED Ultra HD (4K) TV (TH-65FX800D) TH-65FX800D 171515 65 inch LED 4K 3 4 Grey 20 W\n",
      "Panasonic Panasonic 32 Inches HD Ready LED Stard TV (TH-32ES480DX, Black) 32 Inch LED HD Ready TV (TH-32ES480DX) TH-32ES480DX 24990 32 inch LED HD-Ready 2 2 Black 20 W\n",
      "Panasonic Panasonic 32 Inches Full HD LED Smart TV (TH-32FS600D, Black) 32 Inch LED HD Ready TV (TH-32FS600D) TH-32FS600D 19499 32 inch LED HD-Ready 2 3 Black 20 W\n",
      "Panasonic Panasonic 55 Inches Ultra HD (4K) LED Smart TV (TH-55FX800D, Grey) 55 Inch LED Ultra HD (4K) TV (TH-55FX800D) TH-55FX800D 191621 55 inch LED 4K 3 4 Black 20 W\n",
      "Panasonic Panasonic 55 Inches Ultra HD (4K) LED Smart TV (TH-55FX600D, Black) 55 Inch LED Ultra HD (4K) TV (TH-55FX600D) TH-55FX600D 69999 55 inch LED 4K 3 4 Black 20 W\n",
      "Panasonic Panasonic 49 Inches Ultra HD (4K) LED Smart TV (TH-49FX730D, Grey) 49 Inch LED Ultra HD (4K) TV (TH-49FX730D) TH-49FX730D 69999 49 inch LED 4K 3 3 Black 20 W\n",
      "Panasonic Panasonic 50 Inches Full HD LED Smart TV (TH-50FS600D, Black) 50 Inch LED Full HD TV (TH-50FS600D) TH-50FS600D 35000 50 inch LED Full-HD 2 3 Black 20 W\n",
      "Panasonic Panasonic 55 Inches Ultra HD (4K) LED Smart TV (TH-55FX650D, Grey) 55 Inch LED Ultra HD (4K) TV (TH-55FX650D) TH-55FX650D 64790 55 inch LED 4K 2 3 Black 20 W\n",
      "Sony Sony 55 Inches LED Ultra HD (4K) TV (KD-55X7400H, Black) 55 Inch LED Ultra HD TV (KD-55X7400H) KD-55X7400H 66999 55 inch LED 4K 2 3 Black 20 W\n",
      "Sony Sony 43 Inches Ultra HD (4K) LCD TV (KD-43X8500C, Black) 43 Inch LCD Ultra HD (4K) TV (KD-43X8500C) KD-43X8500C 85948 43 inch LED 4K 3 4 Black 20 W\n",
      "Sony Sony 49 Inches HD Ready LCD Smart TV (KD-49X8300D, Black) 49 Inch LED Ultra HD (4K) TV (KD-49X8300D) KD-49X8300D 99999 49 inch LED 4K 3 4 Black 20 W\n",
      "Sony Sony 55 Inches Ultra HD (4K) LCD TV (KD-55X8200E, Black) 55 Inch LED Ultra HD (4K) TV (KD-55X8200E) KD-55X8200E 124900 55 inch LED 4K 3 4 Black 40 W\n",
      "Sony Sony 55 Inches Ultra HD (4K) LED Smart Android TV (55X9000H, Black) 55-inch 4K HDR LED Android TV (55X9000H) KD-55X9000H 104990 55 inch LED 4K 2 4 Black 20W\n",
      "Sony Sony 40 Inches Full HD LCD Smart TV (KLV-40W562D, Black) 40 Inch LED Full HD TV (KLV-40W562D) KLV-40W562D 29999 39 inch LED Full-HD 2 2 Black 30 W\n",
      "Sony Sony 43 Inches Full HD LCD TV (KDL-43W800D, Black) 43 Inch LED Full HD TV (KDL-43W800D) KDL-43W800D 49999 43 inch LED Full-HD 2 4 Black 10 W x 2\n",
      "Sony Sony 40 Inches Full HD LCD Smart TV (KLV-40W672E, Black) 40 Inch LED Full HD TV (KLV-40W672E) KLV-40W672E 41499 40 inch LED Full-HD 2 2 Black 30 W\n",
      "Sony Sony 65 Inches Ultra HD (4K) LCD TV (KD-65X9300E, Black) 65 Inch LED Ultra HD (4K) TV (KD-65X9300E) KD-65X9300E 179999 65 inch LED 4K 3 4 Black 60 W\n",
      "Sony Sony 49 Inches Ultra HD (4K) LCD Smart TV (KD-49X7500E, Black) 49 Inch LED Ultra HD (4K) TV (KD-49X7500E) KD-49X7500E 71999 49 inch LED 4K 3 4 Black 20 W\n"
     ]
    }
   ],
   "source": [
    "print(base_docs[0].get_content())"
   ]
  },
  {
   "cell_type": "code",
   "execution_count": 16,
   "metadata": {},
   "outputs": [],
   "source": [
    "from llama_index.core import SummaryIndex\n",
    "\n",
    "base_index = SummaryIndex.from_documents([base_docs[0]])\n",
    "\n",
    "base_query_engine = base_index.as_query_engine()"
   ]
  },
  {
   "cell_type": "code",
   "execution_count": 17,
   "metadata": {},
   "outputs": [],
   "source": [
    "query_str = \"What are all the different Screen Type available\"\n",
    "response = query_engine.query(query_str)\n",
    "base_response = base_query_engine.query(query_str)"
   ]
  },
  {
   "cell_type": "code",
   "execution_count": 18,
   "metadata": {},
   "outputs": [
    {
     "name": "stdout",
     "output_type": "stream",
     "text": [
      "******* LlamaParse RAG *******\n",
      "The different Screen Types available are LED, Full-HD.\n",
      "******* PandasExcelReader Naive RAG *******\n",
      "Based on the provided context information, the different screen types available are:\n",
      "\n",
      "1. LED\n",
      "2. QLED\n",
      "3. OLED\n"
     ]
    }
   ],
   "source": [
    "print(\"******* LlamaParse RAG *******\")\n",
    "print(str(response))\n",
    "print(\"******* PandasExcelReader Naive RAG *******\")\n",
    "print(str(base_response))"
   ]
  },
  {
   "cell_type": "code",
   "execution_count": 19,
   "metadata": {},
   "outputs": [],
   "source": [
    "query_str = \"What was the maximum, minimum and average Price\"\n",
    "response = query_engine.query(query_str)\n",
    "base_response = base_query_engine.query(query_str)"
   ]
  },
  {
   "cell_type": "code",
   "execution_count": 20,
   "metadata": {},
   "outputs": [
    {
     "name": "stdout",
     "output_type": "stream",
     "text": [
      "******* LlamaParse RAG *******\n",
      "The maximum price is 179,999, the minimum price is 29,999, and the average price is approximately 74,499.\n",
      "******* PandasExcelReader Naive RAG *******\n",
      "Based on the provided context information, the maximum price is 599900, the minimum price is 14499, and the average price is approximately 73444.\n"
     ]
    }
   ],
   "source": [
    "print(\"******* LlamaParse RAG *******\")\n",
    "print(str(response))\n",
    "print(\"******* PandasExcelReader Naive RAG *******\")\n",
    "print(str(base_response))"
   ]
  },
  {
   "cell_type": "code",
   "execution_count": 21,
   "metadata": {},
   "outputs": [],
   "source": [
    "query_str = \"List all the different types of Resolution Standard\"\n",
    "response = query_engine.query(query_str)\n",
    "base_response = base_query_engine.query(query_str)"
   ]
  },
  {
   "cell_type": "code",
   "execution_count": 22,
   "metadata": {},
   "outputs": [
    {
     "name": "stdout",
     "output_type": "stream",
     "text": [
      "******* LlamaParse RAG *******\n",
      "Based on the provided context, the different types of Resolution Standard are:\n",
      "\n",
      "1. Full-HD\n",
      "2. 4K\n",
      "******* PandasExcelReader Naive RAG *******\n",
      "Based on the provided context information, the different types of Resolution Standard mentioned are:\n",
      "\n",
      "1. Full HD\n",
      "2. HD Ready\n",
      "3. Ultra HD (4K)\n",
      "4. QLED\n"
     ]
    }
   ],
   "source": [
    "print(\"******* LlamaParse RAG *******\")\n",
    "print(str(response))\n",
    "print(\"******* PandasExcelReader Naive RAG *******\")\n",
    "print(str(base_response))"
   ]
  },
  {
   "cell_type": "code",
   "execution_count": 23,
   "metadata": {},
   "outputs": [],
   "source": [
    "query_str = \"List all the different types of Resolution Standard\"\n",
    "response = query_engine.query(query_str)\n",
    "base_response = base_query_engine.query(query_str)"
   ]
  },
  {
   "cell_type": "code",
   "execution_count": 24,
   "metadata": {},
   "outputs": [
    {
     "name": "stdout",
     "output_type": "stream",
     "text": [
      "******* LlamaParse RAG *******\n",
      "Based on the provided context, the different types of Resolution Standard are:\n",
      "\n",
      "1. Full-HD\n",
      "2. 4K\n",
      "******* PandasExcelReader Naive RAG *******\n",
      "Based on the provided context information, the different types of Resolution Standard mentioned are:\n",
      "\n",
      "1. Full HD\n",
      "2. HD Ready\n",
      "3. Ultra HD (4K)\n",
      "4. QLED\n"
     ]
    }
   ],
   "source": [
    "print(\"******* LlamaParse RAG *******\")\n",
    "print(str(response))\n",
    "print(\"******* PandasExcelReader Naive RAG *******\")\n",
    "print(str(base_response))"
   ]
  },
  {
   "cell_type": "code",
   "execution_count": 25,
   "metadata": {},
   "outputs": [
    {
     "data": {
      "text/plain": [
       "\"{'question': 'Frame some questions related to the excel that i have uploaded', \\n'result': 'Here are some questions that can be framed based on the data:\\n\\n\\n1. Which brand has the highest number of TV models listed?\\n\\n2. What is the price range of the TVs listed?\\n\\n3. Which TV model has the largest display size?\\n\\n4. How many TVs have 4K resolution standard?\\n\\n5. Which TV model has the highest speaker output RMS?\\n\\n6. How many TVs have OLED screen type?\\n\\n7. Which brand has the most expensive TV model?\\n\\n8. What is the average price of the TVs listed?\\n\\n9. How many TVs have more than 2 USB ports?\\n\\n10. Which TV model has the most number of HDMI ports?\\n\\n\\nLet me know if you want me to answer any of these questions or if you want me to frame more questions!'}\""
      ]
     },
     "execution_count": 25,
     "metadata": {},
     "output_type": "execute_result"
    }
   ],
   "source": [
    "\"\"\"{'question': 'Frame some questions related to the excel that i have uploaded', \n",
    "'result': 'Here are some questions that can be framed based on the data:\\n\\n\n",
    "1. Which brand has the highest number of TV models listed?\\n\n",
    "2. What is the price range of the TVs listed?\\n\n",
    "3. Which TV model has the largest display size?\\n\n",
    "4. How many TVs have 4K resolution standard?\\n\n",
    "5. Which TV model has the highest speaker output RMS?\\n\n",
    "6. How many TVs have OLED screen type?\\n\n",
    "7. Which brand has the most expensive TV model?\\n\n",
    "8. What is the average price of the TVs listed?\\n\n",
    "9. How many TVs have more than 2 USB ports?\\n\n",
    "10. Which TV model has the most number of HDMI ports?\\n\n",
    "\\nLet me know if you want me to answer any of these questions or if you want me to frame more questions!'}\"\"\"\n"
   ]
  },
  {
   "cell_type": "code",
   "execution_count": 26,
   "metadata": {},
   "outputs": [],
   "source": [
    "query_str = \"Which brand has the highest number of TV models listed?\"\n",
    "response = query_engine.query(query_str)\n",
    "base_response = base_query_engine.query(query_str)"
   ]
  },
  {
   "cell_type": "code",
   "execution_count": 27,
   "metadata": {},
   "outputs": [
    {
     "name": "stdout",
     "output_type": "stream",
     "text": [
      "******* LlamaParse RAG *******\n",
      "Repeat: None of the above. The correct answer is LG or Panasonic, as they have the highest number of TV models listed.\n",
      "******* PandasExcelReader Naive RAG *******\n",
      "Samsung has the highest number of TV models listed, with 9 models.\n"
     ]
    }
   ],
   "source": [
    "print(\"******* LlamaParse RAG *******\")\n",
    "print(str(response))\n",
    "print(\"******* PandasExcelReader Naive RAG *******\")\n",
    "print(str(base_response))"
   ]
  },
  {
   "cell_type": "code",
   "execution_count": 28,
   "metadata": {},
   "outputs": [],
   "source": [
    "query_str = \"Which TV model has the highest speaker output RMS?\"\n",
    "response = query_engine.query(query_str)\n",
    "base_response = base_query_engine.query(query_str)"
   ]
  },
  {
   "cell_type": "code",
   "execution_count": 29,
   "metadata": {},
   "outputs": [
    {
     "name": "stdout",
     "output_type": "stream",
     "text": [
      "******* LlamaParse RAG *******\n",
      "The Sony 65 Inches Ultra HD (4K) LCD TV (KD-65X9300E, Black) has the highest speaker output RMS at 60 W.\n",
      "******* PandasExcelReader Naive RAG *******\n",
      "The TV model with the highest speaker output RMS is the Sony 55 Inches Ultra HD (4K) LCD TV (KD-55X9300E, Black) with a speaker output RMS of 60 W.\n"
     ]
    }
   ],
   "source": [
    "print(\"******* LlamaParse RAG *******\")\n",
    "print(str(response))\n",
    "print(\"******* PandasExcelReader Naive RAG *******\")\n",
    "print(str(base_response))"
   ]
  },
  {
   "cell_type": "code",
   "execution_count": 30,
   "metadata": {},
   "outputs": [],
   "source": [
    "query_str = \"How many TVs have more than 2 USB ports?\"\n",
    "response = query_engine.query(query_str)\n",
    "base_response = base_query_engine.query(query_str)"
   ]
  },
  {
   "cell_type": "code",
   "execution_count": 31,
   "metadata": {},
   "outputs": [
    {
     "name": "stdout",
     "output_type": "stream",
     "text": [
      "******* LlamaParse RAG *******\n",
      "Seven TVs have more than 2 USB ports.\n",
      "******* PandasExcelReader Naive RAG *******\n",
      "Based on the provided context information, I counted the number of TVs with more than 2 USB ports. Here's the answer:\n",
      "\n",
      "There are 34 TVs with more than 2 USB ports.\n"
     ]
    }
   ],
   "source": [
    "print(\"******* LlamaParse RAG *******\")\n",
    "print(str(response))\n",
    "print(\"******* PandasExcelReader Naive RAG *******\")\n",
    "print(str(base_response))"
   ]
  },
  {
   "cell_type": "code",
   "execution_count": 32,
   "metadata": {},
   "outputs": [],
   "source": [
    "query_str = \"Which TV model has the most number of HDMI ports?\"\n",
    "response = query_engine.query(query_str)\n",
    "base_response = base_query_engine.query(query_str)"
   ]
  },
  {
   "cell_type": "code",
   "execution_count": 33,
   "metadata": {},
   "outputs": [
    {
     "name": "stdout",
     "output_type": "stream",
     "text": [
      "******* LlamaParse RAG *******\n",
      "The TV model with the most number of HDMI ports is the Sony KD-55X8200E, which has 4 HDMI ports.\n",
      "******* PandasExcelReader Naive RAG *******\n",
      "The TV model with the most number of HDMI ports is the Samsung 75 Inches Ultra HD (4K) LED Smart TV (75MU7000, Black) with 4 HDMI ports.\n"
     ]
    }
   ],
   "source": [
    "print(\"******* LlamaParse RAG *******\")\n",
    "print(str(response))\n",
    "print(\"******* PandasExcelReader Naive RAG *******\")\n",
    "print(str(base_response))"
   ]
  },
  {
   "cell_type": "code",
   "execution_count": 34,
   "metadata": {},
   "outputs": [],
   "source": [
    "query_str = \"How many TV model has the HDMI ports equal to 4\"\n",
    "response = query_engine.query(query_str)\n",
    "base_response = base_query_engine.query(query_str)"
   ]
  },
  {
   "cell_type": "code",
   "execution_count": 35,
   "metadata": {},
   "outputs": [
    {
     "name": "stdout",
     "output_type": "stream",
     "text": [
      "******* LlamaParse RAG *******\n",
      "Four TV models have 4 HDMI ports.\n",
      "******* PandasExcelReader Naive RAG *******\n",
      "Based on the provided context information, there are 7 TV models that have 4 HDMI ports.\n"
     ]
    }
   ],
   "source": [
    "print(\"******* LlamaParse RAG *******\")\n",
    "print(str(response))\n",
    "print(\"******* PandasExcelReader Naive RAG *******\")\n",
    "print(str(base_response))"
   ]
  },
  {
   "cell_type": "code",
   "execution_count": 36,
   "metadata": {},
   "outputs": [],
   "source": [
    "query_str = \"List all the TV model which has the HDMI ports equal to 4\"\n",
    "response = query_engine.query(query_str)\n",
    "base_response = base_query_engine.query(query_str)"
   ]
  },
  {
   "cell_type": "code",
   "execution_count": 37,
   "metadata": {},
   "outputs": [
    {
     "name": "stdout",
     "output_type": "stream",
     "text": [
      "******* LlamaParse RAG *******\n",
      "Based on the provided context information, the TV models with 4 HDMI ports are:\n",
      "\n",
      "* KD-49X8300D\n",
      "* KD-55X8200E\n",
      "* KD-55X9000H\n",
      "* KD-49X7500E\n",
      "******* PandasExcelReader Naive RAG *******\n",
      "Based on the provided context information, the TV models with 4 HDMI ports are:\n",
      "\n",
      "1. Samsung 65 Inches Ultra HD (4K) LED Smart TV (65MU7500, Silver)\n",
      "2. Samsung 55 Inches Ultra HD (4K) LED Curved TV (55MU7500, Grey)\n",
      "3. LG 65 Inches Ultra HD (4K) LED Smart TV (65UK7500PTA, Silver)\n",
      "4. LG 55 Inches Ultra HD (4K) LED Smart TV (55UK7500PTA, Silver)\n",
      "5. Panasonic 65 Inches Ultra HD (4K) LED Smart TV (TH-65FX800D, Grey)\n",
      "6. Panasonic 55 Inches Ultra HD (4K) LED Smart TV (TH-55FX800D, Grey)\n",
      "7. Sony 55 Inches Ultra HD (4K) LCD TV (KD-55X8200E, Black)\n",
      "8. Sony 49 Inches Ultra HD (4K) LCD Smart TV (KD-49X7500E, Black)\n"
     ]
    }
   ],
   "source": [
    "print(\"******* LlamaParse RAG *******\")\n",
    "print(str(response))\n",
    "print(\"******* PandasExcelReader Naive RAG *******\")\n",
    "print(str(base_response))"
   ]
  },
  {
   "cell_type": "code",
   "execution_count": 38,
   "metadata": {},
   "outputs": [],
   "source": [
    "query_str = \"What is the average price of the TVs listed?\"\n",
    "response = query_engine.query(query_str)\n",
    "base_response = base_query_engine.query(query_str)"
   ]
  },
  {
   "cell_type": "code",
   "execution_count": 39,
   "metadata": {},
   "outputs": [
    {
     "name": "stdout",
     "output_type": "stream",
     "text": [
      "******* LlamaParse RAG *******\n",
      "The average price of the TVs listed is approximately 73,499.\n",
      "******* PandasExcelReader Naive RAG *******\n",
      "To calculate the average price of the TVs listed, I will add up all the prices and divide by the total number of TVs.\n",
      "\n",
      "After calculating, I found that the total price of all TVs is 4,343,411.\n",
      "\n",
      "There are 43 TVs in the list.\n",
      "\n",
      "So, the average price of the TVs listed is 4,343,411 ÷ 43 = 101,023.\n"
     ]
    }
   ],
   "source": [
    "print(\"******* LlamaParse RAG *******\")\n",
    "print(str(response))\n",
    "print(\"******* PandasExcelReader Naive RAG *******\")\n",
    "print(str(base_response))"
   ]
  },
  {
   "cell_type": "code",
   "execution_count": 40,
   "metadata": {},
   "outputs": [],
   "source": [
    "query_str = \"How many rows and columns are there in the excel data given\"\n",
    "response = query_engine.query(query_str)\n",
    "base_response = base_query_engine.query(query_str)"
   ]
  },
  {
   "cell_type": "code",
   "execution_count": 41,
   "metadata": {},
   "outputs": [
    {
     "name": "stdout",
     "output_type": "stream",
     "text": [
      "******* LlamaParse RAG *******\n",
      "There are 7 rows and 8 columns in the given excel data.\n",
      "******* PandasExcelReader Naive RAG *******\n",
      "There are 43 rows and 9 columns in the excel data given.\n"
     ]
    }
   ],
   "source": [
    "print(\"******* LlamaParse RAG *******\")\n",
    "print(str(response))\n",
    "print(\"******* PandasExcelReader Naive RAG *******\")\n",
    "print(str(base_response))"
   ]
  },
  {
   "cell_type": "code",
   "execution_count": 42,
   "metadata": {},
   "outputs": [],
   "source": [
    "query_str = \"List all the model name in the TV Brand Sony\"\n",
    "response = query_engine.query(query_str)\n",
    "base_response = base_query_engine.query(query_str)"
   ]
  },
  {
   "cell_type": "code",
   "execution_count": 43,
   "metadata": {},
   "outputs": [
    {
     "name": "stdout",
     "output_type": "stream",
     "text": [
      "******* LlamaParse RAG *******\n",
      "Here are the model names in the TV brand Sony:\n",
      "\n",
      "KD-55X8200E, KD-55X9000H, KLV-40W562D, KDL-43W800D, KLV-40W672E, KD-65X9300E, KD-49X7500E\n",
      "******* PandasExcelReader Naive RAG *******\n",
      "Here is the list of model names from the TV brand Sony:\n",
      "\n",
      "1. KD-55X7400H\n",
      "2. KD-43X8500C\n",
      "3. KD-49X8300D\n",
      "4. KD-55X8200E\n",
      "5. KD-55X9000H\n",
      "6. KLV-40W562D\n",
      "7. KDL-43W800D\n",
      "8. KLV-40W672E\n",
      "9. KD-65X9300E\n",
      "10. KD-49X7500E\n"
     ]
    }
   ],
   "source": [
    "print(\"******* LlamaParse RAG *******\")\n",
    "print(str(response))\n",
    "print(\"******* PandasExcelReader Naive RAG *******\")\n",
    "print(str(base_response))"
   ]
  },
  {
   "cell_type": "code",
   "execution_count": 44,
   "metadata": {},
   "outputs": [],
   "source": [
    "query_str = \"List all the model name in the TV Brand Panasonic\"\n",
    "response = query_engine.query(query_str)\n",
    "base_response = base_query_engine.query(query_str)"
   ]
  },
  {
   "cell_type": "code",
   "execution_count": 45,
   "metadata": {},
   "outputs": [
    {
     "name": "stdout",
     "output_type": "stream",
     "text": [
      "******* LlamaParse RAG *******\n",
      "There are no model names in the TV brand Panasonic in the provided context. The context only lists Sony TVs, with no mention of Panasonic.\n",
      "******* PandasExcelReader Naive RAG *******\n",
      "Here are the model names of TVs from the brand Panasonic:\n",
      "\n",
      "1. TH-43ES480DX\n",
      "2. TH-49ES480DX\n",
      "3. TH-65FX800D\n",
      "4. TH-32ES480DX\n",
      "5. TH-32FS600D\n",
      "6. TH-55FX800D\n",
      "7. TH-55FX600D\n",
      "8. TH-49FX730D\n",
      "9. TH-50FS600D\n",
      "10. TH-55FX650D\n"
     ]
    }
   ],
   "source": [
    "print(\"******* LlamaParse RAG *******\")\n",
    "print(str(response))\n",
    "print(\"******* PandasExcelReader Naive RAG *******\")\n",
    "print(str(base_response))"
   ]
  },
  {
   "cell_type": "code",
   "execution_count": 46,
   "metadata": {},
   "outputs": [],
   "source": [
    "query_str = \"List all the model name in the TV Brand OnePlus\"\n",
    "response = query_engine.query(query_str)\n",
    "base_response = base_query_engine.query(query_str)"
   ]
  },
  {
   "cell_type": "code",
   "execution_count": 47,
   "metadata": {},
   "outputs": [
    {
     "name": "stdout",
     "output_type": "stream",
     "text": [
      "******* LlamaParse RAG *******\n",
      "There are no model names in the TV brand OnePlus.\n",
      "******* PandasExcelReader Naive RAG *******\n",
      "There are no model names in the TV brand OnePlus. OnePlus is not mentioned in the provided context information. The context only mentions TV brands Samsung, LG, Panasonic, and Sony.\n"
     ]
    }
   ],
   "source": [
    "print(\"******* LlamaParse RAG *******\")\n",
    "print(str(response))\n",
    "print(\"******* PandasExcelReader Naive RAG *******\")\n",
    "print(str(base_response))"
   ]
  },
  {
   "cell_type": "code",
   "execution_count": 48,
   "metadata": {},
   "outputs": [],
   "source": [
    "# pip install llama-index-embeddings-huggingface"
   ]
  },
  {
   "cell_type": "code",
   "execution_count": 49,
   "metadata": {},
   "outputs": [],
   "source": [
    "from llama_index.embeddings.huggingface import HuggingFaceEmbedding\n",
    "from llama_index.core import Settings\n",
    "\n",
    "Settings.embed_model = HuggingFaceEmbedding(\n",
    "    model_name=\"BAAI/bge-small-en-v1.5\"\n",
    ")"
   ]
  },
  {
   "cell_type": "code",
   "execution_count": 50,
   "metadata": {},
   "outputs": [],
   "source": [
    "from llama_index.core import VectorStoreIndex\n",
    "\n",
    "index = VectorStoreIndex.from_documents(docs)\n",
    "query_engine = index.as_query_engine()"
   ]
  },
  {
   "cell_type": "code",
   "execution_count": 51,
   "metadata": {},
   "outputs": [
    {
     "data": {
      "text/plain": [
       "Response(response='I apologize, but there is no information about cricket in the provided context. The context appears to be a table listing various TV models from different brands, including Samsung, LG, Panasonic, and Sony, with their specifications and prices. There is no mention of cricket or any related topic. Therefore, I cannot provide an explanation about cricket based on the given context.', source_nodes=[NodeWithScore(node=TextNode(id_='2047f56c-ebde-4377-b94c-3bfe7dcf3cf7', embedding=None, metadata={}, excluded_embed_metadata_keys=[], excluded_llm_metadata_keys=[], relationships={<NodeRelationship.SOURCE: '1'>: RelatedNodeInfo(node_id='dc9df24c-a618-4074-b506-99d68e387ab7', node_type=<ObjectType.DOCUMENT: '4'>, metadata={}, hash='ff2825b404f1c0f63a1e3740c7ce34b1d334eb810a1a9d8ab42bb3a1c8038323'), <NodeRelationship.NEXT: '3'>: RelatedNodeInfo(node_id='084844df-38d9-4a39-ae39-9807cb7b55e2', node_type=<ObjectType.TEXT: '1'>, metadata={}, hash='ee497e1ce2025f7b25167d0814a6969011d7b9ca6277e63fdf425c4e2c4b8c40')}, text='|Brand    |Product name                                                            |Model                                            |Model Name    |Price  |Display Size|Screen Type|Resolution Standard|No of USB Port|No of HDMI Port|Color |Speaker Output RMS|\\n|---------|------------------------------------------------------------------------|-------------------------------------------------|--------------|-------|------------|-----------|-------------------|--------------|---------------|------|------------------|\\n|Samsung  |Samsung 43 Inches Full HD LED TV (43J5100, Black)                       |43 Inch LED Full HD TV (43J5100)                 |43J5100       |37,200 |43 inch     |LED        |Full-HD            |2             |2              |Black |16 W              |\\n|Samsung  |Samsung 32 Inches HD Ready LED Smart TV (Series 4 UA32N4305ARXXL, Black)|32 Inch LED HD Ready TV (Series 4 UA32N4305ARXXL)|UA32N4305ARXXL|14,499 |32 inch     |LED        |HD-Ready           |1             |2              |Black |10W               |\\n|Samsung  |Samsung 49 Inches Full HD LED Curved TV (49M6300, Grey)                 |49 Inch LED Full HD TV (49M6300)                 |49M6300       |91,850 |49 inch     |LED        |Full-HD            |2             |3              |Black |20 W              |\\n|Samsung  |Samsung 43 Inches Full HD LED Smart TV (43M5570, Grey)                  |43 Inch LED Full HD TV (43M5570)                 |43M5570       |33,790 |43 inch     |LED        |Full-HD            |2             |3              |Black |20 W              |\\n|Samsung  |Samsung 50 Inches Ultra HD (4K) LED Smart TV (50MU6100, Black)          |50 Inch LED Ultra HD (4K) TV (50MU6100)          |50MU6100      |69,000 |50 inch     |LED        |4K                 |2             |3              |Black |20 W              |\\n|Samsung  |Samsung 75 Inches Ultra HD (4K) LED Smart TV (75MU7000, Black)          |75 Inch LED Ultra HD (4K) TV (75MU7000)          |75MU7000      |599,900|75 inch     |LED        |4K                 |3             |4              |Black |40 W              |\\n|Samsung  |Samsung 65 Inches Ultra HD (4K) LED Smart TV (65MU7500, Silver)         |65 Inch LED Ultra HD (4K) TV (65MU7500)          |65MU7500      |344,900|65 inch     |LED        |4K                 |3             |4              |Silver|40 W              |\\n|Samsung  |Samsung 49 Inches Ultra HD (4K) LED Smart TV (49MU7000, Black)          |49 Inch LED Ultra HD (4K) TV (49MU7000)          |49MU7000      |155,900|49 inch     |LED        |4K                 |3             |4              |Black |40 W              |\\n|Samsung  |Samsung 55 Inches Ultra HD (4K) QLED Curved TV (55Q8C, Black)           |55 Inch QLED Ultra HD (4K) TV (55Q8C)            |55Q8C         |344,900|55 inch     |QLED       |4K                 |3             |4              |Black |60 W              |\\n|Samsung  |Samsung 55 Inches Ultra HD (4K) LED Curved TV (55MU7500, Grey)          |55 Inch LED Ultra HD (4K) TV (55MU7500)          |55MU7500      |229,900|55 inch     |LED        |4K                 |2             |3              |Black |40 W              |\\n|LG       |LG 55 Inches Ultra HD LED Smart TV (55UK6360PTE, Black)                 |55 Inch LED Ultra HD (4K) TV (55UK6360PTE)       |55UK6360PTE   |58,999 |55 inch     |LED        |4K                 |1             |2              |Black |20 W              |\\n|LG       |LG 65 Inches Ultra HD OLED Smart TV (OLED65B8PTA, Grey)                 |65 Inch OLED Ultra HD (4K) TV (OLED65B8PTA)      |OLED65B8PTA   |259,', mimetype='text/plain', start_char_idx=0, end_char_idx=3533, text_template='{metadata_str}\\n\\n{content}', metadata_template='{key}: {value}', metadata_seperator='\\n'), score=0.5080239168425379), NodeWithScore(node=TextNode(id_='b68930b4-f792-45a9-b466-362ae934b6a6', embedding=None, metadata={}, excluded_embed_metadata_keys=[], excluded_llm_metadata_keys=[], relationships={<NodeRelationship.SOURCE: '1'>: RelatedNodeInfo(node_id='dc9df24c-a618-4074-b506-99d68e387ab7', node_type=<ObjectType.DOCUMENT: '4'>, metadata={}, hash='ff2825b404f1c0f63a1e3740c7ce34b1d334eb810a1a9d8ab42bb3a1c8038323'), <NodeRelationship.PREVIOUS: '2'>: RelatedNodeInfo(node_id='084844df-38d9-4a39-ae39-9807cb7b55e2', node_type=<ObjectType.TEXT: '1'>, metadata={}, hash='ee497e1ce2025f7b25167d0814a6969011d7b9ca6277e63fdf425c4e2c4b8c40'), <NodeRelationship.NEXT: '3'>: RelatedNodeInfo(node_id='ba41b129-0124-4f20-a083-22e313e67461', node_type=<ObjectType.TEXT: '1'>, metadata={}, hash='be4639f06d1514b1b368b824da3125a10ab386ce11c59f5cf8fdebeed8f50f25')}, text='Black)            |43 Inch LED Ultra HD (4K) TV (43UK6360PTE)       |43UK6360PTE   |36,999 |43 inch     |LED        |4K                 |1             |2              |Black |20 W              |\\n|Panasonic|Panasonic 43 Inches Full HD LED Smart TV (TH-43ES480DX, Black)          |43 Inch LED Full HD TV (TH-43ES480DX)            |TH-43ES480DX  |35,464 |43 inch     |LED        |Full-HD            |2             |2              |Black |20 W              |\\n|Panasonic|Panasonic 49 Inches Full HD LED Smart TV (TH-49ES480DX, Black)          |49 Inch LED Full HD TV (TH-49ES480DX)            |TH-49ES480DX  |42,999 |49 inch     |LED        |Full-HD            |2             |3              |Black |20 W              |\\n|Panasonic|Panasonic 65 Inches Ultra HD (4K) LED Smart TV (TH-65FX800D, Grey)      |65 Inch LED Ultra HD (4K) TV (TH-65FX800D)       |TH-65FX800D   |171,515|65 inch     |LED        |4K                 |3             |4              |Grey  |20 W              |\\n|Panasonic|Panasonic 32 Inches HD Ready LED Stard TV (TH-32ES480DX, Black)         |32 Inch LED HD Ready TV (TH-32ES480DX)           |TH-32ES480DX  |24,990 |32 inch     |LED        |HD-Ready           |2             |2              |Black |20 W              |\\n|Panasonic|Panasonic 32 Inches Full HD LED Smart TV (TH-32FS600D, Black)           |32 Inch LED HD Ready TV (TH-32FS600D)            |TH-32FS600D   |19,499 |32 inch     |LED        |HD-Ready           |2             |3              |Black |20 W              |\\n|Panasonic|Panasonic 55 Inches Ultra HD (4K) LED Smart TV (TH-55FX800D, Grey)      |55 Inch LED Ultra HD (4K) TV (TH-55FX800D)       |TH-55FX800D   |191,621|55 inch     |LED        |4K                 |3             |4              |Black |20 W              |\\n|Panasonic|Panasonic 55 Inches Ultra HD (4K) LED Smart TV (TH-55FX600D, Black)     |55 Inch LED Ultra HD (4K) TV (TH-55FX600D)       |TH-55FX600D   |69,999 |55 inch     |LED        |4K                 |3             |4              |Black |20 W              |\\n|Panasonic|Panasonic 49 Inches Ultra HD (4K) LED Smart TV (TH-49FX730D, Grey)      |49 Inch LED Ultra HD (4K) TV (TH-49FX730D)       |TH-49FX730D   |69,999 |49 inch     |LED        |4K                 |3             |3              |Black |20 W              |\\n|Panasonic|Panasonic 50 Inches Full HD LED Smart TV (TH-50FS600D, Black)           |50 Inch LED Full HD TV (TH-50FS600D)             |TH-50FS600D   |35,000 |50 inch     |LED        |Full-HD            |2             |3              |Black |20 W              |\\n|Panasonic|Panasonic 55 Inches Ultra HD (4K) LED Smart TV (TH-55FX650D, Grey)      |55 Inch LED Ultra HD (4K) TV (TH-55FX650D)       |TH-55FX650D   |64,790 |55 inch     |LED        |4K                 |2             |3              |Black |20 W              |\\n|Sony     |Sony 55 Inches LED Ultra HD (4K) TV (KD-55X7400H, Black)                |55 Inch LED Ultra HD TV (KD-55X7400H)            |KD-55X7400H   |66,999 |55 inch     |LED        |4K                 |2             |3              |Black |20 W              |\\n|Sony     |Sony 43 Inches Ultra HD (4K) LCD TV (KD-43X8500C, Black)                |43 Inch LCD Ultra HD (4K) TV (KD-43X8500C)       |KD-43X8500C   |85,', mimetype='text/plain', start_char_idx=5525, end_char_idx=8732, text_template='{metadata_str}\\n\\n{content}', metadata_template='{key}: {value}', metadata_seperator='\\n'), score=0.4770967802424347)], metadata={'2047f56c-ebde-4377-b94c-3bfe7dcf3cf7': {}, 'b68930b4-f792-45a9-b466-362ae934b6a6': {}})"
      ]
     },
     "execution_count": 51,
     "metadata": {},
     "output_type": "execute_result"
    }
   ],
   "source": [
    "query_str = \"Explain in detail about cricket\"\n",
    "response = query_engine.query(query_str)\n",
    "response"
   ]
  },
  {
   "cell_type": "code",
   "execution_count": 52,
   "metadata": {},
   "outputs": [
    {
     "data": {
      "text/plain": [
       "Response(response='The maximum price of the TV is 599,900. The minimum price of the TV is 14,499. The average price of the TV is 104,449.', source_nodes=[NodeWithScore(node=TextNode(id_='2047f56c-ebde-4377-b94c-3bfe7dcf3cf7', embedding=None, metadata={}, excluded_embed_metadata_keys=[], excluded_llm_metadata_keys=[], relationships={<NodeRelationship.SOURCE: '1'>: RelatedNodeInfo(node_id='dc9df24c-a618-4074-b506-99d68e387ab7', node_type=<ObjectType.DOCUMENT: '4'>, metadata={}, hash='ff2825b404f1c0f63a1e3740c7ce34b1d334eb810a1a9d8ab42bb3a1c8038323'), <NodeRelationship.NEXT: '3'>: RelatedNodeInfo(node_id='084844df-38d9-4a39-ae39-9807cb7b55e2', node_type=<ObjectType.TEXT: '1'>, metadata={}, hash='ee497e1ce2025f7b25167d0814a6969011d7b9ca6277e63fdf425c4e2c4b8c40')}, text='|Brand    |Product name                                                            |Model                                            |Model Name    |Price  |Display Size|Screen Type|Resolution Standard|No of USB Port|No of HDMI Port|Color |Speaker Output RMS|\\n|---------|------------------------------------------------------------------------|-------------------------------------------------|--------------|-------|------------|-----------|-------------------|--------------|---------------|------|------------------|\\n|Samsung  |Samsung 43 Inches Full HD LED TV (43J5100, Black)                       |43 Inch LED Full HD TV (43J5100)                 |43J5100       |37,200 |43 inch     |LED        |Full-HD            |2             |2              |Black |16 W              |\\n|Samsung  |Samsung 32 Inches HD Ready LED Smart TV (Series 4 UA32N4305ARXXL, Black)|32 Inch LED HD Ready TV (Series 4 UA32N4305ARXXL)|UA32N4305ARXXL|14,499 |32 inch     |LED        |HD-Ready           |1             |2              |Black |10W               |\\n|Samsung  |Samsung 49 Inches Full HD LED Curved TV (49M6300, Grey)                 |49 Inch LED Full HD TV (49M6300)                 |49M6300       |91,850 |49 inch     |LED        |Full-HD            |2             |3              |Black |20 W              |\\n|Samsung  |Samsung 43 Inches Full HD LED Smart TV (43M5570, Grey)                  |43 Inch LED Full HD TV (43M5570)                 |43M5570       |33,790 |43 inch     |LED        |Full-HD            |2             |3              |Black |20 W              |\\n|Samsung  |Samsung 50 Inches Ultra HD (4K) LED Smart TV (50MU6100, Black)          |50 Inch LED Ultra HD (4K) TV (50MU6100)          |50MU6100      |69,000 |50 inch     |LED        |4K                 |2             |3              |Black |20 W              |\\n|Samsung  |Samsung 75 Inches Ultra HD (4K) LED Smart TV (75MU7000, Black)          |75 Inch LED Ultra HD (4K) TV (75MU7000)          |75MU7000      |599,900|75 inch     |LED        |4K                 |3             |4              |Black |40 W              |\\n|Samsung  |Samsung 65 Inches Ultra HD (4K) LED Smart TV (65MU7500, Silver)         |65 Inch LED Ultra HD (4K) TV (65MU7500)          |65MU7500      |344,900|65 inch     |LED        |4K                 |3             |4              |Silver|40 W              |\\n|Samsung  |Samsung 49 Inches Ultra HD (4K) LED Smart TV (49MU7000, Black)          |49 Inch LED Ultra HD (4K) TV (49MU7000)          |49MU7000      |155,900|49 inch     |LED        |4K                 |3             |4              |Black |40 W              |\\n|Samsung  |Samsung 55 Inches Ultra HD (4K) QLED Curved TV (55Q8C, Black)           |55 Inch QLED Ultra HD (4K) TV (55Q8C)            |55Q8C         |344,900|55 inch     |QLED       |4K                 |3             |4              |Black |60 W              |\\n|Samsung  |Samsung 55 Inches Ultra HD (4K) LED Curved TV (55MU7500, Grey)          |55 Inch LED Ultra HD (4K) TV (55MU7500)          |55MU7500      |229,900|55 inch     |LED        |4K                 |2             |3              |Black |40 W              |\\n|LG       |LG 55 Inches Ultra HD LED Smart TV (55UK6360PTE, Black)                 |55 Inch LED Ultra HD (4K) TV (55UK6360PTE)       |55UK6360PTE   |58,999 |55 inch     |LED        |4K                 |1             |2              |Black |20 W              |\\n|LG       |LG 65 Inches Ultra HD OLED Smart TV (OLED65B8PTA, Grey)                 |65 Inch OLED Ultra HD (4K) TV (OLED65B8PTA)      |OLED65B8PTA   |259,', mimetype='text/plain', start_char_idx=0, end_char_idx=3533, text_template='{metadata_str}\\n\\n{content}', metadata_template='{key}: {value}', metadata_seperator='\\n'), score=0.7046778673081611), NodeWithScore(node=TextNode(id_='ba41b129-0124-4f20-a083-22e313e67461', embedding=None, metadata={}, excluded_embed_metadata_keys=[], excluded_llm_metadata_keys=[], relationships={<NodeRelationship.SOURCE: '1'>: RelatedNodeInfo(node_id='dc9df24c-a618-4074-b506-99d68e387ab7', node_type=<ObjectType.DOCUMENT: '4'>, metadata={}, hash='ff2825b404f1c0f63a1e3740c7ce34b1d334eb810a1a9d8ab42bb3a1c8038323'), <NodeRelationship.PREVIOUS: '2'>: RelatedNodeInfo(node_id='b68930b4-f792-45a9-b466-362ae934b6a6', node_type=<ObjectType.TEXT: '1'>, metadata={}, hash='8f6b731048f6e831df5e25669e023b1b8184f369cb65a1454349786b8fbea20a')}, text='790 |55 inch     |LED        |4K                 |2             |3              |Black |20 W              |\\n|Sony     |Sony 55 Inches LED Ultra HD (4K) TV (KD-55X7400H, Black)                |55 Inch LED Ultra HD TV (KD-55X7400H)            |KD-55X7400H   |66,999 |55 inch     |LED        |4K                 |2             |3              |Black |20 W              |\\n|Sony     |Sony 43 Inches Ultra HD (4K) LCD TV (KD-43X8500C, Black)                |43 Inch LCD Ultra HD (4K) TV (KD-43X8500C)       |KD-43X8500C   |85,948 |43 inch     |LED        |4K                 |3             |4              |Black |20 W              |\\n|Sony     |Sony 49 Inches HD Ready LCD Smart TV (KD-49X8300D, Black)               |49 Inch LED Ultra HD (4K) TV (KD-49X8300D)       |KD-49X8300D   |99,999 |49 inch     |LED        |4K                 |3             |4              |Black |20 W              |\\n|Sony     |Sony 55 Inches Ultra HD (4K) LCD TV (KD-55X8200E, Black)                |55 Inch LED Ultra HD (4K) TV (KD-55X8200E)       |KD-55X8200E   |124,900|55 inch     |LED        |4K                 |3             |4              |Black |40 W              |\\n|Sony     |Sony 55 Inches Ultra HD (4K) LED Smart Android TV (55X9000H, Black)     |55-inch 4K HDR LED Android TV (55X9000H)         |KD-55X9000H   |104,990|55 inch     |LED        |4K                 |2             |4              |Black |20W               |\\n|Sony     |Sony 40 Inches Full HD LCD Smart TV (KLV-40W562D, Black)                |40 Inch LED Full HD TV (KLV-40W562D)             |KLV-40W562D   |29,999 |39 inch     |LED        |Full-HD            |2             |2              |Black |30 W              |\\n|Sony     |Sony 43 Inches Full HD LCD TV (KDL-43W800D, Black)                      |43 Inch LED Full HD TV (KDL-43W800D)             |KDL-43W800D   |49,999 |43 inch     |LED        |Full-HD            |2             |4              |Black |10 W x 2          |\\n|Sony     |Sony 40 Inches Full HD LCD Smart TV (KLV-40W672E, Black)                |40 Inch LED Full HD TV (KLV-40W672E)             |KLV-40W672E   |41,499 |40 inch     |LED        |Full-HD            |2             |2              |Black |30 W              |\\n|Sony     |Sony 65 Inches Ultra HD (4K) LCD TV (KD-65X9300E, Black)                |65 Inch LED Ultra HD (4K) TV (KD-65X9300E)       |KD-65X9300E   |179,999|65 inch     |LED        |4K                 |3             |4              |Black |60 W              |\\n|Sony     |Sony 49 Inches Ultra HD (4K) LCD Smart TV (KD-49X7500E, Black)          |49 Inch LED Ultra HD (4K) TV (KD-49X7500E)       |KD-49X7500E   |71,999 |49 inch     |LED        |4K                 |3             |4              |Black |20 W              |', mimetype='text/plain', start_char_idx=8212, end_char_idx=10919, text_template='{metadata_str}\\n\\n{content}', metadata_template='{key}: {value}', metadata_seperator='\\n'), score=0.6645243145447247)], metadata={'2047f56c-ebde-4377-b94c-3bfe7dcf3cf7': {}, 'ba41b129-0124-4f20-a083-22e313e67461': {}})"
      ]
     },
     "execution_count": 52,
     "metadata": {},
     "output_type": "execute_result"
    }
   ],
   "source": [
    "query_str = \"What was the maximum, minimum and average price of the TV\"\n",
    "response = query_engine.query(query_str)\n",
    "response"
   ]
  },
  {
   "cell_type": "code",
   "execution_count": 53,
   "metadata": {},
   "outputs": [
    {
     "data": {
      "text/plain": [
       "Response(response='Samsung has the highest number of TV models listed.', source_nodes=[NodeWithScore(node=TextNode(id_='2047f56c-ebde-4377-b94c-3bfe7dcf3cf7', embedding=None, metadata={}, excluded_embed_metadata_keys=[], excluded_llm_metadata_keys=[], relationships={<NodeRelationship.SOURCE: '1'>: RelatedNodeInfo(node_id='dc9df24c-a618-4074-b506-99d68e387ab7', node_type=<ObjectType.DOCUMENT: '4'>, metadata={}, hash='ff2825b404f1c0f63a1e3740c7ce34b1d334eb810a1a9d8ab42bb3a1c8038323'), <NodeRelationship.NEXT: '3'>: RelatedNodeInfo(node_id='084844df-38d9-4a39-ae39-9807cb7b55e2', node_type=<ObjectType.TEXT: '1'>, metadata={}, hash='ee497e1ce2025f7b25167d0814a6969011d7b9ca6277e63fdf425c4e2c4b8c40')}, text='|Brand    |Product name                                                            |Model                                            |Model Name    |Price  |Display Size|Screen Type|Resolution Standard|No of USB Port|No of HDMI Port|Color |Speaker Output RMS|\\n|---------|------------------------------------------------------------------------|-------------------------------------------------|--------------|-------|------------|-----------|-------------------|--------------|---------------|------|------------------|\\n|Samsung  |Samsung 43 Inches Full HD LED TV (43J5100, Black)                       |43 Inch LED Full HD TV (43J5100)                 |43J5100       |37,200 |43 inch     |LED        |Full-HD            |2             |2              |Black |16 W              |\\n|Samsung  |Samsung 32 Inches HD Ready LED Smart TV (Series 4 UA32N4305ARXXL, Black)|32 Inch LED HD Ready TV (Series 4 UA32N4305ARXXL)|UA32N4305ARXXL|14,499 |32 inch     |LED        |HD-Ready           |1             |2              |Black |10W               |\\n|Samsung  |Samsung 49 Inches Full HD LED Curved TV (49M6300, Grey)                 |49 Inch LED Full HD TV (49M6300)                 |49M6300       |91,850 |49 inch     |LED        |Full-HD            |2             |3              |Black |20 W              |\\n|Samsung  |Samsung 43 Inches Full HD LED Smart TV (43M5570, Grey)                  |43 Inch LED Full HD TV (43M5570)                 |43M5570       |33,790 |43 inch     |LED        |Full-HD            |2             |3              |Black |20 W              |\\n|Samsung  |Samsung 50 Inches Ultra HD (4K) LED Smart TV (50MU6100, Black)          |50 Inch LED Ultra HD (4K) TV (50MU6100)          |50MU6100      |69,000 |50 inch     |LED        |4K                 |2             |3              |Black |20 W              |\\n|Samsung  |Samsung 75 Inches Ultra HD (4K) LED Smart TV (75MU7000, Black)          |75 Inch LED Ultra HD (4K) TV (75MU7000)          |75MU7000      |599,900|75 inch     |LED        |4K                 |3             |4              |Black |40 W              |\\n|Samsung  |Samsung 65 Inches Ultra HD (4K) LED Smart TV (65MU7500, Silver)         |65 Inch LED Ultra HD (4K) TV (65MU7500)          |65MU7500      |344,900|65 inch     |LED        |4K                 |3             |4              |Silver|40 W              |\\n|Samsung  |Samsung 49 Inches Ultra HD (4K) LED Smart TV (49MU7000, Black)          |49 Inch LED Ultra HD (4K) TV (49MU7000)          |49MU7000      |155,900|49 inch     |LED        |4K                 |3             |4              |Black |40 W              |\\n|Samsung  |Samsung 55 Inches Ultra HD (4K) QLED Curved TV (55Q8C, Black)           |55 Inch QLED Ultra HD (4K) TV (55Q8C)            |55Q8C         |344,900|55 inch     |QLED       |4K                 |3             |4              |Black |60 W              |\\n|Samsung  |Samsung 55 Inches Ultra HD (4K) LED Curved TV (55MU7500, Grey)          |55 Inch LED Ultra HD (4K) TV (55MU7500)          |55MU7500      |229,900|55 inch     |LED        |4K                 |2             |3              |Black |40 W              |\\n|LG       |LG 55 Inches Ultra HD LED Smart TV (55UK6360PTE, Black)                 |55 Inch LED Ultra HD (4K) TV (55UK6360PTE)       |55UK6360PTE   |58,999 |55 inch     |LED        |4K                 |1             |2              |Black |20 W              |\\n|LG       |LG 65 Inches Ultra HD OLED Smart TV (OLED65B8PTA, Grey)                 |65 Inch OLED Ultra HD (4K) TV (OLED65B8PTA)      |OLED65B8PTA   |259,', mimetype='text/plain', start_char_idx=0, end_char_idx=3533, text_template='{metadata_str}\\n\\n{content}', metadata_template='{key}: {value}', metadata_seperator='\\n'), score=0.6503433461386519), NodeWithScore(node=TextNode(id_='ba41b129-0124-4f20-a083-22e313e67461', embedding=None, metadata={}, excluded_embed_metadata_keys=[], excluded_llm_metadata_keys=[], relationships={<NodeRelationship.SOURCE: '1'>: RelatedNodeInfo(node_id='dc9df24c-a618-4074-b506-99d68e387ab7', node_type=<ObjectType.DOCUMENT: '4'>, metadata={}, hash='ff2825b404f1c0f63a1e3740c7ce34b1d334eb810a1a9d8ab42bb3a1c8038323'), <NodeRelationship.PREVIOUS: '2'>: RelatedNodeInfo(node_id='b68930b4-f792-45a9-b466-362ae934b6a6', node_type=<ObjectType.TEXT: '1'>, metadata={}, hash='8f6b731048f6e831df5e25669e023b1b8184f369cb65a1454349786b8fbea20a')}, text='790 |55 inch     |LED        |4K                 |2             |3              |Black |20 W              |\\n|Sony     |Sony 55 Inches LED Ultra HD (4K) TV (KD-55X7400H, Black)                |55 Inch LED Ultra HD TV (KD-55X7400H)            |KD-55X7400H   |66,999 |55 inch     |LED        |4K                 |2             |3              |Black |20 W              |\\n|Sony     |Sony 43 Inches Ultra HD (4K) LCD TV (KD-43X8500C, Black)                |43 Inch LCD Ultra HD (4K) TV (KD-43X8500C)       |KD-43X8500C   |85,948 |43 inch     |LED        |4K                 |3             |4              |Black |20 W              |\\n|Sony     |Sony 49 Inches HD Ready LCD Smart TV (KD-49X8300D, Black)               |49 Inch LED Ultra HD (4K) TV (KD-49X8300D)       |KD-49X8300D   |99,999 |49 inch     |LED        |4K                 |3             |4              |Black |20 W              |\\n|Sony     |Sony 55 Inches Ultra HD (4K) LCD TV (KD-55X8200E, Black)                |55 Inch LED Ultra HD (4K) TV (KD-55X8200E)       |KD-55X8200E   |124,900|55 inch     |LED        |4K                 |3             |4              |Black |40 W              |\\n|Sony     |Sony 55 Inches Ultra HD (4K) LED Smart Android TV (55X9000H, Black)     |55-inch 4K HDR LED Android TV (55X9000H)         |KD-55X9000H   |104,990|55 inch     |LED        |4K                 |2             |4              |Black |20W               |\\n|Sony     |Sony 40 Inches Full HD LCD Smart TV (KLV-40W562D, Black)                |40 Inch LED Full HD TV (KLV-40W562D)             |KLV-40W562D   |29,999 |39 inch     |LED        |Full-HD            |2             |2              |Black |30 W              |\\n|Sony     |Sony 43 Inches Full HD LCD TV (KDL-43W800D, Black)                      |43 Inch LED Full HD TV (KDL-43W800D)             |KDL-43W800D   |49,999 |43 inch     |LED        |Full-HD            |2             |4              |Black |10 W x 2          |\\n|Sony     |Sony 40 Inches Full HD LCD Smart TV (KLV-40W672E, Black)                |40 Inch LED Full HD TV (KLV-40W672E)             |KLV-40W672E   |41,499 |40 inch     |LED        |Full-HD            |2             |2              |Black |30 W              |\\n|Sony     |Sony 65 Inches Ultra HD (4K) LCD TV (KD-65X9300E, Black)                |65 Inch LED Ultra HD (4K) TV (KD-65X9300E)       |KD-65X9300E   |179,999|65 inch     |LED        |4K                 |3             |4              |Black |60 W              |\\n|Sony     |Sony 49 Inches Ultra HD (4K) LCD Smart TV (KD-49X7500E, Black)          |49 Inch LED Ultra HD (4K) TV (KD-49X7500E)       |KD-49X7500E   |71,999 |49 inch     |LED        |4K                 |3             |4              |Black |20 W              |', mimetype='text/plain', start_char_idx=8212, end_char_idx=10919, text_template='{metadata_str}\\n\\n{content}', metadata_template='{key}: {value}', metadata_seperator='\\n'), score=0.6159827177002705)], metadata={'2047f56c-ebde-4377-b94c-3bfe7dcf3cf7': {}, 'ba41b129-0124-4f20-a083-22e313e67461': {}})"
      ]
     },
     "execution_count": 53,
     "metadata": {},
     "output_type": "execute_result"
    }
   ],
   "source": [
    "query_str = \"Which brand has the highest number of TV models listed?\"\n",
    "response = query_engine.query(query_str)\n",
    "response"
   ]
  },
  {
   "cell_type": "code",
   "execution_count": null,
   "metadata": {},
   "outputs": [],
   "source": []
  }
 ],
 "metadata": {
  "kernelspec": {
   "display_name": "Python 3 (ipykernel)",
   "language": "python",
   "name": "python3"
  },
  "language_info": {
   "codemirror_mode": {
    "name": "ipython",
    "version": 3
   },
   "file_extension": ".py",
   "mimetype": "text/x-python",
   "name": "python",
   "nbconvert_exporter": "python",
   "pygments_lexer": "ipython3",
   "version": "3.11.5"
  }
 },
 "nbformat": 4,
 "nbformat_minor": 4
}
