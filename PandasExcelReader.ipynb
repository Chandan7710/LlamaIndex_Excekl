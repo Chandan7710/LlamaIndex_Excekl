{
 "cells": [
  {
   "cell_type": "code",
   "execution_count": 1,
   "metadata": {},
   "outputs": [
    {
     "name": "stderr",
     "output_type": "stream",
     "text": [
      "/home/chandanha/Documents/My_Documents/Excel_data_reader/my_env/lib/python3.11/site-packages/tqdm/auto.py:21: TqdmWarning: IProgress not found. Please update jupyter and ipywidgets. See https://ipywidgets.readthedocs.io/en/stable/user_install.html\n",
      "  from .autonotebook import tqdm as notebook_tqdm\n"
     ]
    }
   ],
   "source": [
    "from llama_index.llms.together import TogetherLLM\n",
    "from llama_index.core import Settings\n",
    "\n",
    "llm = TogetherLLM(model=\"META-LLAMA/LLAMA-3-70B-CHAT-HF\", \n",
    "api_key=\"87cac61702f938de91651d60977c8a2978163b011f9ba6e991f0e954b9c2c2ce\")\n",
    "Settings.llm = llm"
   ]
  },
  {
   "cell_type": "code",
   "execution_count": 2,
   "metadata": {},
   "outputs": [],
   "source": [
    "from llama_index.readers.file import PandasExcelReader\n",
    "import importlib\n",
    "from pathlib import Path\n",
    "\n",
    "base_reader = PandasExcelReader()\n",
    "base_docs = base_reader.load_data(Path(\"Tv_catalogue.xlsx\"))"
   ]
  },
  {
   "cell_type": "code",
   "execution_count": 3,
   "metadata": {},
   "outputs": [
    {
     "name": "stdout",
     "output_type": "stream",
     "text": [
      "Samsung Samsung 43 Inches Full HD LED TV (43J5100, Black) 43 Inch LED Full HD TV (43J5100) 43J5100 37200 43 inch LED Full-HD 2 2 Black 16 W\n",
      "Samsung Samsung 32 Inches HD Ready LED Smart TV (Series 4 UA32N4305ARXXL, Black) 32 Inch LED HD Ready TV (Series 4 UA32N4305ARXXL) UA32N4305ARXXL 14499 32 inch LED HD-Ready 1 2 Black 10W\n",
      "Samsung Samsung 49 Inches Full HD LED Curved TV (49M6300, Grey) 49 Inch LED Full HD TV (49M6300) 49M6300 91850 49 inch LED Full-HD 2 3 Black 20 W\n",
      "Samsung Samsung 43 Inches Full HD LED Smart TV (43M5570, Grey) 43 Inch LED Full HD TV (43M5570) 43M5570 33790 43 inch LED Full-HD 2 3 Black 20 W\n",
      "Samsung Samsung 50 Inches Ultra HD (4K) LED Smart TV (50MU6100, Black) 50 Inch LED Ultra HD (4K) TV (50MU6100) 50MU6100 69000 50 inch LED 4K 2 3 Black 20 W\n",
      "Samsung Samsung 75 Inches Ultra HD (4K) LED Smart TV (75MU7000, Black) 75 Inch LED Ultra HD (4K) TV (75MU7000) 75MU7000 599900 75 inch LED 4K 3 4 Black 40 W\n",
      "Samsung Samsung 65 Inches Ultra HD (4K) LED Smart TV (65MU7500, Silver) 65 Inch LED Ultra HD (4K) TV (65MU7500) 65MU7500 344900 65 inch LED 4K 3 4 Silver 40 W\n",
      "Samsung Samsung 49 Inches Ultra HD (4K) LED Smart TV (49MU7000, Black) 49 Inch LED Ultra HD (4K) TV (49MU7000) 49MU7000 155900 49 inch LED 4K 3 4 Black 40 W\n",
      "Samsung Samsung 55 Inches Ultra HD (4K) QLED Curved TV (55Q8C, Black) 55 Inch QLED Ultra HD (4K) TV (55Q8C) 55Q8C 344900 55 inch QLED 4K 3 4 Black 60 W\n",
      "Samsung Samsung 55 Inches Ultra HD (4K) LED Curved TV (55MU7500, Grey) 55 Inch LED Ultra HD (4K) TV (55MU7500) 55MU7500 229900 55 inch LED 4K 2 3 Black 40 W\n",
      "LG LG 55 Inches Ultra HD LED Smart TV (55UK6360PTE, Black) 55 Inch LED Ultra HD (4K) TV (55UK6360PTE) 55UK6360PTE 58999 55 inch LED 4K 1 2 Black 20 W\n",
      "LG LG 65 Inches Ultra HD OLED Smart TV (OLED65B8PTA, Grey) 65 Inch OLED Ultra HD (4K) TV (OLED65B8PTA) OLED65B8PTA 259350 65 inch OLED 4K 1 3 Black 40 W\n",
      "LG LG 32 Inches HD Ready LED Smart TV (32LK628BPTF) 32 Inch LED HD Ready TV (32LK628BPTF) 32LK628BPTF 20990 32 inch LED HD-Ready 1 3 Black 35 W\n",
      "LG LG 55 Inches Ultra HD LED Smart TV (55UK6500PTC, Black) 55 Inch LED Ultra HD (4K) TV (55UK6500PTC) 55UK6500PTC 71462 55 inch LED 4K 2 4 Black 20 W\n",
      "LG LG 55 Inches Ultra HD (4K) LED Smart TV (55UK7500PTA, Silver) 55 Inch LED Ultra HD (4K) TV (55UK7500PTA) 55UK7500PTA 65195 55 inch LED 4K 2 4 Black 20 W\n",
      "LG LG 55 Inches Ultra HD (4K) OLED Smart TV (OLED55B8PTA, Grey) 55 Inch OLED Ultra HD (4K) TV (OLED55B8PTA) OLED55B8PTA 159999 55 inch OLED 4K 1 3 Grey 40 W\n",
      "LG LG 65 Inches Ultra HD (4K) OLED Smart TV (OLED65C8PTA) 65 Inch OLED Ultra HD (4K) TV (OLED65C8PTA) OLED65C8PTA 249999 65 inch OLED 4K 1 2 Black 40 W\n",
      "LG LG 65 Inches Ultra HD (4K) LED Smart TV (65UK7500PTA, Silver) 65 Inch LED Ultra HD (4K) TV (65UK7500PTA) 65UK7500PTA 149999 65 inch LED 4K 2 4 Black 20 W\n",
      "LG LG 65 Inches Ultra HD (4K) LED Smart TV (65UK6360PTE) 65 Inch LED Ultra HD TV (65UK6360PTE) 65UK6360PTE 120999 65 inch LED Ultra-HD 2 3 Grey 20 W\n",
      "LG LG 43 Inches Ultra HD (4K) LED Smart TV (43UK6360PTE, Black) 43 Inch LED Ultra HD (4K) TV (43UK6360PTE) 43UK6360PTE 36999 43 inch LED 4K 1 2 Black 20 W\n",
      "Panasonic Panasonic 43 Inches Full HD LED Smart TV (TH-43ES480DX, Black) 43 Inch LED Full HD TV (TH-43ES480DX) TH-43ES480DX 35464 43 inch LED Full-HD 2 2 Black 20 W\n",
      "Panasonic Panasonic 49 Inches Full HD LED Smart TV (TH-49ES480DX, Black) 49 Inch LED Full HD TV (TH-49ES480DX) TH-49ES480DX 42999 49 inch LED Full-HD 2 3 Black 20 W\n",
      "Panasonic Panasonic 65 Inches Ultra HD (4K) LED Smart TV (TH-65FX800D, Grey) 65 Inch LED Ultra HD (4K) TV (TH-65FX800D) TH-65FX800D 171515 65 inch LED 4K 3 4 Grey 20 W\n",
      "Panasonic Panasonic 32 Inches HD Ready LED Stard TV (TH-32ES480DX, Black) 32 Inch LED HD Ready TV (TH-32ES480DX) TH-32ES480DX 24990 32 inch LED HD-Ready 2 2 Black 20 W\n",
      "Panasonic Panasonic 32 Inches Full HD LED Smart TV (TH-32FS600D, Black) 32 Inch LED HD Ready TV (TH-32FS600D) TH-32FS600D 19499 32 inch LED HD-Ready 2 3 Black 20 W\n",
      "Panasonic Panasonic 55 Inches Ultra HD (4K) LED Smart TV (TH-55FX800D, Grey) 55 Inch LED Ultra HD (4K) TV (TH-55FX800D) TH-55FX800D 191621 55 inch LED 4K 3 4 Black 20 W\n",
      "Panasonic Panasonic 55 Inches Ultra HD (4K) LED Smart TV (TH-55FX600D, Black) 55 Inch LED Ultra HD (4K) TV (TH-55FX600D) TH-55FX600D 69999 55 inch LED 4K 3 4 Black 20 W\n",
      "Panasonic Panasonic 49 Inches Ultra HD (4K) LED Smart TV (TH-49FX730D, Grey) 49 Inch LED Ultra HD (4K) TV (TH-49FX730D) TH-49FX730D 69999 49 inch LED 4K 3 3 Black 20 W\n",
      "Panasonic Panasonic 50 Inches Full HD LED Smart TV (TH-50FS600D, Black) 50 Inch LED Full HD TV (TH-50FS600D) TH-50FS600D 35000 50 inch LED Full-HD 2 3 Black 20 W\n",
      "Panasonic Panasonic 55 Inches Ultra HD (4K) LED Smart TV (TH-55FX650D, Grey) 55 Inch LED Ultra HD (4K) TV (TH-55FX650D) TH-55FX650D 64790 55 inch LED 4K 2 3 Black 20 W\n",
      "Sony Sony 55 Inches LED Ultra HD (4K) TV (KD-55X7400H, Black) 55 Inch LED Ultra HD TV (KD-55X7400H) KD-55X7400H 66999 55 inch LED 4K 2 3 Black 20 W\n",
      "Sony Sony 43 Inches Ultra HD (4K) LCD TV (KD-43X8500C, Black) 43 Inch LCD Ultra HD (4K) TV (KD-43X8500C) KD-43X8500C 85948 43 inch LED 4K 3 4 Black 20 W\n",
      "Sony Sony 49 Inches HD Ready LCD Smart TV (KD-49X8300D, Black) 49 Inch LED Ultra HD (4K) TV (KD-49X8300D) KD-49X8300D 99999 49 inch LED 4K 3 4 Black 20 W\n",
      "Sony Sony 55 Inches Ultra HD (4K) LCD TV (KD-55X8200E, Black) 55 Inch LED Ultra HD (4K) TV (KD-55X8200E) KD-55X8200E 124900 55 inch LED 4K 3 4 Black 40 W\n",
      "Sony Sony 55 Inches Ultra HD (4K) LED Smart Android TV (55X9000H, Black) 55-inch 4K HDR LED Android TV (55X9000H) KD-55X9000H 104990 55 inch LED 4K 2 4 Black 20W\n",
      "Sony Sony 40 Inches Full HD LCD Smart TV (KLV-40W562D, Black) 40 Inch LED Full HD TV (KLV-40W562D) KLV-40W562D 29999 39 inch LED Full-HD 2 2 Black 30 W\n",
      "Sony Sony 43 Inches Full HD LCD TV (KDL-43W800D, Black) 43 Inch LED Full HD TV (KDL-43W800D) KDL-43W800D 49999 43 inch LED Full-HD 2 4 Black 10 W x 2\n",
      "Sony Sony 40 Inches Full HD LCD Smart TV (KLV-40W672E, Black) 40 Inch LED Full HD TV (KLV-40W672E) KLV-40W672E 41499 40 inch LED Full-HD 2 2 Black 30 W\n",
      "Sony Sony 65 Inches Ultra HD (4K) LCD TV (KD-65X9300E, Black) 65 Inch LED Ultra HD (4K) TV (KD-65X9300E) KD-65X9300E 179999 65 inch LED 4K 3 4 Black 60 W\n",
      "Sony Sony 49 Inches Ultra HD (4K) LCD Smart TV (KD-49X7500E, Black) 49 Inch LED Ultra HD (4K) TV (KD-49X7500E) KD-49X7500E 71999 49 inch LED 4K 3 4 Black 20 W\n"
     ]
    }
   ],
   "source": [
    "print(base_docs[0].get_content())"
   ]
  },
  {
   "cell_type": "code",
   "execution_count": 4,
   "metadata": {},
   "outputs": [],
   "source": [
    "from llama_index.core import SummaryIndex\n",
    "base_index = SummaryIndex.from_documents([base_docs[0]])\n",
    "base_query_engine = base_index.as_query_engine()"
   ]
  },
  {
   "cell_type": "code",
   "execution_count": 5,
   "metadata": {},
   "outputs": [],
   "source": [
    "query_str = \"What are all the different Screen Type available\"\n",
    "base_response = base_query_engine.query(query_str)"
   ]
  },
  {
   "cell_type": "code",
   "execution_count": 6,
   "metadata": {},
   "outputs": [
    {
     "name": "stdout",
     "output_type": "stream",
     "text": [
      "******* PandasExcelReader *******\n",
      "Based on the provided context information, the different screen types available are:\n",
      "\n",
      "1. LED\n",
      "2. QLED\n",
      "3. OLED\n"
     ]
    }
   ],
   "source": [
    "print(\"******* PandasExcelReader *******\")\n",
    "print(str(base_response))"
   ]
  },
  {
   "cell_type": "code",
   "execution_count": 7,
   "metadata": {},
   "outputs": [],
   "source": [
    "query_str = \"What was the maximum, minimum and average Price\"\n",
    "base_response = base_query_engine.query(query_str)"
   ]
  },
  {
   "cell_type": "code",
   "execution_count": 8,
   "metadata": {},
   "outputs": [
    {
     "name": "stdout",
     "output_type": "stream",
     "text": [
      "******* PandasExcelReader *******\n",
      "Based on the provided context information, the maximum price is 599900, the minimum price is 14499, and the average price is approximately 74444.\n"
     ]
    }
   ],
   "source": [
    "print(\"******* PandasExcelReader *******\")\n",
    "print(str(base_response))"
   ]
  },
  {
   "cell_type": "code",
   "execution_count": 9,
   "metadata": {},
   "outputs": [],
   "source": [
    "query_str = \"List all the different types of Resolution Standard\"\n",
    "base_response = base_query_engine.query(query_str)"
   ]
  },
  {
   "cell_type": "code",
   "execution_count": 10,
   "metadata": {},
   "outputs": [
    {
     "name": "stdout",
     "output_type": "stream",
     "text": [
      "******* PandasExcelReader *******\n",
      "Based on the provided context information, the different types of Resolution Standards mentioned are:\n",
      "\n",
      "1. Full HD\n",
      "2. HD Ready\n",
      "3. Ultra HD (4K)\n",
      "4. QLED\n"
     ]
    }
   ],
   "source": [
    "print(\"******* PandasExcelReader *******\")\n",
    "print(str(base_response))"
   ]
  },
  {
   "cell_type": "code",
   "execution_count": 11,
   "metadata": {},
   "outputs": [],
   "source": [
    "query_str = \"Which brand has the highest number of TV models listed?\"\n",
    "base_response = base_query_engine.query(query_str)"
   ]
  },
  {
   "cell_type": "code",
   "execution_count": 12,
   "metadata": {},
   "outputs": [
    {
     "name": "stdout",
     "output_type": "stream",
     "text": [
      "******* PandasExcelReader *******\n",
      "Samsung has the highest number of TV models listed, with 9 models.\n"
     ]
    }
   ],
   "source": [
    "print(\"******* PandasExcelReader *******\")\n",
    "print(str(base_response))"
   ]
  },
  {
   "cell_type": "code",
   "execution_count": 13,
   "metadata": {},
   "outputs": [],
   "source": [
    "query_str = \"Which TV model has the highest speaker output RMS?\"\n",
    "base_response = base_query_engine.query(query_str)"
   ]
  },
  {
   "cell_type": "code",
   "execution_count": 14,
   "metadata": {},
   "outputs": [
    {
     "name": "stdout",
     "output_type": "stream",
     "text": [
      "******* PandasExcelReader *******\n",
      "The TV model with the highest speaker output RMS is the Sony 55 Inches Ultra HD (4K) LCD TV (KD-55X9300E, Black) with a speaker output RMS of 60 W.\n"
     ]
    }
   ],
   "source": [
    "print(\"******* PandasExcelReader *******\")\n",
    "print(str(base_response))"
   ]
  },
  {
   "cell_type": "code",
   "execution_count": 15,
   "metadata": {},
   "outputs": [],
   "source": [
    "query_str = \"Explain about cricket\"\n",
    "base_response = base_query_engine.query(query_str)"
   ]
  },
  {
   "cell_type": "code",
   "execution_count": 16,
   "metadata": {},
   "outputs": [
    {
     "name": "stdout",
     "output_type": "stream",
     "text": [
      "******* PandasExcelReader *******\n",
      "I apologize, but there is no information about cricket in the provided context. The context appears to be a list of TV models from various brands, including Samsung, LG, Panasonic, and Sony, with their specifications and prices. There is no mention of cricket or any related topic.\n"
     ]
    }
   ],
   "source": [
    "print(\"******* PandasExcelReader *******\")\n",
    "print(str(base_response))"
   ]
  },
  {
   "cell_type": "code",
   "execution_count": 17,
   "metadata": {},
   "outputs": [],
   "source": [
    "from llama_index.core.llms import ChatMessage, MessageRole\n",
    "from llama_index.core.prompts import ChatPromptTemplate\n",
    "\n",
    "chat_text_qa_msgs = [\n",
    "# Defines the system role message for the chat interaction like guidelines and tone for the AI model.\n",
    "ChatMessage(\n",
    "    role=MessageRole.SYSTEM,\n",
    "    content=(\"\"\"\n",
    "        You are a AI Chatbot assistance to answer the question for the excel data i have given.\n",
    "        Your goal is to answer questions as accurately as possible based on the instructions and context provided.\n",
    "        After answering to the query at the end tell 'Let me Know if You Have any Queries'\n",
    "        If the context is Outside the Excel date Don't answer related to the question.\n",
    "        Just say that, 'The asked question is outside the context of the Excel data, I will answer to the questions related to the excel only'.\n",
    "        If the context is Outside the Excel Don't try to make up an answer.\n",
    "        It the question is asked about max, min, average of a particular colum go through all the rows of the column\n",
    "        For general questions like 'How are you?' or 'Who are you?', respond accordingly,\"\"\"\n",
    "    ),\n",
    "),\n",
    "# Defines the system user message for the chat interaction like query and passing relevent chunks to the AI model.\n",
    "ChatMessage(\n",
    "    role=MessageRole.USER,\n",
    "    content=(\n",
    "        \"Context information is below.\\n\"\n",
    "        \"---------------------\\n\"\n",
    "        \"{context_str}\\n\"\n",
    "        \"---------------------\\n\"\n",
    "        \"Given the context information and not prior knowledge, \"\n",
    "        \"answer the question: {query_str} in bullet points or numbered list where appropriate.\\n\"\n",
    "    ),\n",
    "),\n",
    "]\n",
    "text_qa_template = ChatPromptTemplate(chat_text_qa_msgs)"
   ]
  },
  {
   "cell_type": "code",
   "execution_count": 18,
   "metadata": {},
   "outputs": [],
   "source": [
    "from llama_index.core import SummaryIndex\n",
    "base_index = SummaryIndex.from_documents([base_docs[0]])\n",
    "base_query_engine = base_index.as_query_engine(text_qa_template=text_qa_template, similarity_top_k=10)"
   ]
  },
  {
   "cell_type": "code",
   "execution_count": 19,
   "metadata": {},
   "outputs": [],
   "source": [
    "from llama_index.core import Settings\n",
    "\n",
    "Settings.chunk_size = 100\n",
    "Settings.chunk_overlap = 20\n",
    "Settings.context_window = 8100"
   ]
  },
  {
   "cell_type": "code",
   "execution_count": 20,
   "metadata": {},
   "outputs": [],
   "source": [
    "query_str = \"Explain about cricket\"\n",
    "base_response = base_query_engine.query(query_str)"
   ]
  },
  {
   "cell_type": "code",
   "execution_count": 21,
   "metadata": {},
   "outputs": [
    {
     "name": "stdout",
     "output_type": "stream",
     "text": [
      "******* PandasExcelReader *******\n",
      "The asked question is outside the context of the Excel data, I will answer to the questions related to the excel only. There is no information about cricket in the provided Excel data. The data appears to be related to TVs and their specifications. If you have any questions related to the TV data, I'd be happy to help! \n",
      "\n",
      "Let me know if you have any queries.\n"
     ]
    }
   ],
   "source": [
    "print(\"******* PandasExcelReader *******\")\n",
    "print(str(base_response))"
   ]
  },
  {
   "cell_type": "code",
   "execution_count": 22,
   "metadata": {},
   "outputs": [],
   "source": [
    "import nest_asyncio\n",
    "\n",
    "nest_asyncio.apply()"
   ]
  },
  {
   "cell_type": "code",
   "execution_count": 23,
   "metadata": {},
   "outputs": [
    {
     "name": "stdout",
     "output_type": "stream",
     "text": [
      "False\n"
     ]
    }
   ],
   "source": [
    "from llama_index.core.evaluation import FaithfulnessEvaluator\n",
    "\n",
    "# define evaluator\n",
    "evaluator = FaithfulnessEvaluator(llm=llm)\n",
    "\n",
    "response = base_query_engine.query(\n",
    "    \"Which TV model has the highest speaker output RMS?\"\n",
    ")\n",
    "eval_result = evaluator.evaluate_response(response=response)\n",
    "print(str(eval_result.passing))"
   ]
  },
  {
   "cell_type": "code",
   "execution_count": 24,
   "metadata": {},
   "outputs": [
    {
     "data": {
      "text/plain": [
       "Response(response='Based on the provided context information, here is the answer to the question:\\n\\n* The TV model with the highest speaker output RMS is the Sony Sony 55 Inches Ultra HD (4K) LCD TV (KD-55X8200E, Black) with a speaker output RMS of 40 W.\\n\\nLet me know if you have any further queries!', source_nodes=[NodeWithScore(node=TextNode(id_='b7f5a66f-9c37-462d-948a-23a3e2f7d348', embedding=None, metadata={}, excluded_embed_metadata_keys=[], excluded_llm_metadata_keys=[], relationships={<NodeRelationship.SOURCE: '1'>: RelatedNodeInfo(node_id='3acaea83-0063-4535-a022-a0e08d105390', node_type=<ObjectType.DOCUMENT: '4'>, metadata={}, hash='2b26050ac68b808a1d827dee75c888136682ca2bf844178afc197953617f165c'), <NodeRelationship.NEXT: '3'>: RelatedNodeInfo(node_id='f6708db6-ed92-4f36-8fe2-6dc0d386519b', node_type=<ObjectType.TEXT: '1'>, metadata={}, hash='adc303e8bd74dbbfc8e560f75dede79c21b3abed92c8e87f7559d3a7749faf06')}, text='Samsung Samsung 43 Inches Full HD LED TV (43J5100, Black) 43 Inch LED Full HD TV (43J5100) 43J5100 37200 43 inch LED Full-HD 2 2 Black 16 W\\nSamsung Samsung 32 Inches HD Ready LED Smart TV (Series 4 UA32N4305ARXXL, Black) 32 Inch LED HD Ready TV (Series 4 UA32N4305ARXXL) UA32N4305ARXXL 14499 32 inch LED HD-Ready 1 2 Black 10W\\nSamsung Samsung 49 Inches Full HD LED Curved TV (49M6300, Grey) 49 Inch LED Full HD TV (49M6300) 49M6300 91850 49 inch LED Full-HD 2 3 Black 20 W\\nSamsung Samsung 43 Inches Full HD LED Smart TV (43M5570, Grey) 43 Inch LED Full HD TV (43M5570) 43M5570 33790 43 inch LED Full-HD 2 3 Black 20 W\\nSamsung Samsung 50 Inches Ultra HD (4K) LED Smart TV (50MU6100, Black) 50 Inch LED Ultra HD (4K) TV (50MU6100) 50MU6100 69000 50 inch LED 4K 2 3 Black 20 W\\nSamsung Samsung 75 Inches Ultra HD (4K) LED Smart TV (75MU7000, Black) 75 Inch LED Ultra HD (4K) TV (75MU7000) 75MU7000 599900 75 inch LED 4K 3 4 Black 40 W\\nSamsung Samsung 65 Inches Ultra HD (4K) LED Smart TV (65MU7500, Silver) 65 Inch LED Ultra HD (4K) TV (65MU7500) 65MU7500 344900 65 inch LED 4K 3 4 Silver 40 W\\nSamsung Samsung 49 Inches Ultra HD (4K) LED Smart TV (49MU7000, Black) 49 Inch LED Ultra HD (4K) TV (49MU7000) 49MU7000 155900 49 inch LED 4K 3 4 Black 40 W\\nSamsung Samsung 55 Inches Ultra HD (4K) QLED Curved TV (55Q8C, Black) 55 Inch QLED Ultra HD (4K) TV (55Q8C) 55Q8C 344900 55 inch QLED 4K 3 4 Black 60 W\\nSamsung Samsung 55 Inches Ultra HD (4K) LED Curved TV (55MU7500, Grey) 55 Inch LED Ultra HD (4K) TV (55MU7500) 55MU7500 229900 55 inch LED 4K 2 3 Black 40 W\\nLG LG 55 Inches Ultra HD LED Smart TV (55UK6360PTE, Black) 55 Inch LED Ultra HD (4K) TV (55UK6360PTE) 55UK6360PTE 58999 55 inch LED 4K 1 2 Black 20 W\\nLG LG 65 Inches Ultra HD OLED Smart TV (OLED65B8PTA, Grey) 65 Inch OLED Ultra HD (4K) TV (OLED65B8PTA) OLED65B8PTA 259350 65 inch OLED 4K 1 3 Black 40 W\\nLG LG 32 Inches HD Ready LED Smart TV (32LK628BPTF) 32 Inch LED HD Ready TV (32LK628BPTF) 32LK628BPTF 20990 32 inch LED HD-Ready 1 3 Black 35 W\\nLG LG 55 Inches Ultra HD LED Smart TV (55UK6500PTC, Black) 55 Inch LED Ultra HD (4K) TV (55UK6500PTC) 55UK6500PTC 71462 55 inch LED 4K 2 4 Black 20 W\\nLG LG 55 Inches Ultra HD (4K) LED Smart TV (55UK7500PTA, Silver) 55 Inch LED Ultra HD (4K) TV (55UK7500PTA) 55UK7500PTA 65195 55 inch LED 4K 2 4 Black 20 W\\nLG LG 55 Inches Ultra HD (4K) OLED Smart TV (OLED55B8PTA,', mimetype='text/plain', start_char_idx=0, end_char_idx=2366, text_template='{metadata_str}\\n\\n{content}', metadata_template='{key}: {value}', metadata_seperator='\\n'), score=None), NodeWithScore(node=TextNode(id_='f6708db6-ed92-4f36-8fe2-6dc0d386519b', embedding=None, metadata={}, excluded_embed_metadata_keys=[], excluded_llm_metadata_keys=[], relationships={<NodeRelationship.SOURCE: '1'>: RelatedNodeInfo(node_id='3acaea83-0063-4535-a022-a0e08d105390', node_type=<ObjectType.DOCUMENT: '4'>, metadata={}, hash='2b26050ac68b808a1d827dee75c888136682ca2bf844178afc197953617f165c'), <NodeRelationship.PREVIOUS: '2'>: RelatedNodeInfo(node_id='b7f5a66f-9c37-462d-948a-23a3e2f7d348', node_type=<ObjectType.TEXT: '1'>, metadata={}, hash='38f48f4becf59ed25eaaf69195d7c2632440a4f5057f3858a175710a9cd4da36'), <NodeRelationship.NEXT: '3'>: RelatedNodeInfo(node_id='0996adaa-bee0-4a42-b12c-605012346dbd', node_type=<ObjectType.TEXT: '1'>, metadata={}, hash='9d5143e013693a3fc3fe9d5162b603c421694bb28378290e23de476068351684')}, text='Black) 55 Inch LED Ultra HD (4K) TV (55UK6500PTC) 55UK6500PTC 71462 55 inch LED 4K 2 4 Black 20 W\\nLG LG 55 Inches Ultra HD (4K) LED Smart TV (55UK7500PTA, Silver) 55 Inch LED Ultra HD (4K) TV (55UK7500PTA) 55UK7500PTA 65195 55 inch LED 4K 2 4 Black 20 W\\nLG LG 55 Inches Ultra HD (4K) OLED Smart TV (OLED55B8PTA, Grey) 55 Inch OLED Ultra HD (4K) TV (OLED55B8PTA) OLED55B8PTA 159999 55 inch OLED 4K 1 3 Grey 40 W\\nLG LG 65 Inches Ultra HD (4K) OLED Smart TV (OLED65C8PTA) 65 Inch OLED Ultra HD (4K) TV (OLED65C8PTA) OLED65C8PTA 249999 65 inch OLED 4K 1 2 Black 40 W\\nLG LG 65 Inches Ultra HD (4K) LED Smart TV (65UK7500PTA, Silver) 65 Inch LED Ultra HD (4K) TV (65UK7500PTA) 65UK7500PTA 149999 65 inch LED 4K 2 4 Black 20 W\\nLG LG 65 Inches Ultra HD (4K) LED Smart TV (65UK6360PTE) 65 Inch LED Ultra HD TV (65UK6360PTE) 65UK6360PTE 120999 65 inch LED Ultra-HD 2 3 Grey 20 W\\nLG LG 43 Inches Ultra HD (4K) LED Smart TV (43UK6360PTE, Black) 43 Inch LED Ultra HD (4K) TV (43UK6360PTE) 43UK6360PTE 36999 43 inch LED 4K 1 2 Black 20 W\\nPanasonic Panasonic 43 Inches Full HD LED Smart TV (TH-43ES480DX, Black) 43 Inch LED Full HD TV (TH-43ES480DX) TH-43ES480DX 35464 43 inch LED Full-HD 2 2 Black 20 W\\nPanasonic Panasonic 49 Inches Full HD LED Smart TV (TH-49ES480DX, Black) 49 Inch LED Full HD TV (TH-49ES480DX) TH-49ES480DX 42999 49 inch LED Full-HD 2 3 Black 20 W\\nPanasonic Panasonic 65 Inches Ultra HD (4K) LED Smart TV (TH-65FX800D, Grey) 65 Inch LED Ultra HD (4K) TV (TH-65FX800D) TH-65FX800D 171515 65 inch LED 4K 3 4 Grey 20 W\\nPanasonic Panasonic 32 Inches HD Ready LED Stard TV (TH-32ES480DX, Black) 32 Inch LED HD Ready TV (TH-32ES480DX) TH-32ES480DX 24990 32 inch LED HD-Ready 2 2 Black 20 W\\nPanasonic Panasonic 32 Inches Full HD LED Smart TV (TH-32FS600D, Black) 32 Inch LED HD Ready TV (TH-32FS600D) TH-32FS600D 19499 32 inch LED HD-Ready 2 3 Black 20 W\\nPanasonic Panasonic 55 Inches Ultra HD (4K) LED Smart TV (TH-55FX800D, Grey) 55 Inch LED Ultra HD (4K) TV (TH-55FX800D) TH-55FX800D 191621 55 inch LED 4K 3 4 Black 20 W\\nPanasonic Panasonic 55 Inches Ultra HD (4K) LED Smart TV (TH-55FX600D, Black) 55 Inch LED Ultra HD (4K) TV (TH-55FX600D) TH-55FX600D 69999 55 inch LED 4K 3 4 Black 20 W\\nPanasonic Panasonic 49 Inches Ultra HD (4K) LED Smart TV (TH-49FX730D, Grey) 49 Inch LED Ultra HD (4K) TV (TH-49FX730D) TH-49FX730D 69999 49 inch LED 4K 3 3 Black 20 W\\nPanasonic Panasonic 50 Inches Full HD LED Smart TV (TH-50FS600D,', mimetype='text/plain', start_char_idx=2055, end_char_idx=4479, text_template='{metadata_str}\\n\\n{content}', metadata_template='{key}: {value}', metadata_seperator='\\n'), score=None), NodeWithScore(node=TextNode(id_='0996adaa-bee0-4a42-b12c-605012346dbd', embedding=None, metadata={}, excluded_embed_metadata_keys=[], excluded_llm_metadata_keys=[], relationships={<NodeRelationship.SOURCE: '1'>: RelatedNodeInfo(node_id='3acaea83-0063-4535-a022-a0e08d105390', node_type=<ObjectType.DOCUMENT: '4'>, metadata={}, hash='2b26050ac68b808a1d827dee75c888136682ca2bf844178afc197953617f165c'), <NodeRelationship.PREVIOUS: '2'>: RelatedNodeInfo(node_id='f6708db6-ed92-4f36-8fe2-6dc0d386519b', node_type=<ObjectType.TEXT: '1'>, metadata={}, hash='adc303e8bd74dbbfc8e560f75dede79c21b3abed92c8e87f7559d3a7749faf06')}, text='Black) 55 Inch LED Ultra HD (4K) TV (TH-55FX600D) TH-55FX600D 69999 55 inch LED 4K 3 4 Black 20 W\\nPanasonic Panasonic 49 Inches Ultra HD (4K) LED Smart TV (TH-49FX730D, Grey) 49 Inch LED Ultra HD (4K) TV (TH-49FX730D) TH-49FX730D 69999 49 inch LED 4K 3 3 Black 20 W\\nPanasonic Panasonic 50 Inches Full HD LED Smart TV (TH-50FS600D, Black) 50 Inch LED Full HD TV (TH-50FS600D) TH-50FS600D 35000 50 inch LED Full-HD 2 3 Black 20 W\\nPanasonic Panasonic 55 Inches Ultra HD (4K) LED Smart TV (TH-55FX650D, Grey) 55 Inch LED Ultra HD (4K) TV (TH-55FX650D) TH-55FX650D 64790 55 inch LED 4K 2 3 Black 20 W\\nSony Sony 55 Inches LED Ultra HD (4K) TV (KD-55X7400H, Black) 55 Inch LED Ultra HD TV (KD-55X7400H) KD-55X7400H 66999 55 inch LED 4K 2 3 Black 20 W\\nSony Sony 43 Inches Ultra HD (4K) LCD TV (KD-43X8500C, Black) 43 Inch LCD Ultra HD (4K) TV (KD-43X8500C) KD-43X8500C 85948 43 inch LED 4K 3 4 Black 20 W\\nSony Sony 49 Inches HD Ready LCD Smart TV (KD-49X8300D, Black) 49 Inch LED Ultra HD (4K) TV (KD-49X8300D) KD-49X8300D 99999 49 inch LED 4K 3 4 Black 20 W\\nSony Sony 55 Inches Ultra HD (4K) LCD TV (KD-55X8200E, Black) 55 Inch LED Ultra HD (4K) TV (KD-55X8200E) KD-55X8200E 124900 55 inch LED 4K 3 4 Black 40 W\\nSony Sony 55 Inches Ultra HD (4K) LED Smart Android TV (55X9000H, Black) 55-inch 4K HDR LED Android TV (55X9000H) KD-55X9000H 104990 55 inch LED 4K 2 4 Black 20W\\nSony Sony 40 Inches Full HD LCD Smart TV (KLV-40W562D, Black) 40 Inch LED Full HD TV (KLV-40W562D) KLV-40W562D 29999 39 inch LED Full-HD 2 2 Black 30 W\\nSony Sony 43 Inches Full HD LCD TV (KDL-43W800D, Black) 43 Inch LED Full HD TV (KDL-43W800D) KDL-43W800D 49999 43 inch LED Full-HD 2 4 Black 10 W x 2\\nSony Sony 40 Inches Full HD LCD Smart TV (KLV-40W672E, Black) 40 Inch LED Full HD TV (KLV-40W672E) KLV-40W672E 41499 40 inch LED Full-HD 2 2 Black 30 W\\nSony Sony 65 Inches Ultra HD (4K) LCD TV (KD-65X9300E, Black) 65 Inch LED Ultra HD (4K) TV (KD-65X9300E) KD-65X9300E 179999 65 inch LED 4K 3 4 Black 60 W\\nSony Sony 49 Inches Ultra HD (4K) LCD Smart TV (KD-49X7500E, Black) 49 Inch LED Ultra HD (4K) TV (KD-49X7500E) KD-49X7500E 71999 49 inch LED 4K 3 4 Black 20 W', mimetype='text/plain', start_char_idx=4149, end_char_idx=6282, text_template='{metadata_str}\\n\\n{content}', metadata_template='{key}: {value}', metadata_seperator='\\n'), score=None)], metadata={'b7f5a66f-9c37-462d-948a-23a3e2f7d348': {}, 'f6708db6-ed92-4f36-8fe2-6dc0d386519b': {}, '0996adaa-bee0-4a42-b12c-605012346dbd': {}})"
      ]
     },
     "execution_count": 24,
     "metadata": {},
     "output_type": "execute_result"
    }
   ],
   "source": [
    "response"
   ]
  },
  {
   "cell_type": "code",
   "execution_count": 25,
   "metadata": {},
   "outputs": [
    {
     "name": "stdout",
     "output_type": "stream",
     "text": [
      "True\n"
     ]
    }
   ],
   "source": [
    "from llama_index.core.evaluation import FaithfulnessEvaluator\n",
    "\n",
    "# define evaluator\n",
    "evaluator = FaithfulnessEvaluator(llm=llm)\n",
    "\n",
    "response = base_query_engine.query(\n",
    "    \"How many TVs have more than 2 USB ports?\"\n",
    ")\n",
    "eval_result = evaluator.evaluate_response(response=response)\n",
    "print(str(eval_result.passing))"
   ]
  },
  {
   "cell_type": "code",
   "execution_count": 26,
   "metadata": {},
   "outputs": [
    {
     "data": {
      "text/plain": [
       "Response(response='Based on the provided context information, I can answer your question as follows:\\n\\nHere are the TVs with more than 2 USB ports:\\n\\n1. Samsung 43 Inches Full HD LED Smart TV (43M5570, Grey) - 3 USB ports\\n2. Samsung 50 Inches Ultra HD (4K) LED Smart TV (50MU6100, Black) - 3 USB ports\\n3. Samsung 65 Inches Ultra HD (4K) LED Smart TV (65MU7500, Silver) - 4 USB ports\\n4. Samsung 75 Inches Ultra HD (4K) LED Smart TV (75MU7000, Black) - 4 USB ports\\n5. LG 65 Inches Ultra HD OLED Smart TV (OLED65B8PTA, Grey) - 3 USB ports\\n6. LG 65 Inches Ultra HD (4K) LED Smart TV (65UK7500PTA, Silver) - 4 USB ports\\n7. Panasonic 65 Inches Ultra HD (4K) LED Smart TV (TH-65FX800D, Grey) - 4 USB ports\\n8. Sony 55 Inches Ultra HD (4K) LCD TV (KD-55X8200E, Black) - 4 USB ports\\n9. Sony 65 Inches Ultra HD (4K) LCD TV (KD-65X9300E, Black) - 4 USB ports\\n\\nLet me know if you have any further queries!', source_nodes=[NodeWithScore(node=TextNode(id_='b7f5a66f-9c37-462d-948a-23a3e2f7d348', embedding=None, metadata={}, excluded_embed_metadata_keys=[], excluded_llm_metadata_keys=[], relationships={<NodeRelationship.SOURCE: '1'>: RelatedNodeInfo(node_id='3acaea83-0063-4535-a022-a0e08d105390', node_type=<ObjectType.DOCUMENT: '4'>, metadata={}, hash='2b26050ac68b808a1d827dee75c888136682ca2bf844178afc197953617f165c'), <NodeRelationship.NEXT: '3'>: RelatedNodeInfo(node_id='f6708db6-ed92-4f36-8fe2-6dc0d386519b', node_type=<ObjectType.TEXT: '1'>, metadata={}, hash='adc303e8bd74dbbfc8e560f75dede79c21b3abed92c8e87f7559d3a7749faf06')}, text='Samsung Samsung 43 Inches Full HD LED TV (43J5100, Black) 43 Inch LED Full HD TV (43J5100) 43J5100 37200 43 inch LED Full-HD 2 2 Black 16 W\\nSamsung Samsung 32 Inches HD Ready LED Smart TV (Series 4 UA32N4305ARXXL, Black) 32 Inch LED HD Ready TV (Series 4 UA32N4305ARXXL) UA32N4305ARXXL 14499 32 inch LED HD-Ready 1 2 Black 10W\\nSamsung Samsung 49 Inches Full HD LED Curved TV (49M6300, Grey) 49 Inch LED Full HD TV (49M6300) 49M6300 91850 49 inch LED Full-HD 2 3 Black 20 W\\nSamsung Samsung 43 Inches Full HD LED Smart TV (43M5570, Grey) 43 Inch LED Full HD TV (43M5570) 43M5570 33790 43 inch LED Full-HD 2 3 Black 20 W\\nSamsung Samsung 50 Inches Ultra HD (4K) LED Smart TV (50MU6100, Black) 50 Inch LED Ultra HD (4K) TV (50MU6100) 50MU6100 69000 50 inch LED 4K 2 3 Black 20 W\\nSamsung Samsung 75 Inches Ultra HD (4K) LED Smart TV (75MU7000, Black) 75 Inch LED Ultra HD (4K) TV (75MU7000) 75MU7000 599900 75 inch LED 4K 3 4 Black 40 W\\nSamsung Samsung 65 Inches Ultra HD (4K) LED Smart TV (65MU7500, Silver) 65 Inch LED Ultra HD (4K) TV (65MU7500) 65MU7500 344900 65 inch LED 4K 3 4 Silver 40 W\\nSamsung Samsung 49 Inches Ultra HD (4K) LED Smart TV (49MU7000, Black) 49 Inch LED Ultra HD (4K) TV (49MU7000) 49MU7000 155900 49 inch LED 4K 3 4 Black 40 W\\nSamsung Samsung 55 Inches Ultra HD (4K) QLED Curved TV (55Q8C, Black) 55 Inch QLED Ultra HD (4K) TV (55Q8C) 55Q8C 344900 55 inch QLED 4K 3 4 Black 60 W\\nSamsung Samsung 55 Inches Ultra HD (4K) LED Curved TV (55MU7500, Grey) 55 Inch LED Ultra HD (4K) TV (55MU7500) 55MU7500 229900 55 inch LED 4K 2 3 Black 40 W\\nLG LG 55 Inches Ultra HD LED Smart TV (55UK6360PTE, Black) 55 Inch LED Ultra HD (4K) TV (55UK6360PTE) 55UK6360PTE 58999 55 inch LED 4K 1 2 Black 20 W\\nLG LG 65 Inches Ultra HD OLED Smart TV (OLED65B8PTA, Grey) 65 Inch OLED Ultra HD (4K) TV (OLED65B8PTA) OLED65B8PTA 259350 65 inch OLED 4K 1 3 Black 40 W\\nLG LG 32 Inches HD Ready LED Smart TV (32LK628BPTF) 32 Inch LED HD Ready TV (32LK628BPTF) 32LK628BPTF 20990 32 inch LED HD-Ready 1 3 Black 35 W\\nLG LG 55 Inches Ultra HD LED Smart TV (55UK6500PTC, Black) 55 Inch LED Ultra HD (4K) TV (55UK6500PTC) 55UK6500PTC 71462 55 inch LED 4K 2 4 Black 20 W\\nLG LG 55 Inches Ultra HD (4K) LED Smart TV (55UK7500PTA, Silver) 55 Inch LED Ultra HD (4K) TV (55UK7500PTA) 55UK7500PTA 65195 55 inch LED 4K 2 4 Black 20 W\\nLG LG 55 Inches Ultra HD (4K) OLED Smart TV (OLED55B8PTA,', mimetype='text/plain', start_char_idx=0, end_char_idx=2366, text_template='{metadata_str}\\n\\n{content}', metadata_template='{key}: {value}', metadata_seperator='\\n'), score=None), NodeWithScore(node=TextNode(id_='f6708db6-ed92-4f36-8fe2-6dc0d386519b', embedding=None, metadata={}, excluded_embed_metadata_keys=[], excluded_llm_metadata_keys=[], relationships={<NodeRelationship.SOURCE: '1'>: RelatedNodeInfo(node_id='3acaea83-0063-4535-a022-a0e08d105390', node_type=<ObjectType.DOCUMENT: '4'>, metadata={}, hash='2b26050ac68b808a1d827dee75c888136682ca2bf844178afc197953617f165c'), <NodeRelationship.PREVIOUS: '2'>: RelatedNodeInfo(node_id='b7f5a66f-9c37-462d-948a-23a3e2f7d348', node_type=<ObjectType.TEXT: '1'>, metadata={}, hash='38f48f4becf59ed25eaaf69195d7c2632440a4f5057f3858a175710a9cd4da36'), <NodeRelationship.NEXT: '3'>: RelatedNodeInfo(node_id='0996adaa-bee0-4a42-b12c-605012346dbd', node_type=<ObjectType.TEXT: '1'>, metadata={}, hash='9d5143e013693a3fc3fe9d5162b603c421694bb28378290e23de476068351684')}, text='Black) 55 Inch LED Ultra HD (4K) TV (55UK6500PTC) 55UK6500PTC 71462 55 inch LED 4K 2 4 Black 20 W\\nLG LG 55 Inches Ultra HD (4K) LED Smart TV (55UK7500PTA, Silver) 55 Inch LED Ultra HD (4K) TV (55UK7500PTA) 55UK7500PTA 65195 55 inch LED 4K 2 4 Black 20 W\\nLG LG 55 Inches Ultra HD (4K) OLED Smart TV (OLED55B8PTA, Grey) 55 Inch OLED Ultra HD (4K) TV (OLED55B8PTA) OLED55B8PTA 159999 55 inch OLED 4K 1 3 Grey 40 W\\nLG LG 65 Inches Ultra HD (4K) OLED Smart TV (OLED65C8PTA) 65 Inch OLED Ultra HD (4K) TV (OLED65C8PTA) OLED65C8PTA 249999 65 inch OLED 4K 1 2 Black 40 W\\nLG LG 65 Inches Ultra HD (4K) LED Smart TV (65UK7500PTA, Silver) 65 Inch LED Ultra HD (4K) TV (65UK7500PTA) 65UK7500PTA 149999 65 inch LED 4K 2 4 Black 20 W\\nLG LG 65 Inches Ultra HD (4K) LED Smart TV (65UK6360PTE) 65 Inch LED Ultra HD TV (65UK6360PTE) 65UK6360PTE 120999 65 inch LED Ultra-HD 2 3 Grey 20 W\\nLG LG 43 Inches Ultra HD (4K) LED Smart TV (43UK6360PTE, Black) 43 Inch LED Ultra HD (4K) TV (43UK6360PTE) 43UK6360PTE 36999 43 inch LED 4K 1 2 Black 20 W\\nPanasonic Panasonic 43 Inches Full HD LED Smart TV (TH-43ES480DX, Black) 43 Inch LED Full HD TV (TH-43ES480DX) TH-43ES480DX 35464 43 inch LED Full-HD 2 2 Black 20 W\\nPanasonic Panasonic 49 Inches Full HD LED Smart TV (TH-49ES480DX, Black) 49 Inch LED Full HD TV (TH-49ES480DX) TH-49ES480DX 42999 49 inch LED Full-HD 2 3 Black 20 W\\nPanasonic Panasonic 65 Inches Ultra HD (4K) LED Smart TV (TH-65FX800D, Grey) 65 Inch LED Ultra HD (4K) TV (TH-65FX800D) TH-65FX800D 171515 65 inch LED 4K 3 4 Grey 20 W\\nPanasonic Panasonic 32 Inches HD Ready LED Stard TV (TH-32ES480DX, Black) 32 Inch LED HD Ready TV (TH-32ES480DX) TH-32ES480DX 24990 32 inch LED HD-Ready 2 2 Black 20 W\\nPanasonic Panasonic 32 Inches Full HD LED Smart TV (TH-32FS600D, Black) 32 Inch LED HD Ready TV (TH-32FS600D) TH-32FS600D 19499 32 inch LED HD-Ready 2 3 Black 20 W\\nPanasonic Panasonic 55 Inches Ultra HD (4K) LED Smart TV (TH-55FX800D, Grey) 55 Inch LED Ultra HD (4K) TV (TH-55FX800D) TH-55FX800D 191621 55 inch LED 4K 3 4 Black 20 W\\nPanasonic Panasonic 55 Inches Ultra HD (4K) LED Smart TV (TH-55FX600D, Black) 55 Inch LED Ultra HD (4K) TV (TH-55FX600D) TH-55FX600D 69999 55 inch LED 4K 3 4 Black 20 W\\nPanasonic Panasonic 49 Inches Ultra HD (4K) LED Smart TV (TH-49FX730D, Grey) 49 Inch LED Ultra HD (4K) TV (TH-49FX730D) TH-49FX730D 69999 49 inch LED 4K 3 3 Black 20 W\\nPanasonic Panasonic 50 Inches Full HD LED Smart TV (TH-50FS600D,', mimetype='text/plain', start_char_idx=2055, end_char_idx=4479, text_template='{metadata_str}\\n\\n{content}', metadata_template='{key}: {value}', metadata_seperator='\\n'), score=None), NodeWithScore(node=TextNode(id_='0996adaa-bee0-4a42-b12c-605012346dbd', embedding=None, metadata={}, excluded_embed_metadata_keys=[], excluded_llm_metadata_keys=[], relationships={<NodeRelationship.SOURCE: '1'>: RelatedNodeInfo(node_id='3acaea83-0063-4535-a022-a0e08d105390', node_type=<ObjectType.DOCUMENT: '4'>, metadata={}, hash='2b26050ac68b808a1d827dee75c888136682ca2bf844178afc197953617f165c'), <NodeRelationship.PREVIOUS: '2'>: RelatedNodeInfo(node_id='f6708db6-ed92-4f36-8fe2-6dc0d386519b', node_type=<ObjectType.TEXT: '1'>, metadata={}, hash='adc303e8bd74dbbfc8e560f75dede79c21b3abed92c8e87f7559d3a7749faf06')}, text='Black) 55 Inch LED Ultra HD (4K) TV (TH-55FX600D) TH-55FX600D 69999 55 inch LED 4K 3 4 Black 20 W\\nPanasonic Panasonic 49 Inches Ultra HD (4K) LED Smart TV (TH-49FX730D, Grey) 49 Inch LED Ultra HD (4K) TV (TH-49FX730D) TH-49FX730D 69999 49 inch LED 4K 3 3 Black 20 W\\nPanasonic Panasonic 50 Inches Full HD LED Smart TV (TH-50FS600D, Black) 50 Inch LED Full HD TV (TH-50FS600D) TH-50FS600D 35000 50 inch LED Full-HD 2 3 Black 20 W\\nPanasonic Panasonic 55 Inches Ultra HD (4K) LED Smart TV (TH-55FX650D, Grey) 55 Inch LED Ultra HD (4K) TV (TH-55FX650D) TH-55FX650D 64790 55 inch LED 4K 2 3 Black 20 W\\nSony Sony 55 Inches LED Ultra HD (4K) TV (KD-55X7400H, Black) 55 Inch LED Ultra HD TV (KD-55X7400H) KD-55X7400H 66999 55 inch LED 4K 2 3 Black 20 W\\nSony Sony 43 Inches Ultra HD (4K) LCD TV (KD-43X8500C, Black) 43 Inch LCD Ultra HD (4K) TV (KD-43X8500C) KD-43X8500C 85948 43 inch LED 4K 3 4 Black 20 W\\nSony Sony 49 Inches HD Ready LCD Smart TV (KD-49X8300D, Black) 49 Inch LED Ultra HD (4K) TV (KD-49X8300D) KD-49X8300D 99999 49 inch LED 4K 3 4 Black 20 W\\nSony Sony 55 Inches Ultra HD (4K) LCD TV (KD-55X8200E, Black) 55 Inch LED Ultra HD (4K) TV (KD-55X8200E) KD-55X8200E 124900 55 inch LED 4K 3 4 Black 40 W\\nSony Sony 55 Inches Ultra HD (4K) LED Smart Android TV (55X9000H, Black) 55-inch 4K HDR LED Android TV (55X9000H) KD-55X9000H 104990 55 inch LED 4K 2 4 Black 20W\\nSony Sony 40 Inches Full HD LCD Smart TV (KLV-40W562D, Black) 40 Inch LED Full HD TV (KLV-40W562D) KLV-40W562D 29999 39 inch LED Full-HD 2 2 Black 30 W\\nSony Sony 43 Inches Full HD LCD TV (KDL-43W800D, Black) 43 Inch LED Full HD TV (KDL-43W800D) KDL-43W800D 49999 43 inch LED Full-HD 2 4 Black 10 W x 2\\nSony Sony 40 Inches Full HD LCD Smart TV (KLV-40W672E, Black) 40 Inch LED Full HD TV (KLV-40W672E) KLV-40W672E 41499 40 inch LED Full-HD 2 2 Black 30 W\\nSony Sony 65 Inches Ultra HD (4K) LCD TV (KD-65X9300E, Black) 65 Inch LED Ultra HD (4K) TV (KD-65X9300E) KD-65X9300E 179999 65 inch LED 4K 3 4 Black 60 W\\nSony Sony 49 Inches Ultra HD (4K) LCD Smart TV (KD-49X7500E, Black) 49 Inch LED Ultra HD (4K) TV (KD-49X7500E) KD-49X7500E 71999 49 inch LED 4K 3 4 Black 20 W', mimetype='text/plain', start_char_idx=4149, end_char_idx=6282, text_template='{metadata_str}\\n\\n{content}', metadata_template='{key}: {value}', metadata_seperator='\\n'), score=None)], metadata={'b7f5a66f-9c37-462d-948a-23a3e2f7d348': {}, 'f6708db6-ed92-4f36-8fe2-6dc0d386519b': {}, '0996adaa-bee0-4a42-b12c-605012346dbd': {}})"
      ]
     },
     "execution_count": 26,
     "metadata": {},
     "output_type": "execute_result"
    }
   ],
   "source": [
    "response"
   ]
  },
  {
   "cell_type": "code",
   "execution_count": 27,
   "metadata": {},
   "outputs": [],
   "source": [
    "query_str = \"Which TV model has the most number of HDMI ports?\"\n",
    "base_response = base_query_engine.query(query_str)"
   ]
  },
  {
   "cell_type": "code",
   "execution_count": 28,
   "metadata": {},
   "outputs": [
    {
     "name": "stdout",
     "output_type": "stream",
     "text": [
      "******* PandasExcelReader *******\n",
      "Based on the provided context information, here is the answer to the question:\n",
      "\n",
      "The TV models with the most number of HDMI ports are:\n",
      "\n",
      "* Samsung 65 Inches Ultra HD (4K) LED Smart TV (65MU7500, Silver) - 4 HDMI ports\n",
      "* LG LG 65 Inches Ultra HD OLED Smart TV (OLED65B8PTA, Grey) - 4 HDMI ports\n",
      "* LG LG 65 Inches Ultra HD (4K) LED Smart TV (65UK7500PTA, Silver) - 4 HDMI ports\n",
      "* Panasonic Panasonic 65 Inches Ultra HD (4K) LED Smart TV (TH-65FX800D, Grey) - 4 HDMI ports\n",
      "* Sony Sony 55 Inches Ultra HD (4K) LED Smart Android TV (55X9000H, Black) - 4 HDMI ports\n",
      "\n",
      "Let me know if you have any further queries!\n"
     ]
    }
   ],
   "source": [
    "print(\"******* PandasExcelReader *******\")\n",
    "print(str(base_response))"
   ]
  },
  {
   "cell_type": "code",
   "execution_count": 30,
   "metadata": {},
   "outputs": [],
   "source": [
    "from llama_index.embeddings.huggingface import HuggingFaceEmbedding\n",
    "from llama_index.core import Settings\n",
    "\n",
    "Settings.embed_model = HuggingFaceEmbedding(\n",
    "    model_name=\"BAAI/bge-small-en-v1.5\"\n",
    ")"
   ]
  },
  {
   "cell_type": "code",
   "execution_count": 31,
   "metadata": {},
   "outputs": [
    {
     "name": "stdout",
     "output_type": "stream",
     "text": [
      "Empty Response\n"
     ]
    }
   ],
   "source": [
    "from llama_index.core import VectorStoreIndex, get_response_synthesizer\n",
    "from llama_index.core.retrievers import VectorIndexRetriever\n",
    "from llama_index.core.query_engine import RetrieverQueryEngine\n",
    "from llama_index.core.postprocessor import SimilarityPostprocessor\n",
    "\n",
    "# build index\n",
    "index = VectorStoreIndex.from_documents(base_docs)\n",
    "\n",
    "# configure retriever\n",
    "retriever = VectorIndexRetriever(\n",
    "    index=index,\n",
    "    similarity_top_k=10,\n",
    ")\n",
    "\n",
    "# configure response synthesizer\n",
    "response_synthesizer = get_response_synthesizer()\n",
    "\n",
    "# assemble query engine\n",
    "query_engine = RetrieverQueryEngine(\n",
    "    retriever=retriever,\n",
    "    response_synthesizer=response_synthesizer,\n",
    "    node_postprocessors=[SimilarityPostprocessor(similarity_cutoff=0.7)],\n",
    ")\n",
    "\n",
    "# query\n",
    "response = query_engine.query(\"How can you help me\")\n",
    "print(response)"
   ]
  },
  {
   "cell_type": "code",
   "execution_count": 33,
   "metadata": {},
   "outputs": [],
   "source": [
    "# %pip install llama-index\n",
    "# %pip install llama-index-retrievers-bm25"
   ]
  },
  {
   "cell_type": "code",
   "execution_count": 35,
   "metadata": {},
   "outputs": [],
   "source": [
    "\n",
    "from llama_index.core.node_parser import SentenceSplitter\n",
    "\n",
    "# initialize node parser\n",
    "splitter = SentenceSplitter(chunk_size=512)\n",
    "\n",
    "nodes = splitter.get_nodes_from_documents(base_docs)"
   ]
  },
  {
   "cell_type": "code",
   "execution_count": 36,
   "metadata": {},
   "outputs": [],
   "source": [
    "from llama_index.retrievers.bm25 import BM25Retriever\n",
    "import Stemmer\n",
    "\n",
    "# We can pass in the index, docstore, or list of nodes to create the retriever\n",
    "bm25_retriever = BM25Retriever.from_defaults(\n",
    "    nodes=nodes,\n",
    "    similarity_top_k=2,\n",
    "    # Optional: We can pass in the stemmer and set the language for stopwords\n",
    "    # This is important for removing stopwords and stemming the query + text\n",
    "    # The default is english for both\n",
    "    stemmer=Stemmer.Stemmer(\"english\"),\n",
    "    language=\"english\",\n",
    ")"
   ]
  },
  {
   "cell_type": "code",
   "execution_count": 37,
   "metadata": {},
   "outputs": [
    {
     "name": "stderr",
     "output_type": "stream",
     "text": [
      "Finding newlines for mmindex: 100%|██████████| 21.1k/21.1k [00:00<00:00, 9.01MB/s]\n"
     ]
    }
   ],
   "source": [
    "\n",
    "bm25_retriever.persist(\"./bm25_retriever\")\n",
    "\n",
    "loaded_bm25_retriever = BM25Retriever.from_persist_dir(\"./bm25_retriever\")"
   ]
  },
  {
   "cell_type": "code",
   "execution_count": 38,
   "metadata": {},
   "outputs": [],
   "source": [
    "# initialize a docstore to store nodes\n",
    "# also available are mongodb, redis, postgres, etc for docstores\n",
    "from llama_index.core.storage.docstore import SimpleDocumentStore\n",
    "\n",
    "docstore = SimpleDocumentStore()\n",
    "docstore.add_documents(nodes)"
   ]
  },
  {
   "cell_type": "code",
   "execution_count": 39,
   "metadata": {},
   "outputs": [],
   "source": [
    "from llama_index.retrievers.bm25 import BM25Retriever\n",
    "import Stemmer\n",
    "\n",
    "# We can pass in the index, docstore, or list of nodes to create the retriever\n",
    "bm25_retriever = BM25Retriever.from_defaults(\n",
    "    docstore=docstore,\n",
    "    similarity_top_k=2,\n",
    "    # Optional: We can pass in the stemmer and set the language for stopwords\n",
    "    # This is important for removing stopwords and stemming the query + text\n",
    "    # The default is english for both\n",
    "    stemmer=Stemmer.Stemmer(\"english\"),\n",
    "    language=\"english\",\n",
    ")"
   ]
  },
  {
   "cell_type": "code",
   "execution_count": 41,
   "metadata": {},
   "outputs": [
    {
     "name": "stderr",
     "output_type": "stream",
     "text": [
      "huggingface/tokenizers: The current process just got forked, after parallelism has already been used. Disabling parallelism to avoid deadlocks...\n",
      "To disable this warning, you can either:\n",
      "\t- Avoid using `tokenizers` before the fork if possible\n",
      "\t- Explicitly set the environment variable TOKENIZERS_PARALLELISM=(true | false)\n"
     ]
    },
    {
     "name": "stdout",
     "output_type": "stream",
     "text": [
      "Collecting matplotlib\n",
      "  Downloading matplotlib-3.9.2-cp311-cp311-manylinux_2_17_x86_64.manylinux2014_x86_64.whl.metadata (11 kB)\n",
      "Collecting contourpy>=1.0.1 (from matplotlib)\n",
      "  Using cached contourpy-1.2.1-cp311-cp311-manylinux_2_17_x86_64.manylinux2014_x86_64.whl.metadata (5.8 kB)\n",
      "Collecting cycler>=0.10 (from matplotlib)\n",
      "  Using cached cycler-0.12.1-py3-none-any.whl.metadata (3.8 kB)\n",
      "Collecting fonttools>=4.22.0 (from matplotlib)\n",
      "  Downloading fonttools-4.53.1-cp311-cp311-manylinux_2_17_x86_64.manylinux2014_x86_64.whl.metadata (162 kB)\n",
      "Collecting kiwisolver>=1.3.1 (from matplotlib)\n",
      "  Using cached kiwisolver-1.4.5-cp311-cp311-manylinux_2_17_x86_64.manylinux2014_x86_64.whl.metadata (6.4 kB)\n",
      "Requirement already satisfied: numpy>=1.23 in /home/chandanha/Documents/My_Documents/Excel_data_reader/my_env/lib/python3.11/site-packages (from matplotlib) (1.26.4)\n",
      "Requirement already satisfied: packaging>=20.0 in /home/chandanha/Documents/My_Documents/Excel_data_reader/my_env/lib/python3.11/site-packages (from matplotlib) (24.1)\n",
      "Requirement already satisfied: pillow>=8 in /home/chandanha/Documents/My_Documents/Excel_data_reader/my_env/lib/python3.11/site-packages (from matplotlib) (10.4.0)\n",
      "Collecting pyparsing>=2.3.1 (from matplotlib)\n",
      "  Using cached pyparsing-3.1.2-py3-none-any.whl.metadata (5.1 kB)\n",
      "Requirement already satisfied: python-dateutil>=2.7 in /home/chandanha/Documents/My_Documents/Excel_data_reader/my_env/lib/python3.11/site-packages (from matplotlib) (2.9.0.post0)\n",
      "Requirement already satisfied: six>=1.5 in /home/chandanha/Documents/My_Documents/Excel_data_reader/my_env/lib/python3.11/site-packages (from python-dateutil>=2.7->matplotlib) (1.16.0)\n",
      "Downloading matplotlib-3.9.2-cp311-cp311-manylinux_2_17_x86_64.manylinux2014_x86_64.whl (8.3 MB)\n",
      "\u001b[2K   \u001b[90m━━━━━━━━━━━━━━━━━━━━━━━━━━━━━━━━━━━━━━━━\u001b[0m \u001b[32m8.3/8.3 MB\u001b[0m \u001b[31m8.5 MB/s\u001b[0m eta \u001b[36m0:00:00\u001b[0ma \u001b[36m0:00:01\u001b[0m\n",
      "\u001b[?25hUsing cached contourpy-1.2.1-cp311-cp311-manylinux_2_17_x86_64.manylinux2014_x86_64.whl (306 kB)\n",
      "Using cached cycler-0.12.1-py3-none-any.whl (8.3 kB)\n",
      "Downloading fonttools-4.53.1-cp311-cp311-manylinux_2_17_x86_64.manylinux2014_x86_64.whl (4.9 MB)\n",
      "\u001b[2K   \u001b[90m━━━━━━━━━━━━━━━━━━━━━━━━━━━━━━━━━━━━━━━━\u001b[0m \u001b[32m4.9/4.9 MB\u001b[0m \u001b[31m9.4 MB/s\u001b[0m eta \u001b[36m0:00:00\u001b[0mta \u001b[36m0:00:01\u001b[0m\n",
      "\u001b[?25hUsing cached kiwisolver-1.4.5-cp311-cp311-manylinux_2_17_x86_64.manylinux2014_x86_64.whl (1.4 MB)\n",
      "Using cached pyparsing-3.1.2-py3-none-any.whl (103 kB)\n",
      "Installing collected packages: pyparsing, kiwisolver, fonttools, cycler, contourpy, matplotlib\n",
      "Successfully installed contourpy-1.2.1 cycler-0.12.1 fonttools-4.53.1 kiwisolver-1.4.5 matplotlib-3.9.2 pyparsing-3.1.2\n",
      "Note: you may need to restart the kernel to use updated packages.\n"
     ]
    }
   ],
   "source": [
    "%pip install matplotlib"
   ]
  },
  {
   "cell_type": "code",
   "execution_count": 42,
   "metadata": {},
   "outputs": [
    {
     "name": "stderr",
     "output_type": "stream",
     "text": [
      "Matplotlib is building the font cache; this may take a moment.\n"
     ]
    },
    {
     "data": {
      "text/markdown": [
       "**Node ID:** 98108259-ed51-4e3f-910d-499fb2a43850<br>**Similarity:** 0.0<br>**Text:** Black) 40 Inch LED Full HD TV (KLV-40W672E) KLV-40W672E 41499 40 inch LED Full-HD 2 2 Black 30 W\n",
       "Sony Sony 65 Inches Ultra HD (4K) LCD TV (KD-65X9300E, Black) 65 Inch LED Ultra HD (4K) TV (KD-65X9300E) KD-65X9300E 179999 65 inch LED 4K 3 4 Black 60 W\n",
       "Sony Sony 49 Inches Ultra HD (4K) LCD Smart TV (KD-49X7500E, Black) 49 Inch LED Ultra HD (4K) TV (KD-49X7500E) KD-49X7500E 71999 49 inch LED 4K 3 4 Black 20 W<br>"
      ],
      "text/plain": [
       "<IPython.core.display.Markdown object>"
      ]
     },
     "metadata": {},
     "output_type": "display_data"
    },
    {
     "data": {
      "text/markdown": [
       "**Node ID:** 0a2c2fac-6b48-4147-b8d5-3d63da073597<br>**Similarity:** 0.0<br>**Text:** Black) 55 Inch LED Ultra HD (4K) TV (55UK6360PTE) 55UK6360PTE 58999 55 inch LED 4K 1 2 Black 20 W\n",
       "LG LG 65 Inches Ultra HD OLED Smart TV (OLED65B8PTA, Grey) 65 Inch OLED Ultra HD (4K) TV (OLED65B8PTA) OLED65B8PTA 259350 65 inch OLED 4K 1 3 Black 40 W\n",
       "LG LG 32 Inches HD Ready LED Smart TV (32LK628BPTF) 32 Inch LED HD Ready TV (32LK628BPTF) 32LK628BPTF 20990 32 inch LED HD-Ready 1 3 Black 35 W\n",
       "LG LG 55 Inches Ultra HD LED Smart TV (55UK6500PTC, Black) 55 Inch LED Ultra HD (4K) TV (55UK6500PTC) 55UK6500PTC 71462 55 inch LED 4K 2 4 Black 20 W\n",
       "LG LG 55 Inches Ultra HD (4K) LED Smart TV (55UK7500PTA, Silver) 55 Inch LED Ultra HD (4K) TV (55UK7500PTA) 55UK7500PTA 65195 55 inch LED 4K 2 4 Black 20 W\n",
       "LG LG 55 Inches Ultra HD (4K) OLED Smart TV (OLED55B8PTA, Grey) 55 Inch OLED Ultra HD (4K) TV (OLED55B8PTA) OLED55B8PTA 159999 55 inch OLED 4K 1 3 Grey 40 W\n",
       "LG LG 65 Inches Ultra HD (4K) OLED Smart TV (OLED65C8PTA) 65 Inch OLED Ultra HD (4K) TV (OLED65C8PTA) OLED65C8PTA 249999 65 inch OLED 4K 1 2 Black 40 W\n",
       "LG LG 65 Inches Ultra HD (4K) LED Smart TV (65UK7500PTA,<br>"
      ],
      "text/plain": [
       "<IPython.core.display.Markdown object>"
      ]
     },
     "metadata": {},
     "output_type": "display_data"
    }
   ],
   "source": [
    "from llama_index.core.response.notebook_utils import display_source_node\n",
    "\n",
    "# will retrieve context from specific companies\n",
    "retrieved_nodes = bm25_retriever.retrieve(\n",
    "    \"List all the different types of Resolution Standard\"\n",
    ")\n",
    "for node in retrieved_nodes:\n",
    "    display_source_node(node, source_length=5000)"
   ]
  },
  {
   "cell_type": "code",
   "execution_count": 43,
   "metadata": {},
   "outputs": [
    {
     "ename": "NameError",
     "evalue": "name 'list_query_engine' is not defined",
     "output_type": "error",
     "traceback": [
      "\u001b[0;31m---------------------------------------------------------------------------\u001b[0m",
      "\u001b[0;31mNameError\u001b[0m                                 Traceback (most recent call last)",
      "Cell \u001b[0;32mIn[43], line 7\u001b[0m\n\u001b[1;32m      2\u001b[0m \u001b[38;5;28;01mfrom\u001b[39;00m \u001b[38;5;21;01mllama_index\u001b[39;00m\u001b[38;5;21;01m.\u001b[39;00m\u001b[38;5;21;01mcore\u001b[39;00m\u001b[38;5;21;01m.\u001b[39;00m\u001b[38;5;21;01mselectors\u001b[39;00m \u001b[38;5;28;01mimport\u001b[39;00m PydanticSingleSelector\n\u001b[1;32m      3\u001b[0m \u001b[38;5;28;01mfrom\u001b[39;00m \u001b[38;5;21;01mllama_index\u001b[39;00m\u001b[38;5;21;01m.\u001b[39;00m\u001b[38;5;21;01mcore\u001b[39;00m\u001b[38;5;21;01m.\u001b[39;00m\u001b[38;5;21;01mtools\u001b[39;00m \u001b[38;5;28;01mimport\u001b[39;00m QueryEngineTool\n\u001b[1;32m      6\u001b[0m list_tool \u001b[38;5;241m=\u001b[39m QueryEngineTool\u001b[38;5;241m.\u001b[39mfrom_defaults(\n\u001b[0;32m----> 7\u001b[0m     query_engine\u001b[38;5;241m=\u001b[39m\u001b[43mlist_query_engine\u001b[49m,\n\u001b[1;32m      8\u001b[0m     description\u001b[38;5;241m=\u001b[39m\u001b[38;5;124m\"\u001b[39m\u001b[38;5;124mUseful for summarization questions related to the data source\u001b[39m\u001b[38;5;124m\"\u001b[39m,\n\u001b[1;32m      9\u001b[0m )\n\u001b[1;32m     10\u001b[0m vector_tool \u001b[38;5;241m=\u001b[39m QueryEngineTool\u001b[38;5;241m.\u001b[39mfrom_defaults(\n\u001b[1;32m     11\u001b[0m     query_engine\u001b[38;5;241m=\u001b[39mvector_query_engine,\n\u001b[1;32m     12\u001b[0m     description\u001b[38;5;241m=\u001b[39m\u001b[38;5;124m\"\u001b[39m\u001b[38;5;124mUseful for retrieving specific context related to the data source\u001b[39m\u001b[38;5;124m\"\u001b[39m,\n\u001b[1;32m     13\u001b[0m )\n\u001b[1;32m     15\u001b[0m query_engine \u001b[38;5;241m=\u001b[39m RouterQueryEngine(\n\u001b[1;32m     16\u001b[0m     selector\u001b[38;5;241m=\u001b[39mPydanticSingleSelector\u001b[38;5;241m.\u001b[39mfrom_defaults(),\n\u001b[1;32m     17\u001b[0m     query_engine_tools\u001b[38;5;241m=\u001b[39m[\n\u001b[0;32m   (...)\u001b[0m\n\u001b[1;32m     20\u001b[0m     ],\n\u001b[1;32m     21\u001b[0m )\n",
      "\u001b[0;31mNameError\u001b[0m: name 'list_query_engine' is not defined"
     ]
    }
   ],
   "source": [
    "from llama_index.core.query_engine import RouterQueryEngine\n",
    "from llama_index.core.selectors import PydanticSingleSelector\n",
    "from llama_index.core.tools import QueryEngineTool\n",
    "\n",
    "\n",
    "list_tool = QueryEngineTool.from_defaults(\n",
    "    query_engine=list_query_engine,\n",
    "    description=\"Useful for summarization questions related to the data source\",\n",
    ")\n",
    "vector_tool = QueryEngineTool.from_defaults(\n",
    "    query_engine=vector_query_engine,\n",
    "    description=\"Useful for retrieving specific context related to the data source\",\n",
    ")\n",
    "\n",
    "query_engine = RouterQueryEngine(\n",
    "    selector=PydanticSingleSelector.from_defaults(),\n",
    "    query_engine_tools=[\n",
    "        list_tool,\n",
    "        vector_tool,\n",
    "    ],\n",
    ")\n",
    "query_engine.query(\"<query>\")"
   ]
  },
  {
   "cell_type": "code",
   "execution_count": 44,
   "metadata": {},
   "outputs": [
    {
     "ename": "ValueError",
     "evalue": "Model name META-LLAMA/LLAMA-3-70B-CHAT-HF does not support function calling API. ",
     "output_type": "error",
     "traceback": [
      "\u001b[0;31m---------------------------------------------------------------------------\u001b[0m",
      "\u001b[0;31mValueError\u001b[0m                                Traceback (most recent call last)",
      "Cell \u001b[0;32mIn[44], line 9\u001b[0m\n\u001b[1;32m      2\u001b[0m \u001b[38;5;28;01mfrom\u001b[39;00m \u001b[38;5;21;01mllama_index\u001b[39;00m\u001b[38;5;21;01m.\u001b[39;00m\u001b[38;5;21;01mcore\u001b[39;00m\u001b[38;5;21;01m.\u001b[39;00m\u001b[38;5;21;01mselectors\u001b[39;00m \u001b[38;5;28;01mimport\u001b[39;00m (\n\u001b[1;32m      3\u001b[0m     PydanticMultiSelector,\n\u001b[1;32m      4\u001b[0m     PydanticSingleSelector,\n\u001b[1;32m      5\u001b[0m )\n\u001b[1;32m      7\u001b[0m \u001b[38;5;66;03m# pydantic selectors feed in pydantic objects to a function calling API\u001b[39;00m\n\u001b[1;32m      8\u001b[0m \u001b[38;5;66;03m# single selector (pydantic)\u001b[39;00m\n\u001b[0;32m----> 9\u001b[0m selector \u001b[38;5;241m=\u001b[39m \u001b[43mPydanticSingleSelector\u001b[49m\u001b[38;5;241;43m.\u001b[39;49m\u001b[43mfrom_defaults\u001b[49m\u001b[43m(\u001b[49m\u001b[43m)\u001b[49m\n\u001b[1;32m     10\u001b[0m \u001b[38;5;66;03m# multi selector (pydantic)\u001b[39;00m\n\u001b[1;32m     11\u001b[0m selector \u001b[38;5;241m=\u001b[39m PydanticMultiSelector\u001b[38;5;241m.\u001b[39mfrom_defaults()\n",
      "File \u001b[0;32m~/Documents/My_Documents/Excel_data_reader/my_env/lib/python3.11/site-packages/llama_index/core/selectors/pydantic_selectors.py:61\u001b[0m, in \u001b[0;36mPydanticSingleSelector.from_defaults\u001b[0;34m(cls, program, llm, prompt_template_str, verbose)\u001b[0m\n\u001b[1;32m     56\u001b[0m     \u001b[38;5;28;01mraise\u001b[39;00m \u001b[38;5;167;01mImportError\u001b[39;00m(\n\u001b[1;32m     57\u001b[0m         \u001b[38;5;124m\"\u001b[39m\u001b[38;5;124m`llama-index-program-openai` package is missing. \u001b[39m\u001b[38;5;124m\"\u001b[39m\n\u001b[1;32m     58\u001b[0m         \u001b[38;5;124m\"\u001b[39m\u001b[38;5;124mPlease install using `pip install llama-index-program-openai`.\u001b[39m\u001b[38;5;124m\"\u001b[39m\n\u001b[1;32m     59\u001b[0m     )\n\u001b[1;32m     60\u001b[0m \u001b[38;5;28;01mif\u001b[39;00m program \u001b[38;5;129;01mis\u001b[39;00m \u001b[38;5;28;01mNone\u001b[39;00m:\n\u001b[0;32m---> 61\u001b[0m     program \u001b[38;5;241m=\u001b[39m \u001b[43mOpenAIPydanticProgram\u001b[49m\u001b[38;5;241;43m.\u001b[39;49m\u001b[43mfrom_defaults\u001b[49m\u001b[43m(\u001b[49m\n\u001b[1;32m     62\u001b[0m \u001b[43m        \u001b[49m\u001b[43moutput_cls\u001b[49m\u001b[38;5;241;43m=\u001b[39;49m\u001b[43mSingleSelection\u001b[49m\u001b[43m,\u001b[49m\n\u001b[1;32m     63\u001b[0m \u001b[43m        \u001b[49m\u001b[43mprompt_template_str\u001b[49m\u001b[38;5;241;43m=\u001b[39;49m\u001b[43mprompt_template_str\u001b[49m\u001b[43m,\u001b[49m\n\u001b[1;32m     64\u001b[0m \u001b[43m        \u001b[49m\u001b[43mllm\u001b[49m\u001b[38;5;241;43m=\u001b[39;49m\u001b[43mllm\u001b[49m\u001b[43m,\u001b[49m\n\u001b[1;32m     65\u001b[0m \u001b[43m        \u001b[49m\u001b[43mverbose\u001b[49m\u001b[38;5;241;43m=\u001b[39;49m\u001b[43mverbose\u001b[49m\u001b[43m,\u001b[49m\n\u001b[1;32m     66\u001b[0m \u001b[43m    \u001b[49m\u001b[43m)\u001b[49m\n\u001b[1;32m     68\u001b[0m \u001b[38;5;28;01mreturn\u001b[39;00m \u001b[38;5;28mcls\u001b[39m(selector_program\u001b[38;5;241m=\u001b[39mprogram)\n",
      "File \u001b[0;32m~/Documents/My_Documents/Excel_data_reader/my_env/lib/python3.11/site-packages/llama_index/program/openai/base.py:129\u001b[0m, in \u001b[0;36mOpenAIPydanticProgram.from_defaults\u001b[0;34m(cls, output_cls, prompt_template_str, prompt, llm, verbose, allow_multiple, tool_choice, **kwargs)\u001b[0m\n\u001b[1;32m    124\u001b[0m     \u001b[38;5;28;01mraise\u001b[39;00m \u001b[38;5;167;01mValueError\u001b[39;00m(\n\u001b[1;32m    125\u001b[0m         \u001b[38;5;124m\"\u001b[39m\u001b[38;5;124mOpenAIPydanticProgram only supports OpenAI LLMs. \u001b[39m\u001b[38;5;124m\"\u001b[39m \u001b[38;5;124mf\u001b[39m\u001b[38;5;124m\"\u001b[39m\u001b[38;5;124mGot: \u001b[39m\u001b[38;5;132;01m{\u001b[39;00m\u001b[38;5;28mtype\u001b[39m(llm)\u001b[38;5;132;01m}\u001b[39;00m\u001b[38;5;124m\"\u001b[39m\n\u001b[1;32m    126\u001b[0m     )\n\u001b[1;32m    128\u001b[0m \u001b[38;5;28;01mif\u001b[39;00m \u001b[38;5;129;01mnot\u001b[39;00m llm\u001b[38;5;241m.\u001b[39mmetadata\u001b[38;5;241m.\u001b[39mis_function_calling_model:\n\u001b[0;32m--> 129\u001b[0m     \u001b[38;5;28;01mraise\u001b[39;00m \u001b[38;5;167;01mValueError\u001b[39;00m(\n\u001b[1;32m    130\u001b[0m         \u001b[38;5;124mf\u001b[39m\u001b[38;5;124m\"\u001b[39m\u001b[38;5;124mModel name \u001b[39m\u001b[38;5;132;01m{\u001b[39;00mllm\u001b[38;5;241m.\u001b[39mmetadata\u001b[38;5;241m.\u001b[39mmodel_name\u001b[38;5;132;01m}\u001b[39;00m\u001b[38;5;124m does not support \u001b[39m\u001b[38;5;124m\"\u001b[39m\n\u001b[1;32m    131\u001b[0m         \u001b[38;5;124m\"\u001b[39m\u001b[38;5;124mfunction calling API. \u001b[39m\u001b[38;5;124m\"\u001b[39m\n\u001b[1;32m    132\u001b[0m     )\n\u001b[1;32m    134\u001b[0m \u001b[38;5;28;01mif\u001b[39;00m prompt \u001b[38;5;129;01mis\u001b[39;00m \u001b[38;5;28;01mNone\u001b[39;00m \u001b[38;5;129;01mand\u001b[39;00m prompt_template_str \u001b[38;5;129;01mis\u001b[39;00m \u001b[38;5;28;01mNone\u001b[39;00m:\n\u001b[1;32m    135\u001b[0m     \u001b[38;5;28;01mraise\u001b[39;00m \u001b[38;5;167;01mValueError\u001b[39;00m(\u001b[38;5;124m\"\u001b[39m\u001b[38;5;124mMust provide either prompt or prompt_template_str.\u001b[39m\u001b[38;5;124m\"\u001b[39m)\n",
      "\u001b[0;31mValueError\u001b[0m: Model name META-LLAMA/LLAMA-3-70B-CHAT-HF does not support function calling API. "
     ]
    }
   ],
   "source": [
    "from llama_index.core.selectors import LLMSingleSelector, LLMMultiSelector\n",
    "from llama_index.core.selectors import (\n",
    "    PydanticMultiSelector,\n",
    "    PydanticSingleSelector,\n",
    ")\n",
    "\n",
    "# pydantic selectors feed in pydantic objects to a function calling API\n",
    "# single selector (pydantic)\n",
    "selector = PydanticSingleSelector.from_defaults()\n",
    "# multi selector (pydantic)\n",
    "selector = PydanticMultiSelector.from_defaults()\n",
    "\n",
    "# LLM selectors use text completion endpoints\n",
    "# single selector (LLM)\n",
    "selector = LLMSingleSelector.from_defaults()\n",
    "# multi selector (LLM)\n",
    "selector = LLMMultiSelector.from_defaults()"
   ]
  },
  {
   "cell_type": "code",
   "execution_count": null,
   "metadata": {},
   "outputs": [],
   "source": []
  }
 ],
 "metadata": {
  "kernelspec": {
   "display_name": "my_env",
   "language": "python",
   "name": "python3"
  },
  "language_info": {
   "codemirror_mode": {
    "name": "ipython",
    "version": 3
   },
   "file_extension": ".py",
   "mimetype": "text/x-python",
   "name": "python",
   "nbconvert_exporter": "python",
   "pygments_lexer": "ipython3",
   "version": "3.11.5"
  }
 },
 "nbformat": 4,
 "nbformat_minor": 2
}
